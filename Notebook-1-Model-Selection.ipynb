{
 "cells": [
  {
   "cell_type": "markdown",
   "metadata": {},
   "source": [
    "# Notebook 1 - Model Selection"
   ]
  },
  {
   "cell_type": "markdown",
   "metadata": {},
   "source": [
    "This notebook contains the code snippets we used for selecting and evaluating the selected model with preprocessed training dataset."
   ]
  },
  {
   "cell_type": "markdown",
   "metadata": {},
   "source": [
    "### Install Required Dependancies"
   ]
  },
  {
   "cell_type": "code",
   "execution_count": 1,
   "metadata": {
    "colab": {
     "base_uri": "https://localhost:8080/"
    },
    "id": "SEdDu5wtiYC4",
    "outputId": "c3cf3b45-54c9-48b4-a9e8-7ff5753e58e8"
   },
   "outputs": [
    {
     "name": "stdout",
     "output_type": "stream",
     "text": [
      "Requirement already satisfied: fuzzywuzzy in e:\\projects - ai\\ml-studies\\env\\lib\\site-packages (0.18.0)\n"
     ]
    },
    {
     "name": "stderr",
     "output_type": "stream",
     "text": [
      "\n",
      "[notice] A new release of pip is available: 23.2.1 -> 24.0\n",
      "[notice] To update, run: python.exe -m pip install --upgrade pip\n"
     ]
    }
   ],
   "source": [
    "!pip install fuzzywuzzy"
   ]
  },
  {
   "cell_type": "code",
   "execution_count": 2,
   "metadata": {
    "colab": {
     "base_uri": "https://localhost:8080/"
    },
    "id": "v_bgKKyqs9Lg",
    "outputId": "544e0038-6796-4bc3-96dd-00f5690eac80"
   },
   "outputs": [
    {
     "name": "stdout",
     "output_type": "stream",
     "text": [
      "Collecting word2number\n",
      "  Downloading word2number-1.1.zip (9.7 kB)\n",
      "  Installing build dependencies: started\n",
      "  Installing build dependencies: finished with status 'done'\n",
      "  Getting requirements to build wheel: started\n",
      "  Getting requirements to build wheel: finished with status 'done'\n",
      "  Preparing metadata (pyproject.toml): started\n",
      "  Preparing metadata (pyproject.toml): finished with status 'done'\n",
      "Building wheels for collected packages: word2number\n",
      "  Building wheel for word2number (pyproject.toml): started\n",
      "  Building wheel for word2number (pyproject.toml): finished with status 'done'\n",
      "  Created wheel for word2number: filename=word2number-1.1-py3-none-any.whl size=5589 sha256=8ca98a3205f03054463b189841342bcee22b5adda05766a8819b83bdb2f74d2d\n",
      "  Stored in directory: c:\\users\\acer\\appdata\\local\\pip\\cache\\wheels\\cd\\ef\\ae\\073b491b14d25e2efafcffca9e16b2ee6d114ec5c643ba4f06\n",
      "Successfully built word2number\n",
      "Installing collected packages: word2number\n",
      "Successfully installed word2number-1.1\n"
     ]
    },
    {
     "name": "stderr",
     "output_type": "stream",
     "text": [
      "\n",
      "[notice] A new release of pip is available: 23.2.1 -> 24.0\n",
      "[notice] To update, run: python.exe -m pip install --upgrade pip\n"
     ]
    }
   ],
   "source": [
    "!pip install word2number"
   ]
  },
  {
   "cell_type": "code",
   "execution_count": 3,
   "metadata": {
    "colab": {
     "base_uri": "https://localhost:8080/"
    },
    "id": "3njvbltLwCoK",
    "outputId": "bbaefe9a-3d3a-4927-b7fb-ec9ea1a07e33"
   },
   "outputs": [
    {
     "name": "stdout",
     "output_type": "stream",
     "text": [
      "Collecting pyspellchecker\n",
      "  Obtaining dependency information for pyspellchecker from https://files.pythonhosted.org/packages/e1/d2/c7e3b3a61a34b9320399fa731d1f9f0c73db8a1f28c6764e9e11efa68a29/pyspellchecker-0.8.1-py3-none-any.whl.metadata\n",
      "  Using cached pyspellchecker-0.8.1-py3-none-any.whl.metadata (9.4 kB)\n",
      "Using cached pyspellchecker-0.8.1-py3-none-any.whl (6.8 MB)\n",
      "Installing collected packages: pyspellchecker\n",
      "Successfully installed pyspellchecker-0.8.1\n"
     ]
    },
    {
     "name": "stderr",
     "output_type": "stream",
     "text": [
      "\n",
      "[notice] A new release of pip is available: 23.2.1 -> 24.0\n",
      "[notice] To update, run: python.exe -m pip install --upgrade pip\n"
     ]
    }
   ],
   "source": [
    "!pip install pyspellchecker"
   ]
  },
  {
   "cell_type": "markdown",
   "metadata": {
    "id": "v9ZqIrrZNA8x"
   },
   "source": [
    "### Import Dependancies"
   ]
  },
  {
   "cell_type": "code",
   "execution_count": 5,
   "metadata": {
    "id": "nA-uv8c6Mut8"
   },
   "outputs": [],
   "source": [
    "import pandas as pd\n",
    "import numpy as np\n",
    "\n",
    "import seaborn as sns\n",
    "import matplotlib.pyplot as plt\n",
    "\n",
    "import fuzzywuzzy\n",
    "from fuzzywuzzy import process\n",
    "import charset_normalizer\n",
    "\n",
    "from sklearn.model_selection import cross_val_score, train_test_split\n",
    "from sklearn.metrics import accuracy_score, precision_score, recall_score, f1_score, roc_auc_score\n",
    "\n",
    "from sklearn.preprocessing import OneHotEncoder\n",
    "from sklearn.preprocessing import OrdinalEncoder\n",
    "from sklearn.preprocessing import StandardScaler\n",
    "from sklearn.compose import ColumnTransformer\n",
    "from sklearn.pipeline import Pipeline\n",
    "\n",
    "from sklearn.linear_model import LogisticRegression\n",
    "from sklearn.neighbors import KNeighborsClassifier\n",
    "from sklearn.tree import DecisionTreeClassifier\n",
    "from sklearn.ensemble import RandomForestClassifier, AdaBoostClassifier, GradientBoostingClassifier\n",
    "from xgboost import XGBClassifier\n",
    "from catboost import CatBoostClassifier\n",
    "from sklearn.svm import SVC\n",
    "\n",
    "import re\n",
    "from word2number import w2n\n",
    "from spellchecker import SpellChecker\n",
    "from scipy.stats import chi2_contingency"
   ]
  },
  {
   "cell_type": "code",
   "execution_count": 6,
   "metadata": {
    "colab": {
     "base_uri": "https://localhost:8080/"
    },
    "id": "bHMEcVbZM8kx",
    "outputId": "82e8578c-1513-482f-fa9e-813911729ee5"
   },
   "outputs": [
    {
     "name": "stderr",
     "output_type": "stream",
     "text": [
      "C:\\Users\\Acer\\AppData\\Local\\Temp\\ipykernel_9628\\2350853144.py:2: DtypeWarning: Columns (3,4,5) have mixed types. Specify dtype option on import or set low_memory=False.\n",
      "  data = pd.read_csv(\"./data/train_kaggle.csv\")\n"
     ]
    }
   ],
   "source": [
    "# Loading the dataset\n",
    "data = pd.read_csv(\"./data/train_kaggle.csv\")"
   ]
  },
  {
   "cell_type": "markdown",
   "metadata": {
    "id": "OwVIcXAKNAcw"
   },
   "source": [
    "## Exploratory Data Analysis (EDA)"
   ]
  },
  {
   "cell_type": "code",
   "execution_count": 7,
   "metadata": {
    "colab": {
     "base_uri": "https://localhost:8080/"
    },
    "id": "K2omltVbNBLh",
    "outputId": "16726ede-8dd3-4adb-e312-0cea0f4313d7"
   },
   "outputs": [
    {
     "name": "stdout",
     "output_type": "stream",
     "text": [
      "Shape of the dataset: (774155, 6)\n"
     ]
    }
   ],
   "source": [
    "# Checking the shape of the dataset\n",
    "print(\"Shape of the dataset:\", data.shape)"
   ]
  },
  {
   "cell_type": "code",
   "execution_count": 8,
   "metadata": {
    "colab": {
     "base_uri": "https://localhost:8080/",
     "height": 424
    },
    "id": "ARhkPCAE2v4K",
    "outputId": "b4960a62-7f99-4ba0-f98b-5afa73584031"
   },
   "outputs": [
    {
     "data": {
      "text/html": [
       "<div>\n",
       "<style scoped>\n",
       "    .dataframe tbody tr th:only-of-type {\n",
       "        vertical-align: middle;\n",
       "    }\n",
       "\n",
       "    .dataframe tbody tr th {\n",
       "        vertical-align: top;\n",
       "    }\n",
       "\n",
       "    .dataframe thead th {\n",
       "        text-align: right;\n",
       "    }\n",
       "</style>\n",
       "<table border=\"1\" class=\"dataframe\">\n",
       "  <thead>\n",
       "    <tr style=\"text-align: right;\">\n",
       "      <th></th>\n",
       "      <th>Customer_ID</th>\n",
       "      <th>outlet_city</th>\n",
       "      <th>luxury_sales</th>\n",
       "      <th>fresh_sales</th>\n",
       "      <th>dry_sales</th>\n",
       "      <th>cluster_catgeory</th>\n",
       "    </tr>\n",
       "  </thead>\n",
       "  <tbody>\n",
       "    <tr>\n",
       "      <th>0</th>\n",
       "      <td>10493832.0</td>\n",
       "      <td>Kelaniya</td>\n",
       "      <td>1209.6</td>\n",
       "      <td>756.0</td>\n",
       "      <td>5292.0</td>\n",
       "      <td>4</td>\n",
       "    </tr>\n",
       "    <tr>\n",
       "      <th>1</th>\n",
       "      <td>10178643.0</td>\n",
       "      <td>Moratuwa</td>\n",
       "      <td>1590.12</td>\n",
       "      <td>1060.08</td>\n",
       "      <td>6007.12</td>\n",
       "      <td>1</td>\n",
       "    </tr>\n",
       "    <tr>\n",
       "      <th>2</th>\n",
       "      <td>10513916.0</td>\n",
       "      <td>Wattala</td>\n",
       "      <td>2288.88</td>\n",
       "      <td>1481.04</td>\n",
       "      <td>9155.52</td>\n",
       "      <td>4</td>\n",
       "    </tr>\n",
       "    <tr>\n",
       "      <th>3</th>\n",
       "      <td>10334589.0</td>\n",
       "      <td>Wattala</td>\n",
       "      <td>2274.94</td>\n",
       "      <td>1739.66</td>\n",
       "      <td>9099.76</td>\n",
       "      <td>4</td>\n",
       "    </tr>\n",
       "    <tr>\n",
       "      <th>4</th>\n",
       "      <td>10458365.0</td>\n",
       "      <td>Kelaniya</td>\n",
       "      <td>2345.49</td>\n",
       "      <td>2069.55</td>\n",
       "      <td>9243.99</td>\n",
       "      <td>4</td>\n",
       "    </tr>\n",
       "    <tr>\n",
       "      <th>...</th>\n",
       "      <td>...</td>\n",
       "      <td>...</td>\n",
       "      <td>...</td>\n",
       "      <td>...</td>\n",
       "      <td>...</td>\n",
       "      <td>...</td>\n",
       "    </tr>\n",
       "    <tr>\n",
       "      <th>95</th>\n",
       "      <td>10627121.0</td>\n",
       "      <td>Nuwara Eliya</td>\n",
       "      <td>1677.51</td>\n",
       "      <td>1059.48</td>\n",
       "      <td>6003.72</td>\n",
       "      <td>4</td>\n",
       "    </tr>\n",
       "    <tr>\n",
       "      <th>96</th>\n",
       "      <td>10239595.0</td>\n",
       "      <td>Dehiwala-Mount Lavinia</td>\n",
       "      <td>1253.24</td>\n",
       "      <td>791.52</td>\n",
       "      <td>4419.32</td>\n",
       "      <td>4</td>\n",
       "    </tr>\n",
       "    <tr>\n",
       "      <th>97</th>\n",
       "      <td>10575736.0</td>\n",
       "      <td>Panadura</td>\n",
       "      <td>1744.16</td>\n",
       "      <td>1417.13</td>\n",
       "      <td>7194.66</td>\n",
       "      <td>4</td>\n",
       "    </tr>\n",
       "    <tr>\n",
       "      <th>98</th>\n",
       "      <td>10631593.0</td>\n",
       "      <td>Nuwara Eliya</td>\n",
       "      <td>1649.4</td>\n",
       "      <td>1429.48</td>\n",
       "      <td>7477.28</td>\n",
       "      <td>4</td>\n",
       "    </tr>\n",
       "    <tr>\n",
       "      <th>99</th>\n",
       "      <td>10629407.0</td>\n",
       "      <td>Moratuwa</td>\n",
       "      <td>1935.68</td>\n",
       "      <td>1814.7</td>\n",
       "      <td>8347.62</td>\n",
       "      <td>4</td>\n",
       "    </tr>\n",
       "  </tbody>\n",
       "</table>\n",
       "<p>100 rows × 6 columns</p>\n",
       "</div>"
      ],
      "text/plain": [
       "    Customer_ID             outlet_city luxury_sales fresh_sales dry_sales  \\\n",
       "0    10493832.0                Kelaniya       1209.6       756.0    5292.0   \n",
       "1    10178643.0                Moratuwa      1590.12     1060.08   6007.12   \n",
       "2    10513916.0                 Wattala      2288.88     1481.04   9155.52   \n",
       "3    10334589.0                 Wattala      2274.94     1739.66   9099.76   \n",
       "4    10458365.0                Kelaniya      2345.49     2069.55   9243.99   \n",
       "..          ...                     ...          ...         ...       ...   \n",
       "95   10627121.0            Nuwara Eliya      1677.51     1059.48   6003.72   \n",
       "96   10239595.0  Dehiwala-Mount Lavinia      1253.24      791.52   4419.32   \n",
       "97   10575736.0                Panadura      1744.16     1417.13   7194.66   \n",
       "98   10631593.0            Nuwara Eliya       1649.4     1429.48   7477.28   \n",
       "99   10629407.0                Moratuwa      1935.68      1814.7   8347.62   \n",
       "\n",
       "   cluster_catgeory  \n",
       "0                 4  \n",
       "1                 1  \n",
       "2                 4  \n",
       "3                 4  \n",
       "4                 4  \n",
       "..              ...  \n",
       "95                4  \n",
       "96                4  \n",
       "97                4  \n",
       "98                4  \n",
       "99                4  \n",
       "\n",
       "[100 rows x 6 columns]"
      ]
     },
     "execution_count": 8,
     "metadata": {},
     "output_type": "execute_result"
    }
   ],
   "source": [
    "data.head(100)"
   ]
  },
  {
   "cell_type": "code",
   "execution_count": 9,
   "metadata": {
    "colab": {
     "base_uri": "https://localhost:8080/"
    },
    "id": "g9R199jLNETo",
    "outputId": "636a6690-e71a-4c9a-98e4-7b02ecdadb63"
   },
   "outputs": [
    {
     "name": "stdout",
     "output_type": "stream",
     "text": [
      "First few rows of the dataset:\n",
      "   Customer_ID outlet_city luxury_sales fresh_sales dry_sales cluster_catgeory\n",
      "0   10493832.0    Kelaniya       1209.6       756.0    5292.0                4\n",
      "1   10178643.0    Moratuwa      1590.12     1060.08   6007.12                1\n",
      "2   10513916.0     Wattala      2288.88     1481.04   9155.52                4\n",
      "3   10334589.0     Wattala      2274.94     1739.66   9099.76                4\n",
      "4   10458365.0    Kelaniya      2345.49     2069.55   9243.99                4\n"
     ]
    }
   ],
   "source": [
    "# Checking the first few rows of the dataset\n",
    "print(\"First few rows of the dataset:\")\n",
    "print(data.head())"
   ]
  },
  {
   "cell_type": "code",
   "execution_count": 10,
   "metadata": {
    "id": "qd34r08CPOFd"
   },
   "outputs": [],
   "source": [
    "#Rename cluster column\n",
    "data = data.rename(columns={'cluster_catgeory': 'cluster_category'})"
   ]
  },
  {
   "cell_type": "code",
   "execution_count": 11,
   "metadata": {
    "colab": {
     "base_uri": "https://localhost:8080/"
    },
    "id": "D2Csw2JINLIQ",
    "outputId": "4e58ac68-340c-4b59-de4e-ca7823d718f2"
   },
   "outputs": [
    {
     "data": {
      "text/plain": [
       "(774155, 6)"
      ]
     },
     "execution_count": 11,
     "metadata": {},
     "output_type": "execute_result"
    }
   ],
   "source": [
    "# Checking size and dimensions of dataset\n",
    "data.shape"
   ]
  },
  {
   "cell_type": "code",
   "execution_count": 12,
   "metadata": {
    "colab": {
     "base_uri": "https://localhost:8080/"
    },
    "id": "nwsBMgSuNHAY",
    "outputId": "90c97656-d950-4ea8-ed43-7926c6d52641"
   },
   "outputs": [
    {
     "name": "stdout",
     "output_type": "stream",
     "text": [
      "Summary statistics of the dataset:\n",
      "        Customer_ID\n",
      "count  7.741530e+05\n",
      "mean   1.038708e+07\n",
      "std    2.234795e+05\n",
      "min    1.000000e+07\n",
      "25%    1.019354e+07\n",
      "50%    1.038708e+07\n",
      "75%    1.058062e+07\n",
      "max    1.077415e+07\n"
     ]
    }
   ],
   "source": [
    "# Checking the summary statistics of the dataset\n",
    "print(\"Summary statistics of the dataset:\")\n",
    "print(data.describe())"
   ]
  },
  {
   "cell_type": "code",
   "execution_count": 13,
   "metadata": {
    "colab": {
     "base_uri": "https://localhost:8080/"
    },
    "id": "nmUvvQv4O7fT",
    "outputId": "15c57009-3909-4b36-d29f-ddc40e499925"
   },
   "outputs": [
    {
     "name": "stdout",
     "output_type": "stream",
     "text": [
      "<class 'pandas.core.frame.DataFrame'>\n",
      "RangeIndex: 774155 entries, 0 to 774154\n",
      "Data columns (total 6 columns):\n",
      " #   Column            Non-Null Count   Dtype  \n",
      "---  ------            --------------   -----  \n",
      " 0   Customer_ID       774153 non-null  float64\n",
      " 1   outlet_city       774153 non-null  object \n",
      " 2   luxury_sales      774120 non-null  object \n",
      " 3   fresh_sales       774114 non-null  object \n",
      " 4   dry_sales         774125 non-null  object \n",
      " 5   cluster_category  774154 non-null  object \n",
      "dtypes: float64(1), object(5)\n",
      "memory usage: 35.4+ MB\n"
     ]
    }
   ],
   "source": [
    "data.info()"
   ]
  },
  {
   "cell_type": "code",
   "execution_count": 14,
   "metadata": {
    "colab": {
     "base_uri": "https://localhost:8080/"
    },
    "id": "Yh2rE-BzNbqi",
    "outputId": "2f158aa6-aa57-492d-a958-07320e98fdfc"
   },
   "outputs": [
    {
     "name": "stdout",
     "output_type": "stream",
     "text": [
      "Data types of the columns:\n",
      "Customer_ID         float64\n",
      "outlet_city          object\n",
      "luxury_sales         object\n",
      "fresh_sales          object\n",
      "dry_sales            object\n",
      "cluster_category     object\n",
      "dtype: object\n"
     ]
    }
   ],
   "source": [
    "# Checking the data types of the columns\n",
    "print(\"Data types of the columns:\")\n",
    "print(data.dtypes)"
   ]
  },
  {
   "cell_type": "markdown",
   "metadata": {
    "id": "T5qqqo4Hv6ei"
   },
   "source": [
    "## Check for Strings in Sales Columns"
   ]
  },
  {
   "cell_type": "code",
   "execution_count": 15,
   "metadata": {
    "colab": {
     "base_uri": "https://localhost:8080/"
    },
    "id": "sOJlW9kVPLk7",
    "outputId": "25e47c6f-a507-448a-9310-551fe1d0b790"
   },
   "outputs": [
    {
     "name": "stdout",
     "output_type": "stream",
     "text": [
      "Count of non-numeric values in 'dry_sales' column: 30\n",
      "Count of non-numeric values in 'fresh_sales' column: 41\n",
      "Count of non-numeric values in 'luxury_sales' column: 35\n"
     ]
    }
   ],
   "source": [
    "non_numeric_count1 = data['luxury_sales'].isna().sum()\n",
    "non_numeric_count2 = data['fresh_sales'].isna().sum()\n",
    "non_numeric_count3 = data['dry_sales'].isna().sum()\n",
    "\n",
    "print(\"Count of non-numeric values in 'dry_sales' column:\", non_numeric_count3)\n",
    "print(\"Count of non-numeric values in 'fresh_sales' column:\", non_numeric_count2)\n",
    "print(\"Count of non-numeric values in 'luxury_sales' column:\", non_numeric_count1)"
   ]
  },
  {
   "cell_type": "code",
   "execution_count": 16,
   "metadata": {
    "colab": {
     "base_uri": "https://localhost:8080/"
    },
    "id": "yxJol6W_so6l",
    "outputId": "4c44e811-cd43-49df-b18f-e1af02835e53"
   },
   "outputs": [
    {
     "name": "stdout",
     "output_type": "stream",
     "text": [
      "Cell at row 80043, column 'luxury_sales' contains words: 'One thousand four hundread ruppes'\n",
      "Cell at row 175278, column 'luxury_sales' contains words: 'nul'\n",
      "Cell at row 296621, column 'luxury_sales' contains words: 'nul'\n",
      "Cell at row 297911, column 'luxury_sales' contains words: 'Eight hundread ruppess'\n",
      "Cell at row 326593, column 'luxury_sales' contains words: 'six hundread and hirty '\n",
      "Cell at row 367935, column 'luxury_sales' contains words: 'nul'\n",
      "Cell at row 497177, column 'luxury_sales' contains words: 'Thousand tow hundread '\n",
      "Cell at row 497245, column 'luxury_sales' contains words: 'seven hundread and nine ruppees'\n",
      "Cell at row 558562, column 'luxury_sales' contains words: 'Three thousand two hundread ruppess'\n",
      "Cell at row 753131, column 'luxury_sales' contains words: 'Four thousand one hundread ruppess'\n",
      "Cell at row 161810, column 'fresh_sales' contains words: 'Six hundread and five ruppes'\n",
      "Cell at row 174714, column 'fresh_sales' contains words: 'nul'\n",
      "Cell at row 268571, column 'fresh_sales' contains words: 'nul'\n",
      "Cell at row 326334, column 'fresh_sales' contains words: 'Three thousana and five hundread'\n",
      "Cell at row 327495, column 'fresh_sales' contains words: 'nul'\n",
      "Cell at row 327505, column 'fresh_sales' contains words: 'nul'\n",
      "Cell at row 558897, column 'fresh_sales' contains words: 'thirteen thousand ruppes'\n",
      "Cell at row 752816, column 'fresh_sales' contains words: 'Five thousand ruppes'\n",
      "Cell at row 753256, column 'fresh_sales' contains words: 'Two thousand seven hundread ruppess'\n",
      "Cell at row 148029, column 'dry_sales' contains words: 'Four thousand and two hundread ruppes'\n",
      "Cell at row 174631, column 'dry_sales' contains words: 'nul'\n",
      "Cell at row 174720, column 'dry_sales' contains words: 'nul'\n",
      "Cell at row 175278, column 'dry_sales' contains words: 'nul'\n",
      "Cell at row 268571, column 'dry_sales' contains words: 'nul'\n",
      "Cell at row 296621, column 'dry_sales' contains words: 'nul'\n",
      "Cell at row 327495, column 'dry_sales' contains words: 'nul'\n",
      "Cell at row 327505, column 'dry_sales' contains words: 'nul'\n"
     ]
    }
   ],
   "source": [
    "# Function to check if a value contains words\n",
    "def contains_words(s):\n",
    "    if isinstance(s, str):\n",
    "        return bool(re.search('[a-zA-Z]', s))\n",
    "    return False\n",
    "\n",
    "rows_with_words = []\n",
    "\n",
    "# Find all cells with words and print their locations\n",
    "for col in ['luxury_sales','fresh_sales','dry_sales']:\n",
    "    for idx, value in data[col].items():\n",
    "        if contains_words(value):\n",
    "            rows_with_words.append(idx)\n",
    "            print(f\"Cell at row {idx}, column '{col}' contains words: '{value}'\")"
   ]
  },
  {
   "cell_type": "code",
   "execution_count": 17,
   "metadata": {
    "colab": {
     "base_uri": "https://localhost:8080/"
    },
    "id": "HC3HYg2rxcpf",
    "outputId": "1a9b340b-2028-4b48-ede6-cd8024d05ffc"
   },
   "outputs": [
    {
     "name": "stdout",
     "output_type": "stream",
     "text": [
      "[80043, 175278, 296621, 297911, 326593, 367935, 497177, 497245, 558562, 753131, 161810, 174714, 268571, 326334, 327495, 327505, 558897, 752816, 753256, 148029, 174631, 174720, 175278, 268571, 296621, 327495, 327505]\n"
     ]
    }
   ],
   "source": [
    "print(rows_with_words)"
   ]
  },
  {
   "cell_type": "code",
   "execution_count": 18,
   "metadata": {
    "colab": {
     "base_uri": "https://localhost:8080/"
    },
    "id": "62osm61xwJ-k",
    "outputId": "823a52ff-083d-4556-e344-ef00d728fa36"
   },
   "outputs": [
    {
     "name": "stdout",
     "output_type": "stream",
     "text": [
      "\n",
      "After transformation:\n",
      "         Customer_ID             outlet_city            luxury_sales  \\\n",
      "80043    10774052.0                Kelaniya                    1400   \n",
      "175278   10347733.0              Peliyagoda                     nul   \n",
      "296621   10215937.0                Panadura                     nul   \n",
      "297911   10189925.0                Kelaniya                     800   \n",
      "326593   10467590.0            Nuwara Eliya                     600   \n",
      "367935   10445384.0                   Galle                     nul   \n",
      "497177   10537755.0                   Kandy  Thousand tow hundread    \n",
      "497245   10468127.0                   Kandy                     709   \n",
      "558562   10076064.0             Trincomalee                    3200   \n",
      "753131   10695296.0              Batticaloa                    4100   \n",
      "161810   10261075.0                Panadura                  887.36   \n",
      "174714   10358037.0            Nuwara Eliya                 1012.34   \n",
      "268571   10047014.0                Panadura                  1808.3   \n",
      "326334   10006007.0                Kaduwela                  758.52   \n",
      "327495   10099173.0                 Wattala                 1303.92   \n",
      "327505   10312003.0                Kaduwela                 1303.06   \n",
      "558897   10314616.0              Batticaloa                 3027.36   \n",
      "752816   10369123.0             Trincomalee                 5501.57   \n",
      "753256   10369199.0                 Colombo                  2692.8   \n",
      "148029   10190107.0  Dehiwala-Mount Lavinia                   931.5   \n",
      "174631   10273730.0                Homagama                 1074.36   \n",
      "174720   10039004.0                Kaduwela                  944.44   \n",
      "175278   10347733.0              Peliyagoda                     nul   \n",
      "268571   10047014.0                Panadura                  1808.3   \n",
      "296621   10215937.0                Panadura                     nul   \n",
      "327495   10099173.0                 Wattala                 1303.92   \n",
      "327505   10312003.0                Kaduwela                 1303.06   \n",
      "\n",
      "       fresh_sales dry_sales cluster_category  \n",
      "80043       1118.0    5934.0                4  \n",
      "175278     4286.28       nul                2  \n",
      "296621     8155.11       nul                2  \n",
      "297911     4003.84   1059.84                2  \n",
      "326593      3420.3    894.54                2  \n",
      "367935     1919.13   7563.63                2  \n",
      "497177      2041.0    6939.4                1  \n",
      "497245     1032.48   4194.45                1  \n",
      "558562     10416.9   1923.12              6.0  \n",
      "753131     4286.72   4034.56                3  \n",
      "161810         605    3604.9                4  \n",
      "174714         nul    1446.2                2  \n",
      "268571         nul       nul                2  \n",
      "326334        3500   1029.42                2  \n",
      "327495         nul       nul                2  \n",
      "327505         nul       nul                2  \n",
      "558897       13000   2081.31              6.0  \n",
      "752816        5000   5679.04                3  \n",
      "753256        2700    2861.1                1  \n",
      "148029       931.5      4200                4  \n",
      "174631     5141.58       nul                2  \n",
      "174720      4722.2       nul                2  \n",
      "175278     4286.28       nul                2  \n",
      "268571         nul       nul                2  \n",
      "296621     8155.11       nul                2  \n",
      "327495         nul       nul                2  \n",
      "327505         nul       nul                2  \n"
     ]
    }
   ],
   "source": [
    "# Initialize the spell checker\n",
    "spell = SpellChecker()\n",
    "\n",
    "# Function to correct spelling errors\n",
    "def correct_spelling(text):\n",
    "    corrected_words = [spell.correction(word) for word in text.split()]\n",
    "    return ' '.join(corrected_words)\n",
    "\n",
    "# Function to convert worded numbers to numerical values with error handling\n",
    "def convert_words_to_numbers(text):\n",
    "    try:\n",
    "        cleaned_text = correct_spelling(text)\n",
    "        return w2n.word_to_num(cleaned_text)\n",
    "    except (ValueError, IndexError):\n",
    "        return text\n",
    "\n",
    "# Columns to be checked and converted\n",
    "columns_to_convert = ['luxury_sales', 'fresh_sales', 'dry_sales']\n",
    "\n",
    "# Apply the correction and conversion function to the specified columns\n",
    "for col in columns_to_convert:\n",
    "    data[col] = data[col].apply(lambda x: convert_words_to_numbers(x) if isinstance(x, str) else x)\n",
    "\n",
    "# Print specific rows after transformation\n",
    "print(\"\\nAfter transformation:\\n\", data.loc[rows_with_words])"
   ]
  },
  {
   "cell_type": "code",
   "execution_count": 19,
   "metadata": {
    "id": "UMR8ohHtwX3Y"
   },
   "outputs": [],
   "source": [
    "data['luxury_sales'] = data['luxury_sales'].replace('Thousand tow hundread ', 1200)"
   ]
  },
  {
   "cell_type": "code",
   "execution_count": 20,
   "metadata": {
    "colab": {
     "base_uri": "https://localhost:8080/"
    },
    "id": "zpJwJsLg0S7F",
    "outputId": "2f254164-11f4-4135-b5f8-db7b2a5533ce"
   },
   "outputs": [
    {
     "name": "stdout",
     "output_type": "stream",
     "text": [
      "\n",
      "After transformation:\n",
      "         Customer_ID             outlet_city luxury_sales fresh_sales  \\\n",
      "80043    10774052.0                Kelaniya         1400      1118.0   \n",
      "175278   10347733.0              Peliyagoda          nul     4286.28   \n",
      "296621   10215937.0                Panadura          nul     8155.11   \n",
      "297911   10189925.0                Kelaniya          800     4003.84   \n",
      "326593   10467590.0            Nuwara Eliya          600      3420.3   \n",
      "367935   10445384.0                   Galle          nul     1919.13   \n",
      "497177   10537755.0                   Kandy         1200      2041.0   \n",
      "497245   10468127.0                   Kandy          709     1032.48   \n",
      "558562   10076064.0             Trincomalee         3200     10416.9   \n",
      "753131   10695296.0              Batticaloa         4100     4286.72   \n",
      "161810   10261075.0                Panadura       887.36         605   \n",
      "174714   10358037.0            Nuwara Eliya      1012.34         nul   \n",
      "268571   10047014.0                Panadura       1808.3         nul   \n",
      "326334   10006007.0                Kaduwela       758.52        3500   \n",
      "327495   10099173.0                 Wattala      1303.92         nul   \n",
      "327505   10312003.0                Kaduwela      1303.06         nul   \n",
      "558897   10314616.0              Batticaloa      3027.36       13000   \n",
      "752816   10369123.0             Trincomalee      5501.57        5000   \n",
      "753256   10369199.0                 Colombo       2692.8        2700   \n",
      "148029   10190107.0  Dehiwala-Mount Lavinia        931.5       931.5   \n",
      "174631   10273730.0                Homagama      1074.36     5141.58   \n",
      "174720   10039004.0                Kaduwela       944.44      4722.2   \n",
      "175278   10347733.0              Peliyagoda          nul     4286.28   \n",
      "268571   10047014.0                Panadura       1808.3         nul   \n",
      "296621   10215937.0                Panadura          nul     8155.11   \n",
      "327495   10099173.0                 Wattala      1303.92         nul   \n",
      "327505   10312003.0                Kaduwela      1303.06         nul   \n",
      "\n",
      "       dry_sales cluster_category  \n",
      "80043     5934.0                4  \n",
      "175278       nul                2  \n",
      "296621       nul                2  \n",
      "297911   1059.84                2  \n",
      "326593    894.54                2  \n",
      "367935   7563.63                2  \n",
      "497177    6939.4                1  \n",
      "497245   4194.45                1  \n",
      "558562   1923.12              6.0  \n",
      "753131   4034.56                3  \n",
      "161810    3604.9                4  \n",
      "174714    1446.2                2  \n",
      "268571       nul                2  \n",
      "326334   1029.42                2  \n",
      "327495       nul                2  \n",
      "327505       nul                2  \n",
      "558897   2081.31              6.0  \n",
      "752816   5679.04                3  \n",
      "753256    2861.1                1  \n",
      "148029      4200                4  \n",
      "174631       nul                2  \n",
      "174720       nul                2  \n",
      "175278       nul                2  \n",
      "268571       nul                2  \n",
      "296621       nul                2  \n",
      "327495       nul                2  \n",
      "327505       nul                2  \n"
     ]
    }
   ],
   "source": [
    "# Print specific rows after transformation\n",
    "print(\"\\nAfter transformation:\\n\", data.loc[rows_with_words])"
   ]
  },
  {
   "cell_type": "markdown",
   "metadata": {
    "id": "QCXyiwymNdLd"
   },
   "source": [
    "## Converting to correct data types"
   ]
  },
  {
   "cell_type": "code",
   "execution_count": 21,
   "metadata": {
    "id": "8wKdQqNlV9rD"
   },
   "outputs": [],
   "source": [
    "# Convert to numeric\n",
    "data['luxury_sales'] = pd.to_numeric(data['luxury_sales'], errors='coerce')\n",
    "data['fresh_sales'] = pd.to_numeric(data['fresh_sales'], errors='coerce')\n",
    "data['dry_sales'] = pd.to_numeric(data['dry_sales'], errors='coerce')\n",
    "\n",
    "# Convert to categorical\n",
    "data['cluster_category'] = data['cluster_category'].astype('category')\n",
    "data['Customer_ID'] = data['Customer_ID'].astype('category')"
   ]
  },
  {
   "cell_type": "code",
   "execution_count": 22,
   "metadata": {
    "colab": {
     "base_uri": "https://localhost:8080/",
     "height": 206
    },
    "id": "UP0XTR5X4Mvp",
    "outputId": "ab6bf6d0-37ca-475e-832f-b9191a737752"
   },
   "outputs": [
    {
     "data": {
      "text/html": [
       "<div>\n",
       "<style scoped>\n",
       "    .dataframe tbody tr th:only-of-type {\n",
       "        vertical-align: middle;\n",
       "    }\n",
       "\n",
       "    .dataframe tbody tr th {\n",
       "        vertical-align: top;\n",
       "    }\n",
       "\n",
       "    .dataframe thead th {\n",
       "        text-align: right;\n",
       "    }\n",
       "</style>\n",
       "<table border=\"1\" class=\"dataframe\">\n",
       "  <thead>\n",
       "    <tr style=\"text-align: right;\">\n",
       "      <th></th>\n",
       "      <th>Customer_ID</th>\n",
       "      <th>outlet_city</th>\n",
       "      <th>luxury_sales</th>\n",
       "      <th>fresh_sales</th>\n",
       "      <th>dry_sales</th>\n",
       "      <th>cluster_category</th>\n",
       "    </tr>\n",
       "  </thead>\n",
       "  <tbody>\n",
       "    <tr>\n",
       "      <th>0</th>\n",
       "      <td>10493832.0</td>\n",
       "      <td>Kelaniya</td>\n",
       "      <td>1209.60</td>\n",
       "      <td>756.00</td>\n",
       "      <td>5292.00</td>\n",
       "      <td>4</td>\n",
       "    </tr>\n",
       "    <tr>\n",
       "      <th>1</th>\n",
       "      <td>10178643.0</td>\n",
       "      <td>Moratuwa</td>\n",
       "      <td>1590.12</td>\n",
       "      <td>1060.08</td>\n",
       "      <td>6007.12</td>\n",
       "      <td>1</td>\n",
       "    </tr>\n",
       "    <tr>\n",
       "      <th>2</th>\n",
       "      <td>10513916.0</td>\n",
       "      <td>Wattala</td>\n",
       "      <td>2288.88</td>\n",
       "      <td>1481.04</td>\n",
       "      <td>9155.52</td>\n",
       "      <td>4</td>\n",
       "    </tr>\n",
       "    <tr>\n",
       "      <th>3</th>\n",
       "      <td>10334589.0</td>\n",
       "      <td>Wattala</td>\n",
       "      <td>2274.94</td>\n",
       "      <td>1739.66</td>\n",
       "      <td>9099.76</td>\n",
       "      <td>4</td>\n",
       "    </tr>\n",
       "    <tr>\n",
       "      <th>4</th>\n",
       "      <td>10458365.0</td>\n",
       "      <td>Kelaniya</td>\n",
       "      <td>2345.49</td>\n",
       "      <td>2069.55</td>\n",
       "      <td>9243.99</td>\n",
       "      <td>4</td>\n",
       "    </tr>\n",
       "  </tbody>\n",
       "</table>\n",
       "</div>"
      ],
      "text/plain": [
       "  Customer_ID outlet_city  luxury_sales  fresh_sales  dry_sales  \\\n",
       "0  10493832.0    Kelaniya       1209.60       756.00    5292.00   \n",
       "1  10178643.0    Moratuwa       1590.12      1060.08    6007.12   \n",
       "2  10513916.0     Wattala       2288.88      1481.04    9155.52   \n",
       "3  10334589.0     Wattala       2274.94      1739.66    9099.76   \n",
       "4  10458365.0    Kelaniya       2345.49      2069.55    9243.99   \n",
       "\n",
       "  cluster_category  \n",
       "0                4  \n",
       "1                1  \n",
       "2                4  \n",
       "3                4  \n",
       "4                4  "
      ]
     },
     "execution_count": 22,
     "metadata": {},
     "output_type": "execute_result"
    }
   ],
   "source": [
    "data.head()"
   ]
  },
  {
   "cell_type": "code",
   "execution_count": 23,
   "metadata": {
    "colab": {
     "base_uri": "https://localhost:8080/"
    },
    "id": "DLa0rMNi8B-V",
    "outputId": "cb9c7501-7d22-4dd3-8daf-1f04d21878fd"
   },
   "outputs": [
    {
     "data": {
      "text/plain": [
       "Customer_ID         category\n",
       "outlet_city           object\n",
       "luxury_sales         float64\n",
       "fresh_sales          float64\n",
       "dry_sales            float64\n",
       "cluster_category    category\n",
       "dtype: object"
      ]
     },
     "execution_count": 23,
     "metadata": {},
     "output_type": "execute_result"
    }
   ],
   "source": [
    "data.dtypes"
   ]
  },
  {
   "cell_type": "markdown",
   "metadata": {
    "id": "lvtWdn1HN0IA"
   },
   "source": [
    "## Exploring the Outlet Cities"
   ]
  },
  {
   "cell_type": "code",
   "execution_count": 24,
   "metadata": {
    "colab": {
     "base_uri": "https://localhost:8080/"
    },
    "id": "q0dnG67AuQSr",
    "outputId": "1b4afb5f-0c8d-41c0-f223-668849448b53"
   },
   "outputs": [
    {
     "name": "stdout",
     "output_type": "stream",
     "text": [
      "['Kelaniya', 'Moratuwa', 'Wattala', 'Homagama', 'Dehiwala-Mount Lavinia', 'Panadura', 'Kaduwela', 'Peliyagoda', 'Kotte', 'Nuwara Eliya', 'Batticaloa', 'Colombo', 'Jaffna', 'Gampaha', 'Kalmunai', 'Galle', 'Katunayake', 'Negombo', 'Trincomalee', 'Kandy', nan]\n"
     ]
    }
   ],
   "source": [
    "# How many clusters in dataset\n",
    "cities = data['outlet_city'].unique()\n",
    "print(list(cities))"
   ]
  },
  {
   "cell_type": "code",
   "execution_count": 25,
   "metadata": {
    "id": "3OQrOGMl1_aL"
   },
   "outputs": [],
   "source": [
    "# Replace 'nan' with Anuradhapura or Madawachchiya, since it is in the Test Data for submission\n",
    "#data['outlet_city'].fillna('Anuradhapura', inplace=True)"
   ]
  },
  {
   "cell_type": "code",
   "execution_count": 26,
   "metadata": {
    "id": "-hk5F05l2IZb"
   },
   "outputs": [],
   "source": [
    "# # How many clusters in dataset\n",
    "# cities = data['outlet_city'].unique()\n",
    "# print(list(cities))"
   ]
  },
  {
   "cell_type": "code",
   "execution_count": 27,
   "metadata": {
    "colab": {
     "base_uri": "https://localhost:8080/"
    },
    "id": "DYRJSeRc2NEr",
    "outputId": "e9607232-70c0-45b8-f20f-052ff0596b40"
   },
   "outputs": [
    {
     "name": "stdout",
     "output_type": "stream",
     "text": [
      "outlet_city\n",
      "Colombo                   41031\n",
      "Batticaloa                41012\n",
      "Galle                     41010\n",
      "Kalmunai                  40711\n",
      "Negombo                   40703\n",
      "Jaffna                    40675\n",
      "Katunayake                40649\n",
      "Kandy                     40534\n",
      "Trincomalee               40528\n",
      "Gampaha                   40252\n",
      "Peliyagoda                37151\n",
      "Nuwara Eliya              37102\n",
      "Dehiwala-Mount Lavinia    36839\n",
      "Kotte                     36788\n",
      "Panadura                  36726\n",
      "Wattala                   36721\n",
      "Kaduwela                  36695\n",
      "Homagama                  36639\n",
      "Moratuwa                  36417\n",
      "Kelaniya                  35970\n",
      "Name: count, dtype: int64\n"
     ]
    }
   ],
   "source": [
    "city_counts = data['outlet_city'].value_counts()\n",
    "print(city_counts)"
   ]
  },
  {
   "cell_type": "markdown",
   "metadata": {
    "id": "AJQAT1EU5Nlm"
   },
   "source": [
    "## Fixing errors in clusters"
   ]
  },
  {
   "cell_type": "code",
   "execution_count": 28,
   "metadata": {
    "colab": {
     "base_uri": "https://localhost:8080/"
    },
    "id": "3ev5MF79Nd5M",
    "outputId": "0c99ad53-75cb-4a8a-d972-d25c915195d9"
   },
   "outputs": [
    {
     "name": "stdout",
     "output_type": "stream",
     "text": [
      "['4', '1', '99', '2', '5', '3', '6', '6\\\\', 4, 2, 1, 95, 3, 98, 5, 6, nan, 100.0, 89.0]\n"
     ]
    }
   ],
   "source": [
    "# How many clusters in dataset\n",
    "categories = data['cluster_category'].unique()\n",
    "print(list(categories))"
   ]
  },
  {
   "cell_type": "code",
   "execution_count": 29,
   "metadata": {
    "colab": {
     "base_uri": "https://localhost:8080/"
    },
    "id": "KG49OGuRcBMx",
    "outputId": "269e30a5-163d-42a6-ea9b-30c0968c1658"
   },
   "outputs": [
    {
     "name": "stdout",
     "output_type": "stream",
     "text": [
      "cluster_category\n",
      "1        188984\n",
      "4        172439\n",
      "6        169214\n",
      "2        155064\n",
      "3         48907\n",
      "5         39540\n",
      "99            1\n",
      "6\\            1\n",
      "95            1\n",
      "98            1\n",
      "nan           1\n",
      "100.0         1\n",
      "89.0          1\n",
      "Name: count, dtype: int64\n"
     ]
    }
   ],
   "source": [
    "# Convert 'cluster_category' to string for consistency\n",
    "data['cluster_category'] = data['cluster_category'].astype(str)\n",
    "category_counts = data['cluster_category'].value_counts()\n",
    "print(category_counts)"
   ]
  },
  {
   "cell_type": "code",
   "execution_count": 30,
   "metadata": {
    "id": "hKVj7VLGZgHI"
   },
   "outputs": [],
   "source": [
    "# Remove extra characters\n",
    "data['cluster_category'] = data['cluster_category'].str.replace('\\\\', '')"
   ]
  },
  {
   "cell_type": "code",
   "execution_count": 31,
   "metadata": {
    "id": "ZRrC8DofaKw7"
   },
   "outputs": [],
   "source": [
    "# Define the valid categories\n",
    "valid_categories = ['1', '2', '3', '4', '5', '6']\n",
    "\n",
    "# Keep only the rows where 'cluster_category' is one of the valid categories\n",
    "data = data[data['cluster_category'].isin(valid_categories)]"
   ]
  },
  {
   "cell_type": "code",
   "execution_count": 32,
   "metadata": {
    "colab": {
     "base_uri": "https://localhost:8080/"
    },
    "id": "IW1lkaO_ZZCk",
    "outputId": "bd1adf1f-86fd-4949-ff45-c9e43960cc5f"
   },
   "outputs": [
    {
     "name": "stdout",
     "output_type": "stream",
     "text": [
      "['4', '1', '2', '5', '3', '6']\n"
     ]
    }
   ],
   "source": [
    "# How many clusters in dataset\n",
    "categories = data['cluster_category'].unique()\n",
    "print(list(categories))"
   ]
  },
  {
   "cell_type": "code",
   "execution_count": 33,
   "metadata": {
    "colab": {
     "base_uri": "https://localhost:8080/"
    },
    "id": "IujT-NiFNeqQ",
    "outputId": "e3e10770-dcf9-40a8-dd59-9da65ae059a6"
   },
   "outputs": [
    {
     "name": "stdout",
     "output_type": "stream",
     "text": [
      "cluster_category\n",
      "1    188984\n",
      "4    172439\n",
      "6    169215\n",
      "2    155064\n",
      "3     48907\n",
      "5     39540\n",
      "Name: count, dtype: int64\n"
     ]
    }
   ],
   "source": [
    "category_counts = data['cluster_category'].value_counts()\n",
    "print(category_counts)"
   ]
  },
  {
   "cell_type": "markdown",
   "metadata": {
    "id": "I00JAbf45Vnm"
   },
   "source": [
    "## Visualizations"
   ]
  },
  {
   "cell_type": "code",
   "execution_count": 34,
   "metadata": {
    "colab": {
     "base_uri": "https://localhost:8080/",
     "height": 559
    },
    "id": "zbq5b5-04CuV",
    "outputId": "3ac52a8b-6924-4f7c-80b1-ddbe2fb7e3b4"
   },
   "outputs": [
    {
     "data": {
      "image/png": "[encoded data removed]",
      "text/plain": [
       "<Figure size 1000x600 with 1 Axes>"
      ]
     },
     "metadata": {},
     "output_type": "display_data"
    }
   ],
   "source": [
    "# Count the occurrences of each category\n",
    "category_counts = data['cluster_category'].value_counts()\n",
    "\n",
    "# Create a bar plot\n",
    "plt.figure(figsize=(10, 6))\n",
    "category_counts.plot(kind='bar')\n",
    "plt.title('Count of each category in cluster_category')\n",
    "plt.xlabel('Category')\n",
    "plt.ylabel('Count')\n",
    "plt.show()"
   ]
  },
  {
   "cell_type": "code",
   "execution_count": 35,
   "metadata": {
    "colab": {
     "base_uri": "https://localhost:8080/",
     "height": 717
    },
    "id": "mULi5BvI4Rw0",
    "outputId": "0cce1b4e-4e45-4eec-e5bc-e7c07abd3c3c"
   },
   "outputs": [
    {
     "data": {
      "image/png": "[encoded data removed]",
      "text/plain": [
       "<Figure size 1000x600 with 1 Axes>"
      ]
     },
     "metadata": {},
     "output_type": "display_data"
    }
   ],
   "source": [
    "# Count the occurrences of each category\n",
    "category_counts = data['outlet_city'].value_counts()\n",
    "\n",
    "# Create a bar plot\n",
    "plt.figure(figsize=(10, 6))\n",
    "category_counts.plot(kind='bar')\n",
    "plt.title('Count of each category in outlet_city')\n",
    "plt.xlabel('Category')\n",
    "plt.ylabel('Count')\n",
    "plt.show()"
   ]
  },
  {
   "cell_type": "markdown",
   "metadata": {
    "id": "vWZ8Yn-O5aIk"
   },
   "source": [
    "## Identify whether Urban or Suburban"
   ]
  },
  {
   "cell_type": "code",
   "execution_count": 36,
   "metadata": {
    "id": "kh0oyPkYfnEA"
   },
   "outputs": [],
   "source": [
    "# convert to lower case\n",
    "data['outlet_city'] = data['outlet_city'].str.lower()\n",
    "# remove trailing white spaces\n",
    "data['outlet_city'] = data['outlet_city'].str.strip()"
   ]
  },
  {
   "cell_type": "code",
   "execution_count": 37,
   "metadata": {
    "id": "sqevZ-ENIx2i"
   },
   "outputs": [],
   "source": [
    "# Create a mapping from city to province\n",
    "common_groups = {'Urban': ['colombo', 'batticaloa', 'galle', 'negombo', 'jaffna', 'katunayake', 'kandy', 'trincomalee', 'gampaha', 'peliyagoda', 'nuwara eliya', 'panadura', 'wattala',  'kalmunai'],\n",
    "                 'Suburban': ['dehiwala-mount lavinia', 'kotte', 'kaduwela', 'homagama', 'moratuwa', 'kelaniya', 'anuradhapura', 'madawachchiya']}\n",
    "\n",
    "city_to_province = {city: province for province, cities in common_groups.items() for city in cities}\n",
    "\n",
    "# Replace the 'outlet_city' values with the corresponding province names\n",
    "data['Council'] = data['outlet_city'].map(city_to_province)"
   ]
  },
  {
   "cell_type": "code",
   "execution_count": 38,
   "metadata": {
    "colab": {
     "base_uri": "https://localhost:8080/",
     "height": 206
    },
    "id": "sIg8MK4KJNwe",
    "outputId": "1714c16a-ad1a-435a-8dc7-959d01aae86d"
   },
   "outputs": [
    {
     "data": {
      "text/html": [
       "<div>\n",
       "<style scoped>\n",
       "    .dataframe tbody tr th:only-of-type {\n",
       "        vertical-align: middle;\n",
       "    }\n",
       "\n",
       "    .dataframe tbody tr th {\n",
       "        vertical-align: top;\n",
       "    }\n",
       "\n",
       "    .dataframe thead th {\n",
       "        text-align: right;\n",
       "    }\n",
       "</style>\n",
       "<table border=\"1\" class=\"dataframe\">\n",
       "  <thead>\n",
       "    <tr style=\"text-align: right;\">\n",
       "      <th></th>\n",
       "      <th>Customer_ID</th>\n",
       "      <th>outlet_city</th>\n",
       "      <th>luxury_sales</th>\n",
       "      <th>fresh_sales</th>\n",
       "      <th>dry_sales</th>\n",
       "      <th>cluster_category</th>\n",
       "      <th>Council</th>\n",
       "    </tr>\n",
       "  </thead>\n",
       "  <tbody>\n",
       "    <tr>\n",
       "      <th>0</th>\n",
       "      <td>10493832.0</td>\n",
       "      <td>kelaniya</td>\n",
       "      <td>1209.60</td>\n",
       "      <td>756.00</td>\n",
       "      <td>5292.00</td>\n",
       "      <td>4</td>\n",
       "      <td>Suburban</td>\n",
       "    </tr>\n",
       "    <tr>\n",
       "      <th>1</th>\n",
       "      <td>10178643.0</td>\n",
       "      <td>moratuwa</td>\n",
       "      <td>1590.12</td>\n",
       "      <td>1060.08</td>\n",
       "      <td>6007.12</td>\n",
       "      <td>1</td>\n",
       "      <td>Suburban</td>\n",
       "    </tr>\n",
       "    <tr>\n",
       "      <th>2</th>\n",
       "      <td>10513916.0</td>\n",
       "      <td>wattala</td>\n",
       "      <td>2288.88</td>\n",
       "      <td>1481.04</td>\n",
       "      <td>9155.52</td>\n",
       "      <td>4</td>\n",
       "      <td>Urban</td>\n",
       "    </tr>\n",
       "    <tr>\n",
       "      <th>3</th>\n",
       "      <td>10334589.0</td>\n",
       "      <td>wattala</td>\n",
       "      <td>2274.94</td>\n",
       "      <td>1739.66</td>\n",
       "      <td>9099.76</td>\n",
       "      <td>4</td>\n",
       "      <td>Urban</td>\n",
       "    </tr>\n",
       "    <tr>\n",
       "      <th>4</th>\n",
       "      <td>10458365.0</td>\n",
       "      <td>kelaniya</td>\n",
       "      <td>2345.49</td>\n",
       "      <td>2069.55</td>\n",
       "      <td>9243.99</td>\n",
       "      <td>4</td>\n",
       "      <td>Suburban</td>\n",
       "    </tr>\n",
       "  </tbody>\n",
       "</table>\n",
       "</div>"
      ],
      "text/plain": [
       "  Customer_ID outlet_city  luxury_sales  fresh_sales  dry_sales  \\\n",
       "0  10493832.0    kelaniya       1209.60       756.00    5292.00   \n",
       "1  10178643.0    moratuwa       1590.12      1060.08    6007.12   \n",
       "2  10513916.0     wattala       2288.88      1481.04    9155.52   \n",
       "3  10334589.0     wattala       2274.94      1739.66    9099.76   \n",
       "4  10458365.0    kelaniya       2345.49      2069.55    9243.99   \n",
       "\n",
       "  cluster_category   Council  \n",
       "0                4  Suburban  \n",
       "1                1  Suburban  \n",
       "2                4     Urban  \n",
       "3                4     Urban  \n",
       "4                4  Suburban  "
      ]
     },
     "execution_count": 38,
     "metadata": {},
     "output_type": "execute_result"
    }
   ],
   "source": [
    "data.head()"
   ]
  },
  {
   "cell_type": "code",
   "execution_count": 39,
   "metadata": {
    "colab": {
     "base_uri": "https://localhost:8080/",
     "height": 206
    },
    "id": "q7AUiX2LKP-y",
    "outputId": "c2c603d1-fa76-48d9-8409-8e942f8a5628"
   },
   "outputs": [
    {
     "data": {
      "text/html": [
       "<div>\n",
       "<style scoped>\n",
       "    .dataframe tbody tr th:only-of-type {\n",
       "        vertical-align: middle;\n",
       "    }\n",
       "\n",
       "    .dataframe tbody tr th {\n",
       "        vertical-align: top;\n",
       "    }\n",
       "\n",
       "    .dataframe thead th {\n",
       "        text-align: right;\n",
       "    }\n",
       "</style>\n",
       "<table border=\"1\" class=\"dataframe\">\n",
       "  <thead>\n",
       "    <tr style=\"text-align: right;\">\n",
       "      <th></th>\n",
       "      <th>Customer_ID</th>\n",
       "      <th>outlet_city</th>\n",
       "      <th>luxury_sales</th>\n",
       "      <th>fresh_sales</th>\n",
       "      <th>dry_sales</th>\n",
       "      <th>cluster_category</th>\n",
       "      <th>Council</th>\n",
       "    </tr>\n",
       "  </thead>\n",
       "  <tbody>\n",
       "    <tr>\n",
       "      <th>774150</th>\n",
       "      <td>10197979.0</td>\n",
       "      <td>gampaha</td>\n",
       "      <td>3893.40</td>\n",
       "      <td>3893.40</td>\n",
       "      <td>3448.44</td>\n",
       "      <td>3</td>\n",
       "      <td>Urban</td>\n",
       "    </tr>\n",
       "    <tr>\n",
       "      <th>774151</th>\n",
       "      <td>10494575.0</td>\n",
       "      <td>katunayake</td>\n",
       "      <td>6095.86</td>\n",
       "      <td>5557.99</td>\n",
       "      <td>6275.15</td>\n",
       "      <td>3</td>\n",
       "      <td>Urban</td>\n",
       "    </tr>\n",
       "    <tr>\n",
       "      <th>774152</th>\n",
       "      <td>10565682.0</td>\n",
       "      <td>colombo</td>\n",
       "      <td>5121.42</td>\n",
       "      <td>4820.16</td>\n",
       "      <td>4669.53</td>\n",
       "      <td>3</td>\n",
       "      <td>Urban</td>\n",
       "    </tr>\n",
       "    <tr>\n",
       "      <th>774153</th>\n",
       "      <td>10351977.0</td>\n",
       "      <td>kandy</td>\n",
       "      <td>6311.76</td>\n",
       "      <td>6311.76</td>\n",
       "      <td>5940.48</td>\n",
       "      <td>3</td>\n",
       "      <td>Urban</td>\n",
       "    </tr>\n",
       "    <tr>\n",
       "      <th>774154</th>\n",
       "      <td>10637635.0</td>\n",
       "      <td>negombo</td>\n",
       "      <td>5833.50</td>\n",
       "      <td>6027.95</td>\n",
       "      <td>6611.30</td>\n",
       "      <td>3</td>\n",
       "      <td>Urban</td>\n",
       "    </tr>\n",
       "  </tbody>\n",
       "</table>\n",
       "</div>"
      ],
      "text/plain": [
       "       Customer_ID outlet_city  luxury_sales  fresh_sales  dry_sales  \\\n",
       "774150  10197979.0     gampaha       3893.40      3893.40    3448.44   \n",
       "774151  10494575.0  katunayake       6095.86      5557.99    6275.15   \n",
       "774152  10565682.0     colombo       5121.42      4820.16    4669.53   \n",
       "774153  10351977.0       kandy       6311.76      6311.76    5940.48   \n",
       "774154  10637635.0     negombo       5833.50      6027.95    6611.30   \n",
       "\n",
       "       cluster_category Council  \n",
       "774150                3   Urban  \n",
       "774151                3   Urban  \n",
       "774152                3   Urban  \n",
       "774153                3   Urban  \n",
       "774154                3   Urban  "
      ]
     },
     "execution_count": 39,
     "metadata": {},
     "output_type": "execute_result"
    }
   ],
   "source": [
    "data.tail()"
   ]
  },
  {
   "cell_type": "markdown",
   "metadata": {
    "id": "RTluvo2YOK80"
   },
   "source": [
    "## Check for missing values"
   ]
  },
  {
   "cell_type": "code",
   "execution_count": 40,
   "metadata": {
    "colab": {
     "base_uri": "https://localhost:8080/"
    },
    "id": "b2UeH1DyQsMb",
    "outputId": "06244323-4491-4264-fc6a-5013d4a85cfd"
   },
   "outputs": [
    {
     "name": "stdout",
     "output_type": "stream",
     "text": [
      "Missing values in the dataset:\n",
      "Customer_ID          2\n",
      "outlet_city          2\n",
      "luxury_sales        38\n",
      "fresh_sales         45\n",
      "dry_sales           37\n",
      "cluster_category     0\n",
      "Council              2\n",
      "dtype: int64\n"
     ]
    }
   ],
   "source": [
    "print(\"Missing values in the dataset:\")\n",
    "print(data.isnull().sum())"
   ]
  },
  {
   "cell_type": "code",
   "execution_count": 41,
   "metadata": {
    "colab": {
     "base_uri": "https://localhost:8080/"
    },
    "id": "FqG510PNZtpV",
    "outputId": "8d53f9f9-34ab-4ddb-8723-67b6b07ac96f"
   },
   "outputs": [
    {
     "name": "stdout",
     "output_type": "stream",
     "text": [
      "Rows where 'Council' is missing:\n",
      "       Customer_ID outlet_city  luxury_sales  fresh_sales  dry_sales  \\\n",
      "497599  10387530.0         NaN       1309.36      1611.52    6848.96   \n",
      "497703  10107604.0         NaN       1576.50      1891.80    7041.70   \n",
      "\n",
      "       cluster_category Council  \n",
      "497599                1     NaN  \n",
      "497703                1     NaN  \n"
     ]
    }
   ],
   "source": [
    "# Get the rows where 'Council' is missing\n",
    "missing_council_rows = data[data['Council'].isnull()]\n",
    "\n",
    "# Print the missing rows\n",
    "print(\"Rows where 'Council' is missing:\")\n",
    "print(missing_council_rows)"
   ]
  },
  {
   "cell_type": "code",
   "execution_count": 42,
   "metadata": {
    "id": "jWv79E3DdMtY"
   },
   "outputs": [],
   "source": [
    "# Remove Missing Rows\n",
    "data = data.dropna(subset=['Customer_ID', 'outlet_city'])"
   ]
  },
  {
   "cell_type": "code",
   "execution_count": 43,
   "metadata": {
    "colab": {
     "base_uri": "https://localhost:8080/"
    },
    "id": "tR-GLds6LDmS",
    "outputId": "718916ce-156f-4f7b-f468-3928198139c5"
   },
   "outputs": [
    {
     "data": {
      "text/plain": [
       "(774145, 7)"
      ]
     },
     "execution_count": 43,
     "metadata": {},
     "output_type": "execute_result"
    }
   ],
   "source": [
    "data.shape"
   ]
  },
  {
   "cell_type": "code",
   "execution_count": 44,
   "metadata": {
    "colab": {
     "base_uri": "https://localhost:8080/"
    },
    "id": "Yfp_HpbDZOmU",
    "outputId": "c45e0d79-eaa6-4def-9129-a337d333fd03"
   },
   "outputs": [
    {
     "name": "stdout",
     "output_type": "stream",
     "text": [
      "Missing values in the dataset:\n",
      "Customer_ID          0\n",
      "outlet_city          0\n",
      "luxury_sales        38\n",
      "fresh_sales         45\n",
      "dry_sales           37\n",
      "cluster_category     0\n",
      "Council              0\n",
      "dtype: int64\n"
     ]
    }
   ],
   "source": [
    "print(\"Missing values in the dataset:\")\n",
    "print(data.isnull().sum())"
   ]
  },
  {
   "cell_type": "code",
   "execution_count": 45,
   "metadata": {
    "id": "XcBzhgqATnRW"
   },
   "outputs": [
    {
     "name": "stderr",
     "output_type": "stream",
     "text": [
      "C:\\Users\\Acer\\AppData\\Local\\Temp\\ipykernel_9628\\851388350.py:6: FutureWarning: A value is trying to be set on a copy of a DataFrame or Series through chained assignment using an inplace method.\n",
      "The behavior will change in pandas 3.0. This inplace method will never work because the intermediate object on which we are setting values always behaves as a copy.\n",
      "\n",
      "For example, when doing 'df[col].method(value, inplace=True)', try using 'df.method({col: value}, inplace=True)' or df[col] = df[col].method(value) instead, to perform the operation inplace on the original object.\n",
      "\n",
      "\n",
      "  data[col].fillna(data.groupby('cluster_category')[col].transform('mean'), inplace=True)\n",
      "C:\\Users\\Acer\\AppData\\Local\\Temp\\ipykernel_9628\\851388350.py:6: FutureWarning: A value is trying to be set on a copy of a DataFrame or Series through chained assignment using an inplace method.\n",
      "The behavior will change in pandas 3.0. This inplace method will never work because the intermediate object on which we are setting values always behaves as a copy.\n",
      "\n",
      "For example, when doing 'df[col].method(value, inplace=True)', try using 'df.method({col: value}, inplace=True)' or df[col] = df[col].method(value) instead, to perform the operation inplace on the original object.\n",
      "\n",
      "\n",
      "  data[col].fillna(data.groupby('cluster_category')[col].transform('mean'), inplace=True)\n",
      "C:\\Users\\Acer\\AppData\\Local\\Temp\\ipykernel_9628\\851388350.py:6: FutureWarning: A value is trying to be set on a copy of a DataFrame or Series through chained assignment using an inplace method.\n",
      "The behavior will change in pandas 3.0. This inplace method will never work because the intermediate object on which we are setting values always behaves as a copy.\n",
      "\n",
      "For example, when doing 'df[col].method(value, inplace=True)', try using 'df.method({col: value}, inplace=True)' or df[col] = df[col].method(value) instead, to perform the operation inplace on the original object.\n",
      "\n",
      "\n",
      "  data[col].fillna(data.groupby('cluster_category')[col].transform('mean'), inplace=True)\n"
     ]
    }
   ],
   "source": [
    "# Identify rest of columns with missing values\n",
    "cols_with_missing = data.columns[data.isnull().any()].tolist()\n",
    "\n",
    "# For each column with missing values, fill missing values with the mean of that column for each cluster category\n",
    "for col in cols_with_missing:\n",
    "    data[col].fillna(data.groupby('cluster_category')[col].transform('mean'), inplace=True)"
   ]
  },
  {
   "cell_type": "code",
   "execution_count": 46,
   "metadata": {
    "id": "JDbF-d5VSBIA"
   },
   "outputs": [],
   "source": [
    "#data.fillna(0, inplace=True)"
   ]
  },
  {
   "cell_type": "code",
   "execution_count": 47,
   "metadata": {
    "colab": {
     "base_uri": "https://localhost:8080/"
    },
    "id": "Fb4fcSdeTy2G",
    "outputId": "0bb7e7f2-0642-404f-b1fd-5b226d50f4d0"
   },
   "outputs": [
    {
     "name": "stdout",
     "output_type": "stream",
     "text": [
      "Missing values in the dataset:\n",
      "Customer_ID         0\n",
      "outlet_city         0\n",
      "luxury_sales        0\n",
      "fresh_sales         0\n",
      "dry_sales           0\n",
      "cluster_category    0\n",
      "Council             0\n",
      "dtype: int64\n"
     ]
    }
   ],
   "source": [
    "# Checking for missing values\n",
    "print(\"Missing values in the dataset:\")\n",
    "print(data.isnull().sum())"
   ]
  },
  {
   "cell_type": "markdown",
   "metadata": {
    "id": "vbiwWFjaOXAu"
   },
   "source": [
    "## Check for Duplicates"
   ]
  },
  {
   "cell_type": "code",
   "execution_count": 48,
   "metadata": {
    "colab": {
     "base_uri": "https://localhost:8080/"
    },
    "id": "Npspjv2MQv3F",
    "outputId": "8d24f949-2a38-4b01-a388-8beda4c7b0e7"
   },
   "outputs": [
    {
     "name": "stdout",
     "output_type": "stream",
     "text": [
      "Number of duplicate rows: 0\n"
     ]
    }
   ],
   "source": [
    "# Removing any duplicate rows\n",
    "duplicate_counts = data.duplicated().sum()\n",
    "print(\"Number of duplicate rows:\", duplicate_counts)"
   ]
  },
  {
   "cell_type": "code",
   "execution_count": 49,
   "metadata": {
    "colab": {
     "base_uri": "https://localhost:8080/"
    },
    "id": "K3q2-COjRmDL",
    "outputId": "f07f21f2-6705-4e0a-c966-86d0476d248d"
   },
   "outputs": [
    {
     "name": "stdout",
     "output_type": "stream",
     "text": [
      "Number of duplicate 'id' entries: 0\n"
     ]
    }
   ],
   "source": [
    "# Are there multiple entries from a customer\n",
    "duplicate_id_counts = data['Customer_ID'].duplicated().sum()\n",
    "print(\"Number of duplicate 'id' entries:\", duplicate_id_counts)"
   ]
  },
  {
   "cell_type": "code",
   "execution_count": 50,
   "metadata": {
    "colab": {
     "base_uri": "https://localhost:8080/"
    },
    "id": "PbVh8L_z8Q1a",
    "outputId": "4ced4b0b-23ab-4394-ea79-6f35e62f7741"
   },
   "outputs": [
    {
     "name": "stdout",
     "output_type": "stream",
     "text": [
      "Missing values in the dataset:\n",
      "Customer_ID         0\n",
      "outlet_city         0\n",
      "luxury_sales        0\n",
      "fresh_sales         0\n",
      "dry_sales           0\n",
      "cluster_category    0\n",
      "Council             0\n",
      "dtype: int64\n"
     ]
    }
   ],
   "source": [
    "# Checking for missing values\n",
    "print(\"Missing values in the dataset:\")\n",
    "print(data.isnull().sum())"
   ]
  },
  {
   "cell_type": "markdown",
   "metadata": {
    "id": "GOM-ZNiuOdcJ"
   },
   "source": [
    "## Cluster Means"
   ]
  },
  {
   "cell_type": "code",
   "execution_count": 51,
   "metadata": {
    "colab": {
     "base_uri": "https://localhost:8080/"
    },
    "id": "22Gw2dBZR6ZU",
    "outputId": "7dde7b8d-3df2-4872-dd29-7fe35b8d7922"
   },
   "outputs": [
    {
     "name": "stdout",
     "output_type": "stream",
     "text": [
      "cluster_category\n",
      "1    1563.122206\n",
      "2    1249.626011\n",
      "3    4070.673250\n",
      "4    1748.637921\n",
      "5    3246.496862\n",
      "6    2185.058184\n",
      "Name: luxury_sales, dtype: float64\n"
     ]
    }
   ],
   "source": [
    "# Since there are no duplicates (meaning no customer with multiple transaction), we can add a mean value of a cluster to missing Sales figures\n",
    "\n",
    "# Calculate the mean of 'luxury_sales' for each 'cluster_category'\n",
    "luxury_sales_means = data.groupby('cluster_category')['luxury_sales'].mean()\n",
    "print(luxury_sales_means)"
   ]
  },
  {
   "cell_type": "code",
   "execution_count": 52,
   "metadata": {
    "colab": {
     "base_uri": "https://localhost:8080/"
    },
    "id": "Yj7vrIJO68Sr",
    "outputId": "7fded8c8-0228-49cd-84cb-b414c6bed615"
   },
   "outputs": [
    {
     "data": {
      "text/plain": [
       "Customer_ID         category\n",
       "outlet_city           object\n",
       "luxury_sales         float64\n",
       "fresh_sales          float64\n",
       "dry_sales            float64\n",
       "cluster_category      object\n",
       "Council               object\n",
       "dtype: object"
      ]
     },
     "execution_count": 52,
     "metadata": {},
     "output_type": "execute_result"
    }
   ],
   "source": [
    "data.dtypes"
   ]
  },
  {
   "cell_type": "code",
   "execution_count": 53,
   "metadata": {
    "colab": {
     "base_uri": "https://localhost:8080/",
     "height": 206
    },
    "id": "PziKCsT3aCMn",
    "outputId": "f26aeaab-0344-4f04-e40e-0dd3824cc67e"
   },
   "outputs": [
    {
     "data": {
      "text/html": [
       "<div>\n",
       "<style scoped>\n",
       "    .dataframe tbody tr th:only-of-type {\n",
       "        vertical-align: middle;\n",
       "    }\n",
       "\n",
       "    .dataframe tbody tr th {\n",
       "        vertical-align: top;\n",
       "    }\n",
       "\n",
       "    .dataframe thead th {\n",
       "        text-align: right;\n",
       "    }\n",
       "</style>\n",
       "<table border=\"1\" class=\"dataframe\">\n",
       "  <thead>\n",
       "    <tr style=\"text-align: right;\">\n",
       "      <th></th>\n",
       "      <th>Customer_ID</th>\n",
       "      <th>outlet_city</th>\n",
       "      <th>luxury_sales</th>\n",
       "      <th>fresh_sales</th>\n",
       "      <th>dry_sales</th>\n",
       "      <th>cluster_category</th>\n",
       "      <th>Council</th>\n",
       "    </tr>\n",
       "  </thead>\n",
       "  <tbody>\n",
       "    <tr>\n",
       "      <th>0</th>\n",
       "      <td>10493832.0</td>\n",
       "      <td>kelaniya</td>\n",
       "      <td>1209.60</td>\n",
       "      <td>756.00</td>\n",
       "      <td>5292.00</td>\n",
       "      <td>4</td>\n",
       "      <td>Suburban</td>\n",
       "    </tr>\n",
       "    <tr>\n",
       "      <th>1</th>\n",
       "      <td>10178643.0</td>\n",
       "      <td>moratuwa</td>\n",
       "      <td>1590.12</td>\n",
       "      <td>1060.08</td>\n",
       "      <td>6007.12</td>\n",
       "      <td>1</td>\n",
       "      <td>Suburban</td>\n",
       "    </tr>\n",
       "    <tr>\n",
       "      <th>2</th>\n",
       "      <td>10513916.0</td>\n",
       "      <td>wattala</td>\n",
       "      <td>2288.88</td>\n",
       "      <td>1481.04</td>\n",
       "      <td>9155.52</td>\n",
       "      <td>4</td>\n",
       "      <td>Urban</td>\n",
       "    </tr>\n",
       "    <tr>\n",
       "      <th>3</th>\n",
       "      <td>10334589.0</td>\n",
       "      <td>wattala</td>\n",
       "      <td>2274.94</td>\n",
       "      <td>1739.66</td>\n",
       "      <td>9099.76</td>\n",
       "      <td>4</td>\n",
       "      <td>Urban</td>\n",
       "    </tr>\n",
       "    <tr>\n",
       "      <th>4</th>\n",
       "      <td>10458365.0</td>\n",
       "      <td>kelaniya</td>\n",
       "      <td>2345.49</td>\n",
       "      <td>2069.55</td>\n",
       "      <td>9243.99</td>\n",
       "      <td>4</td>\n",
       "      <td>Suburban</td>\n",
       "    </tr>\n",
       "  </tbody>\n",
       "</table>\n",
       "</div>"
      ],
      "text/plain": [
       "  Customer_ID outlet_city  luxury_sales  fresh_sales  dry_sales  \\\n",
       "0  10493832.0    kelaniya       1209.60       756.00    5292.00   \n",
       "1  10178643.0    moratuwa       1590.12      1060.08    6007.12   \n",
       "2  10513916.0     wattala       2288.88      1481.04    9155.52   \n",
       "3  10334589.0     wattala       2274.94      1739.66    9099.76   \n",
       "4  10458365.0    kelaniya       2345.49      2069.55    9243.99   \n",
       "\n",
       "  cluster_category   Council  \n",
       "0                4  Suburban  \n",
       "1                1  Suburban  \n",
       "2                4     Urban  \n",
       "3                4     Urban  \n",
       "4                4  Suburban  "
      ]
     },
     "execution_count": 53,
     "metadata": {},
     "output_type": "execute_result"
    }
   ],
   "source": [
    "data.head()"
   ]
  },
  {
   "cell_type": "markdown",
   "metadata": {
    "id": "BbnZ_SBhP5h1"
   },
   "source": [
    "## Check for Outliers"
   ]
  },
  {
   "cell_type": "code",
   "execution_count": 54,
   "metadata": {
    "id": "jsE2LLdg872A"
   },
   "outputs": [],
   "source": [
    "# # Calculate descriptive statistics\n",
    "# stats = data[['luxury_sales', 'fresh_sales', 'dry_sales']].describe()\n",
    "\n",
    "# # Calculate IQR\n",
    "# Q1 = stats.loc['25%']\n",
    "# Q3 = stats.loc['75%']\n",
    "# IQR = Q3 - Q1\n",
    "\n",
    "# # Define outlier boundaries\n",
    "# lower_bound = Q1 - 1.5 * IQR\n",
    "# upper_bound = Q3 + 1.5 * IQR\n",
    "\n",
    "# # Identify outliers\n",
    "# outliers = data[(data['luxury_sales'] < lower_bound['luxury_sales']) |\n",
    "#               (data['luxury_sales'] > upper_bound['luxury_sales']) |\n",
    "#               (data['fresh_sales'] < lower_bound['fresh_sales']) |\n",
    "#               (data['fresh_sales'] > upper_bound['fresh_sales']) |\n",
    "#               (data['dry_sales'] < lower_bound['dry_sales']) |\n",
    "#               (data['dry_sales'] > upper_bound['dry_sales'])]\n",
    "\n",
    "# # Remove outliers from the dataset\n",
    "# #data = data.drop(outliers.index)\n",
    "\n",
    "# print(outliers)"
   ]
  },
  {
   "cell_type": "markdown",
   "metadata": {
    "id": "c1QPmB3JQDfD"
   },
   "source": [
    "## Explore Sales"
   ]
  },
  {
   "cell_type": "code",
   "execution_count": 55,
   "metadata": {
    "id": "VVfILheh7Up4"
   },
   "outputs": [],
   "source": [
    "bins = [0, 1000, 5000, 10000]\n",
    "labels = ['low', 'medium', 'high']\n",
    "data['luxury_sales_bin'] = pd.cut(data['luxury_sales'], bins=bins, labels=labels)"
   ]
  },
  {
   "cell_type": "code",
   "execution_count": 56,
   "metadata": {
    "id": "bKAzFEgIoZNs"
   },
   "outputs": [],
   "source": [
    "# Add a total sales column\n",
    "data['total_sales'] = data['luxury_sales'] + data['fresh_sales'] + data['dry_sales']"
   ]
  },
  {
   "cell_type": "code",
   "execution_count": 57,
   "metadata": {
    "colab": {
     "base_uri": "https://localhost:8080/"
    },
    "id": "jY0XGfU88OID",
    "outputId": "884622d5-7936-4505-817e-4ec2cae7ba04"
   },
   "outputs": [
    {
     "name": "stdout",
     "output_type": "stream",
     "text": [
      "                  luxury_sales  fresh_sales    dry_sales   total_sales\n",
      "cluster_category                                                      \n",
      "1                  1563.122206  2188.487968  8436.621375  12188.231549\n",
      "2                  1249.626011  6745.604152  1749.531045   9744.761209\n",
      "3                  4070.673250  4071.420139  4069.969537  12212.062926\n",
      "4                  1748.637921  1249.938813  6742.625732   9741.202466\n",
      "5                  3246.496862  3248.645754  3246.209347   9741.351963\n",
      "6                  2185.058184  8425.703615  1562.301899  12173.063698\n"
     ]
    }
   ],
   "source": [
    "# Group by 'cluster_category' and calculate the average sales\n",
    "average_sales = data.groupby('cluster_category')[['luxury_sales', 'fresh_sales', 'dry_sales', 'total_sales']].mean()\n",
    "\n",
    "print(average_sales)"
   ]
  },
  {
   "cell_type": "code",
   "execution_count": 58,
   "metadata": {
    "id": "UTxMtdfk183t"
   },
   "outputs": [],
   "source": [
    "# data['luxury_sales_ratio'] = data['luxury_sales'] / data['total_sales']\n",
    "# data['fresh_sales_ratio'] = data['fresh_sales'] / data['total_sales']\n",
    "# data['dry_sales_ratio'] = data['dry_sales'] / data['total_sales']"
   ]
  },
  {
   "cell_type": "code",
   "execution_count": 59,
   "metadata": {
    "id": "B_0DBxW36lHR"
   },
   "outputs": [],
   "source": [
    "# data['luxury_sales_log'] = np.log1p(data['luxury_sales'])\n",
    "# data['fresh_sales_log'] = np.log1p(data['fresh_sales'])\n",
    "# data['dry_sales_log'] = np.log1p(data['dry_sales'])\n",
    "# data['total_sales_log'] = np.log1p(data['total_sales'])"
   ]
  },
  {
   "cell_type": "code",
   "execution_count": 60,
   "metadata": {
    "colab": {
     "base_uri": "https://localhost:8080/",
     "height": 206
    },
    "id": "234Ip6avp7sN",
    "outputId": "584d717c-6dae-4118-8c20-707adfcc4a5e"
   },
   "outputs": [
    {
     "data": {
      "text/html": [
       "<div>\n",
       "<style scoped>\n",
       "    .dataframe tbody tr th:only-of-type {\n",
       "        vertical-align: middle;\n",
       "    }\n",
       "\n",
       "    .dataframe tbody tr th {\n",
       "        vertical-align: top;\n",
       "    }\n",
       "\n",
       "    .dataframe thead th {\n",
       "        text-align: right;\n",
       "    }\n",
       "</style>\n",
       "<table border=\"1\" class=\"dataframe\">\n",
       "  <thead>\n",
       "    <tr style=\"text-align: right;\">\n",
       "      <th></th>\n",
       "      <th>Customer_ID</th>\n",
       "      <th>outlet_city</th>\n",
       "      <th>luxury_sales</th>\n",
       "      <th>fresh_sales</th>\n",
       "      <th>dry_sales</th>\n",
       "      <th>cluster_category</th>\n",
       "      <th>Council</th>\n",
       "      <th>luxury_sales_bin</th>\n",
       "      <th>total_sales</th>\n",
       "    </tr>\n",
       "  </thead>\n",
       "  <tbody>\n",
       "    <tr>\n",
       "      <th>0</th>\n",
       "      <td>10493832.0</td>\n",
       "      <td>kelaniya</td>\n",
       "      <td>1209.60</td>\n",
       "      <td>756.00</td>\n",
       "      <td>5292.00</td>\n",
       "      <td>4</td>\n",
       "      <td>Suburban</td>\n",
       "      <td>medium</td>\n",
       "      <td>7257.60</td>\n",
       "    </tr>\n",
       "    <tr>\n",
       "      <th>1</th>\n",
       "      <td>10178643.0</td>\n",
       "      <td>moratuwa</td>\n",
       "      <td>1590.12</td>\n",
       "      <td>1060.08</td>\n",
       "      <td>6007.12</td>\n",
       "      <td>1</td>\n",
       "      <td>Suburban</td>\n",
       "      <td>medium</td>\n",
       "      <td>8657.32</td>\n",
       "    </tr>\n",
       "    <tr>\n",
       "      <th>2</th>\n",
       "      <td>10513916.0</td>\n",
       "      <td>wattala</td>\n",
       "      <td>2288.88</td>\n",
       "      <td>1481.04</td>\n",
       "      <td>9155.52</td>\n",
       "      <td>4</td>\n",
       "      <td>Urban</td>\n",
       "      <td>medium</td>\n",
       "      <td>12925.44</td>\n",
       "    </tr>\n",
       "    <tr>\n",
       "      <th>3</th>\n",
       "      <td>10334589.0</td>\n",
       "      <td>wattala</td>\n",
       "      <td>2274.94</td>\n",
       "      <td>1739.66</td>\n",
       "      <td>9099.76</td>\n",
       "      <td>4</td>\n",
       "      <td>Urban</td>\n",
       "      <td>medium</td>\n",
       "      <td>13114.36</td>\n",
       "    </tr>\n",
       "    <tr>\n",
       "      <th>4</th>\n",
       "      <td>10458365.0</td>\n",
       "      <td>kelaniya</td>\n",
       "      <td>2345.49</td>\n",
       "      <td>2069.55</td>\n",
       "      <td>9243.99</td>\n",
       "      <td>4</td>\n",
       "      <td>Suburban</td>\n",
       "      <td>medium</td>\n",
       "      <td>13659.03</td>\n",
       "    </tr>\n",
       "  </tbody>\n",
       "</table>\n",
       "</div>"
      ],
      "text/plain": [
       "  Customer_ID outlet_city  luxury_sales  fresh_sales  dry_sales  \\\n",
       "0  10493832.0    kelaniya       1209.60       756.00    5292.00   \n",
       "1  10178643.0    moratuwa       1590.12      1060.08    6007.12   \n",
       "2  10513916.0     wattala       2288.88      1481.04    9155.52   \n",
       "3  10334589.0     wattala       2274.94      1739.66    9099.76   \n",
       "4  10458365.0    kelaniya       2345.49      2069.55    9243.99   \n",
       "\n",
       "  cluster_category   Council luxury_sales_bin  total_sales  \n",
       "0                4  Suburban           medium      7257.60  \n",
       "1                1  Suburban           medium      8657.32  \n",
       "2                4     Urban           medium     12925.44  \n",
       "3                4     Urban           medium     13114.36  \n",
       "4                4  Suburban           medium     13659.03  "
      ]
     },
     "execution_count": 60,
     "metadata": {},
     "output_type": "execute_result"
    }
   ],
   "source": [
    "data.head()"
   ]
  },
  {
   "cell_type": "markdown",
   "metadata": {
    "id": "StvjhgvdRLtM"
   },
   "source": [
    "### Check Correlations"
   ]
  },
  {
   "cell_type": "code",
   "execution_count": 61,
   "metadata": {
    "colab": {
     "base_uri": "https://localhost:8080/"
    },
    "id": "HSsMeHYxRFfG",
    "outputId": "06f9abd9-4d06-402b-e3a5-898d3044d25e"
   },
   "outputs": [
    {
     "name": "stdout",
     "output_type": "stream",
     "text": [
      "Contingency Table:\n",
      "outlet_city       batticaloa  colombo  dehiwala-mount lavinia  galle  gampaha  \\\n",
      "cluster_category                                                                \n",
      "1                      18960    19021                       1  19034    18763   \n",
      "2                          2        0                   15648      2        1   \n",
      "3                       4901     4959                       0   4932     4833   \n",
      "4                          0        3                   17283      1        0   \n",
      "5                          2        2                    3902      3        1   \n",
      "6                      17147    17046                       4  17037    16654   \n",
      "\n",
      "outlet_city       homagama  jaffna  kaduwela  kalmunai  kandy  katunayake  \\\n",
      "cluster_category                                                            \n",
      "1                        2   18821         1     18852  18898       19080   \n",
      "2                    15464       2     15478         3      0           2   \n",
      "3                        0    4906         1      4831   4843        4818   \n",
      "4                    17220       3     17360         1      2           0   \n",
      "5                     3951       2      3853         1      0           2   \n",
      "6                        1   16940         2     17022  16791       16746   \n",
      "\n",
      "outlet_city       kelaniya  kotte  moratuwa  negombo  nuwara eliya  panadura  \\\n",
      "cluster_category                                                               \n",
      "1                        1      2         2    18850             1         1   \n",
      "2                    15364  15500     15387        2         15442     15591   \n",
      "3                        0      1         0     4965             2         1   \n",
      "4                    16802  17252     17104        0         17574     17272   \n",
      "5                     3800   4029      3922        2          4082      3858   \n",
      "6                        3      4         1    16884             1         3   \n",
      "\n",
      "outlet_city       peliyagoda  trincomalee  wattala  \n",
      "cluster_category                                    \n",
      "1                          0        18687        3  \n",
      "2                      15730            0    15446  \n",
      "3                          2         4908        4  \n",
      "4                      17295            2    17265  \n",
      "5                       4123            3     4002  \n",
      "6                          1        16927        1  \n",
      "\n",
      "Chi-Square Statistic: 773860.3192715121\n",
      "P-Value: 0.0\n",
      "Degrees of Freedom: 95\n",
      "\n",
      "Expected Frequencies:\n",
      "Reject the null hypothesis: There is a significant association between the categories.\n"
     ]
    }
   ],
   "source": [
    "# contingency table\n",
    "contingency_table = pd.crosstab(data['cluster_category'], data['outlet_city'])\n",
    "print(\"Contingency Table:\")\n",
    "print(contingency_table)\n",
    "\n",
    "# chi-square test\n",
    "chi2, p, dof, expected = chi2_contingency(contingency_table)\n",
    "\n",
    "print(f\"\\nChi-Square Statistic: {chi2}\")\n",
    "print(f\"P-Value: {p}\")\n",
    "print(f\"Degrees of Freedom: {dof}\")\n",
    "print(\"\\nExpected Frequencies:\")\n",
    "\n",
    "alpha = 0.05\n",
    "if p < alpha:\n",
    "    print(\"Reject the null hypothesis: There is a significant association between the categories.\")\n",
    "else:\n",
    "    print(\"Fail to reject the null hypothesis: There is no significant association between the categories.\")"
   ]
  },
  {
   "cell_type": "markdown",
   "metadata": {
    "id": "d-_OQwX4QgM5"
   },
   "source": [
    "## Data Visualization"
   ]
  },
  {
   "cell_type": "code",
   "execution_count": 62,
   "metadata": {
    "colab": {
     "base_uri": "https://localhost:8080/",
     "height": 699
    },
    "id": "sqWYoMU8_vnK",
    "outputId": "1ed640f4-960a-4463-85f5-32c02e214ca3"
   },
   "outputs": [
    {
     "data": {
      "text/plain": [
       "<Axes: >"
      ]
     },
     "execution_count": 62,
     "metadata": {},
     "output_type": "execute_result"
    },
    {
     "data": {
      "image/png": "[encoded data removed]",
      "text/plain": [
       "<Figure size 1000x800 with 2 Axes>"
      ]
     },
     "metadata": {},
     "output_type": "display_data"
    }
   ],
   "source": [
    "# Select only numeric columns\n",
    "numeric_cols = data.select_dtypes(include=[np.number])\n",
    "\n",
    "# Calculate the correlation matrix\n",
    "corr_matrix = numeric_cols.corr()\n",
    "\n",
    "# Visualize the correlation matrix\n",
    "plt.figure(figsize=(10, 8))\n",
    "sns.heatmap(corr_matrix, annot=True, cmap='coolwarm')"
   ]
  },
  {
   "cell_type": "code",
   "execution_count": 63,
   "metadata": {
    "colab": {
     "base_uri": "https://localhost:8080/",
     "height": 559
    },
    "id": "9g7VGq7u4MQ6",
    "outputId": "5234d50c-ffce-43c4-fab4-9f4d17e2a9d5"
   },
   "outputs": [
    {
     "data": {
      "image/png": "[encoded data removed]",
      "text/plain": [
       "<Figure size 1000x600 with 1 Axes>"
      ]
     },
     "metadata": {},
     "output_type": "display_data"
    }
   ],
   "source": [
    "# Count the occurrences of each category\n",
    "category_counts = data['cluster_category'].value_counts()\n",
    "\n",
    "# Create a bar plot\n",
    "plt.figure(figsize=(10, 6))\n",
    "category_counts.plot(kind='bar')\n",
    "plt.title('Count of each category in cluster_category')\n",
    "plt.xlabel('Category')\n",
    "plt.ylabel('Count')\n",
    "plt.show()"
   ]
  },
  {
   "cell_type": "code",
   "execution_count": 64,
   "metadata": {
    "colab": {
     "base_uri": "https://localhost:8080/",
     "height": 713
    },
    "id": "hWwvrUgpQqlX",
    "outputId": "83c29f6d-5546-4a66-e5a8-583f636cc705"
   },
   "outputs": [
    {
     "data": {
      "image/png": "[encoded data removed]",
      "text/plain": [
       "<Figure size 1000x600 with 1 Axes>"
      ]
     },
     "metadata": {},
     "output_type": "display_data"
    }
   ],
   "source": [
    "# Count the occurrences of each category\n",
    "category_counts = data['outlet_city'].value_counts()\n",
    "\n",
    "# Create a bar plot\n",
    "plt.figure(figsize=(10, 6))\n",
    "category_counts.plot(kind='bar')\n",
    "plt.title('Count of each category in outlet_city')\n",
    "plt.xlabel('Category')\n",
    "plt.ylabel('Count')\n",
    "plt.show()"
   ]
  },
  {
   "cell_type": "code",
   "execution_count": 65,
   "metadata": {
    "colab": {
     "base_uri": "https://localhost:8080/",
     "height": 1000
    },
    "id": "fdMfyxIIQtI0",
    "outputId": "5671fe92-4bbc-4b2c-e8bd-65e860cfeeca"
   },
   "outputs": [
    {
     "data": {
      "image/png": "[encoded data removed]",
      "text/plain": [
       "<Figure size 640x480 with 1 Axes>"
      ]
     },
     "metadata": {},
     "output_type": "display_data"
    },
    {
     "data": {
      "image/png": "[encoded data removed]",
      "text/plain": [
       "<Figure size 640x480 with 1 Axes>"
      ]
     },
     "metadata": {},
     "output_type": "display_data"
    },
    {
     "data": {
      "image/png": "[encoded data removed]",
      "text/plain": [
       "<Figure size 640x480 with 1 Axes>"
      ]
     },
     "metadata": {},
     "output_type": "display_data"
    }
   ],
   "source": [
    "# List of sales columns\n",
    "sales_columns = ['luxury_sales', 'fresh_sales', 'dry_sales']\n",
    "\n",
    "# For each sales column, create a histogram with density curve overlaid\n",
    "for col in sales_columns:\n",
    "    plt.figure()\n",
    "    data[col].hist(density=True, bins=15, alpha=0.6, color='g')\n",
    "    sns.histplot(data[col], kde=True, bins=15, color='r')\n",
    "    plt.title(f'Histogram with Density Curve: {col}')\n",
    "    plt.xlabel('Sales')\n",
    "    plt.ylabel('Frequency')\n",
    "    plt.show()"
   ]
  },
  {
   "cell_type": "code",
   "execution_count": 66,
   "metadata": {
    "colab": {
     "base_uri": "https://localhost:8080/",
     "height": 472
    },
    "id": "E-ZR_Ui9Q5H-",
    "outputId": "66c05547-b997-4a85-8544-04591214e4b6"
   },
   "outputs": [
    {
     "data": {
      "image/png": "[encoded data removed]",
      "text/plain": [
       "<Figure size 640x480 with 1 Axes>"
      ]
     },
     "metadata": {},
     "output_type": "display_data"
    }
   ],
   "source": [
    "# Create the violin plot\n",
    "sns.violinplot(x='cluster_category', y='luxury_sales', data=data)\n",
    "plt.title('Violin Plot of luxury_sales by Cluster')\n",
    "plt.xlabel('Cluster')\n",
    "plt.ylabel('luxury_sales')\n",
    "plt.show()"
   ]
  },
  {
   "cell_type": "code",
   "execution_count": 67,
   "metadata": {
    "colab": {
     "base_uri": "https://localhost:8080/",
     "height": 472
    },
    "id": "amzPgoe6Q9CJ",
    "outputId": "50cd7d49-6126-4b73-a484-8e903dc2d2ad"
   },
   "outputs": [
    {
     "data": {
      "image/png": "[encoded data removed]",
      "text/plain": [
       "<Figure size 640x480 with 1 Axes>"
      ]
     },
     "metadata": {},
     "output_type": "display_data"
    }
   ],
   "source": [
    "# Create the violin plot\n",
    "sns.violinplot(x='cluster_category', y='fresh_sales', data=data)\n",
    "plt.title('Violin Plot of fresh_sales by Cluster')\n",
    "plt.xlabel('Cluster')\n",
    "plt.ylabel('fresh_sale')\n",
    "plt.show()"
   ]
  },
  {
   "cell_type": "code",
   "execution_count": 68,
   "metadata": {
    "colab": {
     "base_uri": "https://localhost:8080/",
     "height": 472
    },
    "id": "2cNTWgNsQ_6_",
    "outputId": "8267d5e0-268d-45ab-9787-34a53071ee0a"
   },
   "outputs": [
    {
     "data": {
      "image/png": "[encoded data removed]",
      "text/plain": [
       "<Figure size 640x480 with 1 Axes>"
      ]
     },
     "metadata": {},
     "output_type": "display_data"
    }
   ],
   "source": [
    "# Create the violin plot\n",
    "sns.violinplot(x='cluster_category', y='dry_sales', data=data)\n",
    "plt.title('Violin Plot of Dry Sales by Cluster')\n",
    "plt.xlabel('Cluster')\n",
    "plt.ylabel('dry_sales')\n",
    "plt.show()"
   ]
  },
  {
   "cell_type": "code",
   "execution_count": 69,
   "metadata": {
    "id": "wetFSiD-TwA1"
   },
   "outputs": [],
   "source": [
    "# Splitting the data into features and target variable\n",
    "X = data.drop(['cluster_category','Customer_ID','luxury_sales_bin','Council'], axis=1)\n",
    "y = data['cluster_category']"
   ]
  },
  {
   "cell_type": "code",
   "execution_count": 70,
   "metadata": {
    "colab": {
     "base_uri": "https://localhost:8080/",
     "height": 206
    },
    "id": "dIX8UDdH8-2H",
    "outputId": "9866c81d-cda7-4899-f68e-1f16dfb02047"
   },
   "outputs": [
    {
     "data": {
      "text/html": [
       "<div>\n",
       "<style scoped>\n",
       "    .dataframe tbody tr th:only-of-type {\n",
       "        vertical-align: middle;\n",
       "    }\n",
       "\n",
       "    .dataframe tbody tr th {\n",
       "        vertical-align: top;\n",
       "    }\n",
       "\n",
       "    .dataframe thead th {\n",
       "        text-align: right;\n",
       "    }\n",
       "</style>\n",
       "<table border=\"1\" class=\"dataframe\">\n",
       "  <thead>\n",
       "    <tr style=\"text-align: right;\">\n",
       "      <th></th>\n",
       "      <th>outlet_city</th>\n",
       "      <th>luxury_sales</th>\n",
       "      <th>fresh_sales</th>\n",
       "      <th>dry_sales</th>\n",
       "      <th>total_sales</th>\n",
       "    </tr>\n",
       "  </thead>\n",
       "  <tbody>\n",
       "    <tr>\n",
       "      <th>0</th>\n",
       "      <td>kelaniya</td>\n",
       "      <td>1209.60</td>\n",
       "      <td>756.00</td>\n",
       "      <td>5292.00</td>\n",
       "      <td>7257.60</td>\n",
       "    </tr>\n",
       "    <tr>\n",
       "      <th>1</th>\n",
       "      <td>moratuwa</td>\n",
       "      <td>1590.12</td>\n",
       "      <td>1060.08</td>\n",
       "      <td>6007.12</td>\n",
       "      <td>8657.32</td>\n",
       "    </tr>\n",
       "    <tr>\n",
       "      <th>2</th>\n",
       "      <td>wattala</td>\n",
       "      <td>2288.88</td>\n",
       "      <td>1481.04</td>\n",
       "      <td>9155.52</td>\n",
       "      <td>12925.44</td>\n",
       "    </tr>\n",
       "    <tr>\n",
       "      <th>3</th>\n",
       "      <td>wattala</td>\n",
       "      <td>2274.94</td>\n",
       "      <td>1739.66</td>\n",
       "      <td>9099.76</td>\n",
       "      <td>13114.36</td>\n",
       "    </tr>\n",
       "    <tr>\n",
       "      <th>4</th>\n",
       "      <td>kelaniya</td>\n",
       "      <td>2345.49</td>\n",
       "      <td>2069.55</td>\n",
       "      <td>9243.99</td>\n",
       "      <td>13659.03</td>\n",
       "    </tr>\n",
       "  </tbody>\n",
       "</table>\n",
       "</div>"
      ],
      "text/plain": [
       "  outlet_city  luxury_sales  fresh_sales  dry_sales  total_sales\n",
       "0    kelaniya       1209.60       756.00    5292.00      7257.60\n",
       "1    moratuwa       1590.12      1060.08    6007.12      8657.32\n",
       "2     wattala       2288.88      1481.04    9155.52     12925.44\n",
       "3     wattala       2274.94      1739.66    9099.76     13114.36\n",
       "4    kelaniya       2345.49      2069.55    9243.99     13659.03"
      ]
     },
     "execution_count": 70,
     "metadata": {},
     "output_type": "execute_result"
    }
   ],
   "source": [
    "X.head()"
   ]
  },
  {
   "cell_type": "code",
   "execution_count": 71,
   "metadata": {
    "colab": {
     "base_uri": "https://localhost:8080/"
    },
    "id": "WWcjR-MkSC1K",
    "outputId": "10f5142b-46e1-4712-c5f5-525a13a47857"
   },
   "outputs": [
    {
     "data": {
      "text/plain": [
       "0    4\n",
       "1    1\n",
       "2    4\n",
       "3    4\n",
       "4    4\n",
       "Name: cluster_category, dtype: object"
      ]
     },
     "execution_count": 71,
     "metadata": {},
     "output_type": "execute_result"
    }
   ],
   "source": [
    "y.head()"
   ]
  },
  {
   "cell_type": "code",
   "execution_count": 72,
   "metadata": {
    "id": "-2GurcppUCqL"
   },
   "outputs": [],
   "source": [
    "# Splitting the data into training and testing sets\n",
    "X_train, X_test, y_train, y_test = train_test_split(X, y, test_size=0.2, random_state=42, stratify=y)"
   ]
  },
  {
   "cell_type": "code",
   "execution_count": 73,
   "metadata": {
    "colab": {
     "base_uri": "https://localhost:8080/"
    },
    "id": "_igTwCK09ELV",
    "outputId": "2df1448d-2247-4275-c67d-144a914a3b53"
   },
   "outputs": [
    {
     "name": "stdout",
     "output_type": "stream",
     "text": [
      "outlet_city      True\n",
      "luxury_sales    False\n",
      "fresh_sales     False\n",
      "dry_sales       False\n",
      "total_sales     False\n",
      "dtype: bool\n"
     ]
    }
   ],
   "source": [
    "print(X_train.dtypes == 'object')"
   ]
  },
  {
   "cell_type": "markdown",
   "metadata": {
    "id": "XkhlX6FrfYMB"
   },
   "source": [
    "#Implement Encoding"
   ]
  },
  {
   "cell_type": "code",
   "execution_count": 74,
   "metadata": {
    "id": "50bfoFEZmcnK"
   },
   "outputs": [],
   "source": [
    "# dummy_rows = pd.DataFrame({\n",
    "#     'outlet_city': ['anuradhapura','madawachiya'],\n",
    "#     'luxury_sales': [0, 0],\n",
    "#     'fresh_sales': [0, 0],\n",
    "#     'dry_sales': [0, 0],\n",
    "#     'total_sales': [0, 0],\n",
    "#     })\n",
    "# X_train = pd.concat([X_train, dummy_rows], ignore_index=True)"
   ]
  },
  {
   "cell_type": "code",
   "execution_count": 75,
   "metadata": {
    "id": "qBuXCOoNg_lJ"
   },
   "outputs": [],
   "source": [
    "# Specify object columns\n",
    "object_cols = ['outlet_city']"
   ]
  },
  {
   "cell_type": "code",
   "execution_count": 76,
   "metadata": {
    "id": "t1GwBnuv3jUl"
   },
   "outputs": [],
   "source": [
    "# from sklearn.preprocessing import LabelEncoder\n",
    "# label_encoder = LabelEncoder()\n",
    "# for col in object_cols:\n",
    "#     X_train[col] = label_encoder.fit_transform(X_train[col])\n",
    "#     X_test[col] = label_encoder.transform(X_test[col])"
   ]
  },
  {
   "cell_type": "code",
   "execution_count": 77,
   "metadata": {
    "id": "3d5E88GECx7g"
   },
   "outputs": [],
   "source": [
    "# le = LabelEncoder()\n",
    "# X_train['outlet_city'] = le.fit_transform(X_train['outlet_city'])\n",
    "\n",
    "# # Create a mapping of the label encoder\n",
    "# city_mapping = {label: index for index, label in enumerate(le.classes_)}\n",
    "\n",
    "# # Encode the test set\n",
    "# def encode_city(city):\n",
    "#     return city_mapping.get(city, -1)  # Assign -1 for unseen categories\n",
    "\n",
    "# X_test['outlet_city'] = X_test['outlet_city'].apply(encode_city)"
   ]
  },
  {
   "cell_type": "code",
   "execution_count": 79,
   "metadata": {
    "colab": {
     "base_uri": "https://localhost:8080/"
    },
    "id": "9CyEuft9fXcx",
    "outputId": "ae555937-7dac-4e00-8924-dd2af434244b"
   },
   "outputs": [],
   "source": [
    "# Apply one-hot encoder to each column with categorical data\n",
    "OH_encoder = OneHotEncoder(handle_unknown='ignore', sparse_output=False)\n",
    "OH_cols_train = pd.DataFrame(OH_encoder.fit_transform(X_train[object_cols]))\n",
    "OH_cols_test = pd.DataFrame(OH_encoder.transform(X_test[object_cols]))\n",
    "\n",
    "# One-hot encoding removed index; put it back\n",
    "OH_cols_train.index = X_train.index\n",
    "OH_cols_test.index = X_test.index\n",
    "\n",
    "# Remove categorical columns (will replace with one-hot encoding)\n",
    "num_X_train = X_train.drop(object_cols, axis=1)\n",
    "num_X_test = X_test.drop(object_cols, axis=1)\n",
    "\n",
    "# Add one-hot encoded columns to numerical features\n",
    "OH_X_train = pd.concat([num_X_train, OH_cols_train], axis=1)\n",
    "OH_X_test = pd.concat([num_X_test, OH_cols_test], axis=1)\n",
    "\n",
    "# Add one-hot encoded columns to numerical features\n",
    "X_train = pd.concat([num_X_train, OH_cols_train], axis=1)\n",
    "X_test = pd.concat([num_X_test, OH_cols_test], axis=1)\n",
    "\n",
    "# Ensure all columns have string type\n",
    "X_train.columns = OH_X_train.columns.astype(str)\n",
    "X_test.columns = OH_X_test.columns.astype(str)"
   ]
  },
  {
   "cell_type": "code",
   "execution_count": 80,
   "metadata": {
    "id": "1a02OtaXmVCo"
   },
   "outputs": [],
   "source": [
    "#X_train.to_csv('trainingModel.csv')\n",
    "#X_test.to_csv('testModel.csv')"
   ]
  },
  {
   "cell_type": "markdown",
   "metadata": {
    "id": "keL8TQtu31WI"
   },
   "source": [
    "## Standerdizing Features"
   ]
  },
  {
   "cell_type": "code",
   "execution_count": 82,
   "metadata": {
    "id": "SoHvaK3HeCVU"
   },
   "outputs": [],
   "source": [
    "columns_to_scale = ['luxury_sales', 'fresh_sales', 'dry_sales', 'total_sales'] #, 'total_sales'"
   ]
  },
  {
   "cell_type": "code",
   "execution_count": 83,
   "metadata": {
    "id": "xJ4l4lFirFJl"
   },
   "outputs": [],
   "source": [
    "scaler = StandardScaler()\n",
    "X_train[columns_to_scale] = scaler.fit_transform(X_train[columns_to_scale])\n",
    "X_test[columns_to_scale] = scaler.transform(X_test[columns_to_scale])"
   ]
  },
  {
   "cell_type": "code",
   "execution_count": 84,
   "metadata": {
    "id": "KlClh0Yo1m1Z"
   },
   "outputs": [],
   "source": [
    "# from sklearn.preprocessing import MinMaxScaler\n",
    "# scaler = MinMaxScaler()\n",
    "# X_train[columns_to_scale] = scaler.fit_transform(X_train[columns_to_scale])\n",
    "# X_test[columns_to_scale] = scaler.transform(X_test[columns_to_scale])"
   ]
  },
  {
   "cell_type": "code",
   "execution_count": 85,
   "metadata": {
    "colab": {
     "base_uri": "https://localhost:8080/"
    },
    "id": "UimjtdZpSfSo",
    "outputId": "44c6a5a0-372e-48ce-cf4e-b84b3a235b03"
   },
   "outputs": [
    {
     "name": "stdout",
     "output_type": "stream",
     "text": [
      "        luxury_sales  fresh_sales  dry_sales  total_sales    0    1    2    3  \\\n",
      "668401      0.856008     2.058850  -0.843603     1.262076  0.0  0.0  0.0  0.0   \n",
      "123714     -1.125242    -1.122384  -0.349477    -1.579681  0.0  0.0  0.0  0.0   \n",
      "187746     -0.115348     1.265026  -0.652639     0.488320  0.0  0.0  0.0  0.0   \n",
      "165088     -1.054719    -1.069450  -0.241276    -1.419094  0.0  0.0  1.0  0.0   \n",
      "134234      0.263256    -0.803591   1.448805     0.658718  0.0  0.0  0.0  0.0   \n",
      "763455      2.045130     0.018308  -0.130618     0.434842  0.0  0.0  0.0  0.0   \n",
      "464986     -0.882984    -0.791789   0.449910    -0.518720  0.0  1.0  0.0  0.0   \n",
      "534389     -0.050084    -0.566238   1.333007     0.679943  0.0  0.0  0.0  1.0   \n",
      "166320     -0.977622    -1.065032  -0.158290    -1.321331  0.0  0.0  0.0  0.0   \n",
      "720789     -0.318490     0.714630  -1.018949    -0.368369  0.0  0.0  0.0  0.0   \n",
      "\n",
      "          4    5  ...   10   11   12   13   14   15   16   17   18   19  \n",
      "668401  0.0  0.0  ...  0.0  0.0  0.0  0.0  0.0  0.0  0.0  0.0  0.0  0.0  \n",
      "123714  0.0  0.0  ...  0.0  0.0  1.0  0.0  0.0  0.0  0.0  0.0  0.0  0.0  \n",
      "187746  0.0  0.0  ...  0.0  0.0  0.0  0.0  0.0  0.0  0.0  0.0  0.0  0.0  \n",
      "165088  0.0  0.0  ...  0.0  0.0  0.0  0.0  0.0  0.0  0.0  0.0  0.0  0.0  \n",
      "134234  0.0  0.0  ...  0.0  0.0  0.0  0.0  0.0  0.0  0.0  1.0  0.0  0.0  \n",
      "763455  0.0  0.0  ...  0.0  0.0  0.0  0.0  0.0  0.0  0.0  0.0  0.0  0.0  \n",
      "464986  0.0  0.0  ...  0.0  0.0  0.0  0.0  0.0  0.0  0.0  0.0  0.0  0.0  \n",
      "534389  0.0  0.0  ...  0.0  0.0  0.0  0.0  0.0  0.0  0.0  0.0  0.0  0.0  \n",
      "166320  0.0  0.0  ...  0.0  0.0  0.0  0.0  0.0  0.0  0.0  0.0  0.0  1.0  \n",
      "720789  0.0  0.0  ...  0.0  0.0  0.0  0.0  0.0  0.0  0.0  0.0  1.0  0.0  \n",
      "\n",
      "[10 rows x 24 columns]\n"
     ]
    }
   ],
   "source": [
    "print(X_train[:10])"
   ]
  },
  {
   "cell_type": "markdown",
   "metadata": {
    "id": "EliaA_77TYB3"
   },
   "source": [
    "## Principle Component Analysis"
   ]
  },
  {
   "cell_type": "code",
   "execution_count": 86,
   "metadata": {
    "id": "74Nz7uwlQ2m7"
   },
   "outputs": [],
   "source": [
    "# from sklearn.decomposition import PCA\n",
    "\n",
    "# # Apply PCA to the training data\n",
    "# pca = PCA(n_components=2)\n",
    "# X_train = pca.fit_transform(X_train)\n",
    "\n",
    "# # Apply the fitted PCA to the test data\n",
    "# X_test = pca.transform(X_test)"
   ]
  },
  {
   "cell_type": "code",
   "execution_count": 87,
   "metadata": {
    "colab": {
     "base_uri": "https://localhost:8080/"
    },
    "id": "TBQ9W2SuQsbG",
    "outputId": "8980e719-6ffe-4619-e0f5-ed94db5805ff"
   },
   "outputs": [
    {
     "data": {
      "text/plain": [
       "(619316, 24)"
      ]
     },
     "execution_count": 87,
     "metadata": {},
     "output_type": "execute_result"
    }
   ],
   "source": [
    "X_train.shape"
   ]
  },
  {
   "cell_type": "code",
   "execution_count": 88,
   "metadata": {
    "id": "nQwI90Cw3X9A"
   },
   "outputs": [],
   "source": [
    "# from imblearn.over_sampling import SMOTE\n",
    "\n",
    "# smote = SMOTE(random_state=42)\n",
    "# X_train, y_train = smote.fit_resample(X_train, y_train)"
   ]
  },
  {
   "cell_type": "code",
   "execution_count": 89,
   "metadata": {
    "colab": {
     "base_uri": "https://localhost:8080/"
    },
    "id": "nX2e8Dy8Qp5O",
    "outputId": "a7d3185b-7540-4358-ee4f-012d596c02c2"
   },
   "outputs": [
    {
     "data": {
      "text/plain": [
       "(619316, 24)"
      ]
     },
     "execution_count": 89,
     "metadata": {},
     "output_type": "execute_result"
    }
   ],
   "source": [
    "X_train.shape"
   ]
  },
  {
   "cell_type": "code",
   "execution_count": 90,
   "metadata": {
    "id": "gYiheZ5EVBE0"
   },
   "outputs": [],
   "source": [
    "#print(X_train)"
   ]
  },
  {
   "cell_type": "markdown",
   "metadata": {
    "id": "xUtTJhfgTxKA"
   },
   "source": [
    "## Defining Pipeline"
   ]
  },
  {
   "cell_type": "code",
   "execution_count": 91,
   "metadata": {
    "id": "Uv-6iWZdkTeQ"
   },
   "outputs": [],
   "source": [
    "# # Define the preprocessing steps\n",
    "# preprocessor = ColumnTransformer(\n",
    "#     transformers=[\n",
    "#         ('outlet_city', OneHotEncoder(handle_unknown='ignore', sparse_output=False), object_cols),\n",
    "#         ('numeric', StandardScaler(), columns_to_scale)\n",
    "#     ]\n",
    "# )\n",
    "\n",
    "# # Create a pipeline with the preprocessor and the classifier\n",
    "# model = Pipeline(steps=[\n",
    "#     ('preprocessor', preprocessor),\n",
    "#     ('classifier', RandomForestClassifier(random_state=42))\n",
    "# ])\n",
    "\n",
    "# # # Define the pipeline with SMOTE and the classifier\n",
    "# # model = ImbPipeline(steps=[\n",
    "# #     ('preprocessor', preprocessor),\n",
    "# #     ('smote', SMOTE(random_state=42)),\n",
    "# #     ('classifier', KNeighborsClassifier(n_neighbors=5, weights='distance', algorithm='auto', leaf_size=30, p=2, metric='minkowski'))\n",
    "# # ])"
   ]
  },
  {
   "cell_type": "markdown",
   "metadata": {
    "id": "0CNAsxHFT0NI"
   },
   "source": [
    "## Trying different Model"
   ]
  },
  {
   "cell_type": "code",
   "execution_count": 92,
   "metadata": {
    "id": "W4uRO308emLo"
   },
   "outputs": [],
   "source": [
    "# Models to be used\n",
    "# models = {\n",
    "#     \"Logistic Regression\": LogisticRegression(max_iter=1000, solver='liblinear'),\n",
    "#     \"K-Nearest Neighbors\": KNeighborsClassifier(n_neighbors=5),\n",
    "#     \"Decision Tree\": DecisionTreeClassifier(max_depth=5),\n",
    "#     \"Random Forest\": RandomForestClassifier(n_estimators=100, max_depth=5),\n",
    "#     \"Gradient Boosting\": GradientBoostingClassifier(n_estimators=100, learning_rate=0.1),\n",
    "#     \"XGBoost\": XGBClassifier(n_estimators=100, learning_rate=0.1),\n",
    "#     \"CatBoost\": CatBoostClassifier(iterations=100, learning_rate=0.1, depth=5, verbose=False)\n",
    "#     OneVsRestClassifier(SVC())\n",
    "# }"
   ]
  },
  {
   "cell_type": "code",
   "execution_count": 93,
   "metadata": {
    "id": "NS2X7v68xO2i"
   },
   "outputs": [],
   "source": [
    "#from sklearn.multiclass import OneVsRestClassifier\n"
   ]
  },
  {
   "cell_type": "code",
   "execution_count": 94,
   "metadata": {
    "id": "PvOjlmH7W1lY"
   },
   "outputs": [],
   "source": [
    "#pip install scikit-optimize"
   ]
  },
  {
   "cell_type": "code",
   "execution_count": 95,
   "metadata": {
    "id": "c1rZ444_WWpo"
   },
   "outputs": [],
   "source": [
    "# from skopt import BayesSearchCV\n",
    "# from sklearn.metrics import accuracy_score, classification_report\n",
    "\n",
    "# # Define the search space\n",
    "# search_spaces = {\n",
    "#     'n_estimators': (50, 200),\n",
    "#     'max_depth': (10, 30),\n",
    "#     'min_samples_split': (2, 10),\n",
    "#     'min_samples_leaf': (1, 4)\n",
    "# }\n",
    "\n",
    "# # Initialize the classifier\n",
    "# clf = RandomForestClassifier(random_state=42)\n",
    "\n",
    "# # Initialize BayesSearchCV\n",
    "# bayes_search = BayesSearchCV(estimator=clf, search_spaces=search_spaces, n_iter=32, cv=5, n_jobs=-1, verbose=2, random_state=42)\n",
    "\n",
    "# # Fit BayesSearchCV\n",
    "# bayes_search.fit(X_train, y_train)\n",
    "\n",
    "# # Best parameters and estimator\n",
    "# print(\"Best parameters found: \", bayes_search.best_params_)\n",
    "# best_clf = bayes_search.best_estimator_\n",
    "\n",
    "# # Evaluate the best model\n",
    "# y_pred = best_clf.predict(X_test_pca)\n",
    "# print(\"Accuracy: \", accuracy_score(y_test, y_pred))\n",
    "# print(classification_report(y_test, y_pred))"
   ]
  },
  {
   "cell_type": "code",
   "execution_count": 97,
   "metadata": {
    "id": "8QQMVNv0f7AQ"
   },
   "outputs": [],
   "source": [
    "# model\n",
    "model = KNeighborsClassifier(n_neighbors=5, weights='distance', algorithm='auto', leaf_size=30, p=2, metric='minkowski')\n",
    "\n",
    "# Fit the model\n",
    "model.fit(X_train, y_train)\n",
    "\n",
    "# Make predictions\n",
    "y_train_pred_lr = model.predict(X_train)\n",
    "y_test_pred_lr = model.predict(X_test)"
   ]
  },
  {
   "cell_type": "markdown",
   "metadata": {
    "id": "MUO7htpST9RI"
   },
   "source": [
    "## Evaluate Train and Test dataset"
   ]
  },
  {
   "cell_type": "code",
   "execution_count": 98,
   "metadata": {
    "id": "FPzWtO9-y2am"
   },
   "outputs": [
    {
     "name": "stdout",
     "output_type": "stream",
     "text": [
      "Model performance for Training set\n",
      "- Accuracy: 1.0000\n",
      "----------------------------------\n",
      "Model performance for Test set\n",
      "- Accuracy: 0.9998\n"
     ]
    }
   ],
   "source": [
    "train_accuracy_lr = accuracy_score(y_train, y_train_pred_lr)\n",
    "test_accuracy_lr = accuracy_score(y_test, y_test_pred_lr)\n",
    "\n",
    "print('Model performance for Training set')\n",
    "print(\"- Accuracy: {:.4f}\".format(train_accuracy_lr))\n",
    "print('----------------------------------')\n",
    "print('Model performance for Test set')\n",
    "print(\"- Accuracy: {:.4f}\".format(test_accuracy_lr))"
   ]
  },
  {
   "cell_type": "markdown",
   "metadata": {},
   "source": [
    "#### Selected Model -> K-Neighbours Classifier Algorithm was selected out of the Algorithms we tried out."
   ]
  },
  {
   "cell_type": "code",
   "execution_count": 99,
   "metadata": {
    "id": "o4DSg2UXryd0"
   },
   "outputs": [],
   "source": [
    "# #Calculate precision, recall, and F1-score\n",
    "# precision_svc = precision_score(y_test, y_test_pred_lr)\n",
    "# recall_svc = recall_score(y_test, y_test_pred_lr)\n",
    "# f1_svc = f1_score(y_test, y_test_pred_lr)\n",
    "\n",
    "# print(\"- Precision: {:.4f}\".format(precision_svc))\n",
    "# print(\"- Recall: {:.4f}\".format(recall_svc))\n",
    "# print(\"- F1-score: {:.4f}\".format(f1_svc))"
   ]
  },
  {
   "cell_type": "code",
   "execution_count": 100,
   "metadata": {
    "id": "uE_z-j5aIRiM"
   },
   "outputs": [],
   "source": [
    "# # Fit the model\n",
    "# svc = SVC(probability=True)\n",
    "# svc.fit(X_train, y_train)\n",
    "\n",
    "# # Make predictions\n",
    "# y_train_pred_svc = svc.predict(X_train)\n",
    "# y_test_pred_svc = svc.predict(X_test)\n",
    "\n",
    "# # Evaluate Train and Test dataset\n",
    "# train_accuracy_svc = accuracy_score(y_train, y_train_pred_svc)\n",
    "# test_accuracy_svc = accuracy_score(y_test, y_test_pred_svc)\n",
    "\n",
    "# # Calculate precision, recall, and F1-score\n",
    "# # precision_svc = precision_score(y_test, y_test_pred_svc, average='weighted')\n",
    "# # recall_svc = recall_score(y_test, y_test_pred_svc, average='weighted')\n",
    "# # f1_svc = f1_score(y_test, y_test_pred_svc, average='weighted')\n",
    "\n",
    "# # Calculate AUC-ROC\n",
    "# # y_test_prob_svc = svc.predict_proba(X_test)\n",
    "# # auc_roc_svc = roc_auc_score(y_test, y_test_prob_svc, multi_class='ovr')\n",
    "\n",
    "# print(\"Support Vector Classifier\")\n",
    "# print('Model performance for Training set')\n",
    "# print(\"- Accuracy: {:.4f}\".format(train_accuracy_svc))\n",
    "# print('----------------------------------')\n",
    "# print('Model performance for Test set')\n",
    "# print(\"- Accuracy: {:.4f}\".format(test_accuracy_svc))\n",
    "# # print(\"- Precision: {:.4f}\".format(precision_svc))\n",
    "# # print(\"- Recall: {:.4f}\".format(recall_svc))\n",
    "# # print(\"- F1-score: {:.4f}\".format(f1_svc))\n",
    "# # print(\"- AUC-ROC: {:.4f}\".format(auc_roc_svc))"
   ]
  },
  {
   "cell_type": "code",
   "execution_count": 101,
   "metadata": {
    "id": "npgljDLCXxd1"
   },
   "outputs": [
    {
     "data": {
      "text/html": [
       "<div>\n",
       "<style scoped>\n",
       "    .dataframe tbody tr th:only-of-type {\n",
       "        vertical-align: middle;\n",
       "    }\n",
       "\n",
       "    .dataframe tbody tr th {\n",
       "        vertical-align: top;\n",
       "    }\n",
       "\n",
       "    .dataframe thead th {\n",
       "        text-align: right;\n",
       "    }\n",
       "</style>\n",
       "<table border=\"1\" class=\"dataframe\">\n",
       "  <thead>\n",
       "    <tr style=\"text-align: right;\">\n",
       "      <th></th>\n",
       "      <th>luxury_sales</th>\n",
       "      <th>fresh_sales</th>\n",
       "      <th>dry_sales</th>\n",
       "      <th>total_sales</th>\n",
       "      <th>0</th>\n",
       "      <th>1</th>\n",
       "      <th>2</th>\n",
       "      <th>3</th>\n",
       "      <th>4</th>\n",
       "      <th>5</th>\n",
       "      <th>...</th>\n",
       "      <th>10</th>\n",
       "      <th>11</th>\n",
       "      <th>12</th>\n",
       "      <th>13</th>\n",
       "      <th>14</th>\n",
       "      <th>15</th>\n",
       "      <th>16</th>\n",
       "      <th>17</th>\n",
       "      <th>18</th>\n",
       "      <th>19</th>\n",
       "    </tr>\n",
       "  </thead>\n",
       "  <tbody>\n",
       "    <tr>\n",
       "      <th>668401</th>\n",
       "      <td>0.856008</td>\n",
       "      <td>2.058850</td>\n",
       "      <td>-0.843603</td>\n",
       "      <td>1.262076</td>\n",
       "      <td>0.0</td>\n",
       "      <td>0.0</td>\n",
       "      <td>0.0</td>\n",
       "      <td>0.0</td>\n",
       "      <td>0.0</td>\n",
       "      <td>0.0</td>\n",
       "      <td>...</td>\n",
       "      <td>0.0</td>\n",
       "      <td>0.0</td>\n",
       "      <td>0.0</td>\n",
       "      <td>0.0</td>\n",
       "      <td>0.0</td>\n",
       "      <td>0.0</td>\n",
       "      <td>0.0</td>\n",
       "      <td>0.0</td>\n",
       "      <td>0.0</td>\n",
       "      <td>0.0</td>\n",
       "    </tr>\n",
       "    <tr>\n",
       "      <th>123714</th>\n",
       "      <td>-1.125242</td>\n",
       "      <td>-1.122384</td>\n",
       "      <td>-0.349477</td>\n",
       "      <td>-1.579681</td>\n",
       "      <td>0.0</td>\n",
       "      <td>0.0</td>\n",
       "      <td>0.0</td>\n",
       "      <td>0.0</td>\n",
       "      <td>0.0</td>\n",
       "      <td>0.0</td>\n",
       "      <td>...</td>\n",
       "      <td>0.0</td>\n",
       "      <td>0.0</td>\n",
       "      <td>1.0</td>\n",
       "      <td>0.0</td>\n",
       "      <td>0.0</td>\n",
       "      <td>0.0</td>\n",
       "      <td>0.0</td>\n",
       "      <td>0.0</td>\n",
       "      <td>0.0</td>\n",
       "      <td>0.0</td>\n",
       "    </tr>\n",
       "    <tr>\n",
       "      <th>187746</th>\n",
       "      <td>-0.115348</td>\n",
       "      <td>1.265026</td>\n",
       "      <td>-0.652639</td>\n",
       "      <td>0.488320</td>\n",
       "      <td>0.0</td>\n",
       "      <td>0.0</td>\n",
       "      <td>0.0</td>\n",
       "      <td>0.0</td>\n",
       "      <td>0.0</td>\n",
       "      <td>0.0</td>\n",
       "      <td>...</td>\n",
       "      <td>0.0</td>\n",
       "      <td>0.0</td>\n",
       "      <td>0.0</td>\n",
       "      <td>0.0</td>\n",
       "      <td>0.0</td>\n",
       "      <td>0.0</td>\n",
       "      <td>0.0</td>\n",
       "      <td>0.0</td>\n",
       "      <td>0.0</td>\n",
       "      <td>0.0</td>\n",
       "    </tr>\n",
       "    <tr>\n",
       "      <th>165088</th>\n",
       "      <td>-1.054719</td>\n",
       "      <td>-1.069450</td>\n",
       "      <td>-0.241276</td>\n",
       "      <td>-1.419094</td>\n",
       "      <td>0.0</td>\n",
       "      <td>0.0</td>\n",
       "      <td>1.0</td>\n",
       "      <td>0.0</td>\n",
       "      <td>0.0</td>\n",
       "      <td>0.0</td>\n",
       "      <td>...</td>\n",
       "      <td>0.0</td>\n",
       "      <td>0.0</td>\n",
       "      <td>0.0</td>\n",
       "      <td>0.0</td>\n",
       "      <td>0.0</td>\n",
       "      <td>0.0</td>\n",
       "      <td>0.0</td>\n",
       "      <td>0.0</td>\n",
       "      <td>0.0</td>\n",
       "      <td>0.0</td>\n",
       "    </tr>\n",
       "    <tr>\n",
       "      <th>134234</th>\n",
       "      <td>0.263256</td>\n",
       "      <td>-0.803591</td>\n",
       "      <td>1.448805</td>\n",
       "      <td>0.658718</td>\n",
       "      <td>0.0</td>\n",
       "      <td>0.0</td>\n",
       "      <td>0.0</td>\n",
       "      <td>0.0</td>\n",
       "      <td>0.0</td>\n",
       "      <td>0.0</td>\n",
       "      <td>...</td>\n",
       "      <td>0.0</td>\n",
       "      <td>0.0</td>\n",
       "      <td>0.0</td>\n",
       "      <td>0.0</td>\n",
       "      <td>0.0</td>\n",
       "      <td>0.0</td>\n",
       "      <td>0.0</td>\n",
       "      <td>1.0</td>\n",
       "      <td>0.0</td>\n",
       "      <td>0.0</td>\n",
       "    </tr>\n",
       "  </tbody>\n",
       "</table>\n",
       "<p>5 rows × 24 columns</p>\n",
       "</div>"
      ],
      "text/plain": [
       "        luxury_sales  fresh_sales  dry_sales  total_sales    0    1    2    3  \\\n",
       "668401      0.856008     2.058850  -0.843603     1.262076  0.0  0.0  0.0  0.0   \n",
       "123714     -1.125242    -1.122384  -0.349477    -1.579681  0.0  0.0  0.0  0.0   \n",
       "187746     -0.115348     1.265026  -0.652639     0.488320  0.0  0.0  0.0  0.0   \n",
       "165088     -1.054719    -1.069450  -0.241276    -1.419094  0.0  0.0  1.0  0.0   \n",
       "134234      0.263256    -0.803591   1.448805     0.658718  0.0  0.0  0.0  0.0   \n",
       "\n",
       "          4    5  ...   10   11   12   13   14   15   16   17   18   19  \n",
       "668401  0.0  0.0  ...  0.0  0.0  0.0  0.0  0.0  0.0  0.0  0.0  0.0  0.0  \n",
       "123714  0.0  0.0  ...  0.0  0.0  1.0  0.0  0.0  0.0  0.0  0.0  0.0  0.0  \n",
       "187746  0.0  0.0  ...  0.0  0.0  0.0  0.0  0.0  0.0  0.0  0.0  0.0  0.0  \n",
       "165088  0.0  0.0  ...  0.0  0.0  0.0  0.0  0.0  0.0  0.0  0.0  0.0  0.0  \n",
       "134234  0.0  0.0  ...  0.0  0.0  0.0  0.0  0.0  0.0  0.0  1.0  0.0  0.0  \n",
       "\n",
       "[5 rows x 24 columns]"
      ]
     },
     "execution_count": 101,
     "metadata": {},
     "output_type": "execute_result"
    }
   ],
   "source": [
    "X_train.head()"
   ]
  }
 ],
 "metadata": {
  "colab": {
   "provenance": []
  },
  "kernelspec": {
   "display_name": "Python 3 (ipykernel)",
   "language": "python",
   "name": "python3"
  },
  "language_info": {
   "codemirror_mode": {
    "name": "ipython",
    "version": 3
   },
   "file_extension": ".py",
   "mimetype": "text/x-python",
   "name": "python",
   "nbconvert_exporter": "python",
   "pygments_lexer": "ipython3",
   "version": "3.11.5"
  }
 },
 "nbformat": 4,
 "nbformat_minor": 4
}
