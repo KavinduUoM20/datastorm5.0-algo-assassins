{
 "cells": [
  {
   "cell_type": "markdown",
   "id": "2ea5b10a-b610-42d1-88a7-c49084a6df9c",
   "metadata": {},
   "source": [
    "# Notebook 3 - Final Model Building"
   ]
  },
  {
   "cell_type": "markdown",
   "id": "5ef766e7-792b-4d65-96a6-a316640f4b0f",
   "metadata": {},
   "source": [
    "In the Notebook-1, We selected the Algorithm to be used in model building, In Notebook-2 we pre-processed the testing dataset. And in this Notebook-3, We build the model, and predicting the results."
   ]
  },
  {
   "cell_type": "markdown",
   "id": "d758f351-480f-433a-bff8-240b12a69aa3",
   "metadata": {},
   "source": [
    "## Import Dependancies"
   ]
  },
  {
   "cell_type": "code",
   "execution_count": 1,
   "id": "949ac392",
   "metadata": {},
   "outputs": [],
   "source": [
    "import pandas as pd\n",
    "import numpy as np\n",
    "import seaborn as sns\n",
    "import matplotlib.pyplot as plt"
   ]
  },
  {
   "cell_type": "code",
   "execution_count": 2,
   "id": "a886478b",
   "metadata": {},
   "outputs": [
    {
     "name": "stderr",
     "output_type": "stream",
     "text": [
      "c:\\Program Files\\Python37\\lib\\site-packages\\IPython\\core\\interactiveshell.py:3553: DtypeWarning: Columns (3,4,5) have mixed types.Specify dtype option on import or set low_memory=False.\n",
      "  exec(code_obj, self.user_global_ns, self.user_ns)\n"
     ]
    }
   ],
   "source": [
    "df = pd.read_csv(r'C:\\Users\\aabidh musthaq\\Desktop\\MAchine lea projects\\Competition\\Data Strom\\train_kaggle.csv')"
   ]
  },
  {
   "cell_type": "markdown",
   "id": "924e17a4",
   "metadata": {},
   "source": [
    "## Data preprocessing"
   ]
  },
  {
   "cell_type": "code",
   "execution_count": 3,
   "id": "f64a608e",
   "metadata": {},
   "outputs": [
    {
     "data": {
      "text/plain": [
       "(774155, 6)"
      ]
     },
     "execution_count": 3,
     "metadata": {},
     "output_type": "execute_result"
    }
   ],
   "source": [
    "df.shape"
   ]
  },
  {
   "cell_type": "code",
   "execution_count": 4,
   "id": "3d626afe",
   "metadata": {},
   "outputs": [
    {
     "data": {
      "text/html": [
       "<div>\n",
       "<style scoped>\n",
       "    .dataframe tbody tr th:only-of-type {\n",
       "        vertical-align: middle;\n",
       "    }\n",
       "\n",
       "    .dataframe tbody tr th {\n",
       "        vertical-align: top;\n",
       "    }\n",
       "\n",
       "    .dataframe thead th {\n",
       "        text-align: right;\n",
       "    }\n",
       "</style>\n",
       "<table border=\"1\" class=\"dataframe\">\n",
       "  <thead>\n",
       "    <tr style=\"text-align: right;\">\n",
       "      <th></th>\n",
       "      <th>Customer_ID</th>\n",
       "      <th>outlet_city</th>\n",
       "      <th>luxury_sales</th>\n",
       "      <th>fresh_sales</th>\n",
       "      <th>dry_sales</th>\n",
       "      <th>cluster_catgeory</th>\n",
       "    </tr>\n",
       "  </thead>\n",
       "  <tbody>\n",
       "    <tr>\n",
       "      <th>0</th>\n",
       "      <td>10493832.0</td>\n",
       "      <td>Kelaniya</td>\n",
       "      <td>1209.6</td>\n",
       "      <td>756.0</td>\n",
       "      <td>5292.0</td>\n",
       "      <td>4</td>\n",
       "    </tr>\n",
       "    <tr>\n",
       "      <th>1</th>\n",
       "      <td>10178643.0</td>\n",
       "      <td>Moratuwa</td>\n",
       "      <td>1590.12</td>\n",
       "      <td>1060.08</td>\n",
       "      <td>6007.12</td>\n",
       "      <td>1</td>\n",
       "    </tr>\n",
       "    <tr>\n",
       "      <th>2</th>\n",
       "      <td>10513916.0</td>\n",
       "      <td>Wattala</td>\n",
       "      <td>2288.88</td>\n",
       "      <td>1481.04</td>\n",
       "      <td>9155.52</td>\n",
       "      <td>4</td>\n",
       "    </tr>\n",
       "    <tr>\n",
       "      <th>3</th>\n",
       "      <td>10334589.0</td>\n",
       "      <td>Wattala</td>\n",
       "      <td>2274.94</td>\n",
       "      <td>1739.66</td>\n",
       "      <td>9099.76</td>\n",
       "      <td>4</td>\n",
       "    </tr>\n",
       "    <tr>\n",
       "      <th>4</th>\n",
       "      <td>10458365.0</td>\n",
       "      <td>Kelaniya</td>\n",
       "      <td>2345.49</td>\n",
       "      <td>2069.55</td>\n",
       "      <td>9243.99</td>\n",
       "      <td>4</td>\n",
       "    </tr>\n",
       "  </tbody>\n",
       "</table>\n",
       "</div>"
      ],
      "text/plain": [
       "   Customer_ID outlet_city luxury_sales fresh_sales dry_sales cluster_catgeory\n",
       "0   10493832.0    Kelaniya       1209.6       756.0    5292.0                4\n",
       "1   10178643.0    Moratuwa      1590.12     1060.08   6007.12                1\n",
       "2   10513916.0     Wattala      2288.88     1481.04   9155.52                4\n",
       "3   10334589.0     Wattala      2274.94     1739.66   9099.76                4\n",
       "4   10458365.0    Kelaniya      2345.49     2069.55   9243.99                4"
      ]
     },
     "execution_count": 4,
     "metadata": {},
     "output_type": "execute_result"
    }
   ],
   "source": [
    "df.head()"
   ]
  },
  {
   "cell_type": "code",
   "execution_count": 5,
   "id": "4fbbec37",
   "metadata": {},
   "outputs": [
    {
     "data": {
      "text/plain": [
       "0"
      ]
     },
     "execution_count": 5,
     "metadata": {},
     "output_type": "execute_result"
    }
   ],
   "source": [
    "df.duplicated().sum()"
   ]
  },
  {
   "cell_type": "code",
   "execution_count": 6,
   "id": "0b0755ee",
   "metadata": {},
   "outputs": [
    {
     "data": {
      "text/plain": [
       "Customer_ID         0.00\n",
       "outlet_city         0.00\n",
       "luxury_sales        0.00\n",
       "fresh_sales         0.01\n",
       "dry_sales           0.00\n",
       "cluster_catgeory    0.00\n",
       "dtype: float64"
      ]
     },
     "execution_count": 6,
     "metadata": {},
     "output_type": "execute_result"
    }
   ],
   "source": [
    "round((df.isnull().sum()/df.shape[0])*100,2) #checking null value %"
   ]
  },
  {
   "cell_type": "code",
   "execution_count": 7,
   "id": "db1c75a7",
   "metadata": {},
   "outputs": [],
   "source": [
    "df.dropna(inplace=True)"
   ]
  },
  {
   "cell_type": "code",
   "execution_count": 8,
   "id": "26b8a438",
   "metadata": {},
   "outputs": [
    {
     "data": {
      "text/plain": [
       "Customer_ID         0.0\n",
       "outlet_city         0.0\n",
       "luxury_sales        0.0\n",
       "fresh_sales         0.0\n",
       "dry_sales           0.0\n",
       "cluster_catgeory    0.0\n",
       "dtype: float64"
      ]
     },
     "execution_count": 8,
     "metadata": {},
     "output_type": "execute_result"
    }
   ],
   "source": [
    "round((df.isnull().sum()/df.shape[0])*100,2) #checking null value %"
   ]
  },
  {
   "cell_type": "code",
   "execution_count": 9,
   "id": "f020cde2",
   "metadata": {},
   "outputs": [
    {
     "name": "stdout",
     "output_type": "stream",
     "text": [
      "<class 'pandas.core.frame.DataFrame'>\n",
      "Int64Index: 774061 entries, 0 to 774154\n",
      "Data columns (total 6 columns):\n",
      " #   Column            Non-Null Count   Dtype  \n",
      "---  ------            --------------   -----  \n",
      " 0   Customer_ID       774061 non-null  float64\n",
      " 1   outlet_city       774061 non-null  object \n",
      " 2   luxury_sales      774061 non-null  object \n",
      " 3   fresh_sales       774061 non-null  object \n",
      " 4   dry_sales         774061 non-null  object \n",
      " 5   cluster_catgeory  774061 non-null  object \n",
      "dtypes: float64(1), object(5)\n",
      "memory usage: 41.3+ MB\n"
     ]
    }
   ],
   "source": [
    "df.info()"
   ]
  },
  {
   "cell_type": "code",
   "execution_count": 10,
   "id": "fa2bcd73",
   "metadata": {},
   "outputs": [
    {
     "data": {
      "text/plain": [
       "1        188950\n",
       "6        169197\n",
       "2        155045\n",
       "4        131027\n",
       "3         48889\n",
       "4         41400\n",
       "5         39516\n",
       "5             9\n",
       "1             9\n",
       "6             8\n",
       "2             4\n",
       "3             1\n",
       "6\\            1\n",
       "95            1\n",
       "98            1\n",
       "99            1\n",
       "100.0         1\n",
       "89.0          1\n",
       "Name: cluster_catgeory, dtype: int64"
      ]
     },
     "execution_count": 10,
     "metadata": {},
     "output_type": "execute_result"
    }
   ],
   "source": [
    "df[\"cluster_catgeory\"].value_counts()"
   ]
  },
  {
   "cell_type": "code",
   "execution_count": 11,
   "id": "fd554744",
   "metadata": {},
   "outputs": [],
   "source": [
    "counts = df[\"cluster_catgeory\"].value_counts()\n",
    "df = df[df[\"cluster_catgeory\"].isin(counts[counts >= 2 ].index)]"
   ]
  },
  {
   "cell_type": "code",
   "execution_count": 12,
   "id": "37aeff47",
   "metadata": {},
   "outputs": [
    {
     "data": {
      "text/plain": [
       "1    188950\n",
       "6    169197\n",
       "2    155045\n",
       "4    131027\n",
       "3     48889\n",
       "4     41400\n",
       "5     39516\n",
       "1         9\n",
       "5         9\n",
       "6         8\n",
       "2         4\n",
       "Name: cluster_catgeory, dtype: int64"
      ]
     },
     "execution_count": 12,
     "metadata": {},
     "output_type": "execute_result"
    }
   ],
   "source": [
    "df[\"cluster_catgeory\"].value_counts()"
   ]
  },
  {
   "cell_type": "code",
   "execution_count": 13,
   "id": "5faba0de",
   "metadata": {},
   "outputs": [],
   "source": [
    "df['cluster_catgeory'] = df['cluster_catgeory'].astype('int')"
   ]
  },
  {
   "cell_type": "code",
   "execution_count": 14,
   "id": "d38df606",
   "metadata": {},
   "outputs": [
    {
     "data": {
      "text/plain": [
       "1    188959\n",
       "4    172427\n",
       "6    169205\n",
       "2    155049\n",
       "3     48889\n",
       "5     39525\n",
       "Name: cluster_catgeory, dtype: int64"
      ]
     },
     "execution_count": 14,
     "metadata": {},
     "output_type": "execute_result"
    }
   ],
   "source": [
    "df[\"cluster_catgeory\"].value_counts()"
   ]
  },
  {
   "cell_type": "code",
   "execution_count": 15,
   "id": "5b28a75b",
   "metadata": {},
   "outputs": [
    {
     "name": "stdout",
     "output_type": "stream",
     "text": [
      "<class 'pandas.core.frame.DataFrame'>\n",
      "Int64Index: 774054 entries, 0 to 774154\n",
      "Data columns (total 6 columns):\n",
      " #   Column            Non-Null Count   Dtype  \n",
      "---  ------            --------------   -----  \n",
      " 0   Customer_ID       774054 non-null  float64\n",
      " 1   outlet_city       774054 non-null  object \n",
      " 2   luxury_sales      774054 non-null  object \n",
      " 3   fresh_sales       774054 non-null  object \n",
      " 4   dry_sales         774054 non-null  object \n",
      " 5   cluster_catgeory  774054 non-null  int32  \n",
      "dtypes: float64(1), int32(1), object(4)\n",
      "memory usage: 38.4+ MB\n"
     ]
    }
   ],
   "source": [
    "df.info()"
   ]
  },
  {
   "cell_type": "code",
   "execution_count": 16,
   "id": "5595c333",
   "metadata": {},
   "outputs": [
    {
     "name": "stdout",
     "output_type": "stream",
     "text": [
      "Count of non-numeric values in 'luxury_sales' column: 10\n"
     ]
    }
   ],
   "source": [
    "df['luxury_sales'] = pd.to_numeric(df['luxury_sales'], errors='coerce')\n",
    "\n",
    "non_numeric_count = df['luxury_sales'].isna().sum()\n",
    "\n",
    "print(\"Count of non-numeric values in 'luxury_sales' column:\", non_numeric_count)"
   ]
  },
  {
   "cell_type": "code",
   "execution_count": 17,
   "id": "07c2c6e0",
   "metadata": {},
   "outputs": [
    {
     "name": "stdout",
     "output_type": "stream",
     "text": [
      "Count of non-numeric values in 'fresh_sales' column: 9\n"
     ]
    }
   ],
   "source": [
    "df['fresh_sales'] = pd.to_numeric(df['fresh_sales'], errors='coerce')\n",
    "\n",
    "non_numeric_count = df['fresh_sales'].isna().sum()\n",
    "\n",
    "print(\"Count of non-numeric values in 'fresh_sales' column:\", non_numeric_count)"
   ]
  },
  {
   "cell_type": "code",
   "execution_count": 18,
   "id": "771597f8",
   "metadata": {},
   "outputs": [
    {
     "name": "stdout",
     "output_type": "stream",
     "text": [
      "Count of non-numeric values in 'dry_sales' column: 8\n"
     ]
    }
   ],
   "source": [
    "df['dry_sales'] = pd.to_numeric(df['dry_sales'], errors='coerce')\n",
    "\n",
    "non_numeric_count = df['dry_sales'].isna().sum()\n",
    "\n",
    "print(\"Count of non-numeric values in 'dry_sales' column:\", non_numeric_count)"
   ]
  },
  {
   "cell_type": "code",
   "execution_count": 19,
   "id": "37c90076",
   "metadata": {},
   "outputs": [
    {
     "name": "stdout",
     "output_type": "stream",
     "text": [
      "<class 'pandas.core.frame.DataFrame'>\n",
      "Int64Index: 774054 entries, 0 to 774154\n",
      "Data columns (total 6 columns):\n",
      " #   Column            Non-Null Count   Dtype  \n",
      "---  ------            --------------   -----  \n",
      " 0   Customer_ID       774054 non-null  float64\n",
      " 1   outlet_city       774054 non-null  object \n",
      " 2   luxury_sales      774044 non-null  float64\n",
      " 3   fresh_sales       774045 non-null  float64\n",
      " 4   dry_sales         774046 non-null  float64\n",
      " 5   cluster_catgeory  774054 non-null  int32  \n",
      "dtypes: float64(4), int32(1), object(1)\n",
      "memory usage: 38.4+ MB\n"
     ]
    }
   ],
   "source": [
    "df.info()"
   ]
  },
  {
   "cell_type": "code",
   "execution_count": 20,
   "id": "1d14bae5",
   "metadata": {},
   "outputs": [],
   "source": [
    "df['Customer_ID'] = df['Customer_ID'].astype('category')"
   ]
  },
  {
   "cell_type": "code",
   "execution_count": 21,
   "id": "a4ff710a",
   "metadata": {},
   "outputs": [],
   "source": [
    "df['cluster_catgeory'] = df['cluster_catgeory'].astype('category')"
   ]
  },
  {
   "cell_type": "code",
   "execution_count": 22,
   "id": "dcf4caeb",
   "metadata": {},
   "outputs": [
    {
     "data": {
      "text/plain": [
       "1    188959\n",
       "4    172427\n",
       "6    169205\n",
       "2    155049\n",
       "3     48889\n",
       "5     39525\n",
       "Name: cluster_catgeory, dtype: int64"
      ]
     },
     "execution_count": 22,
     "metadata": {},
     "output_type": "execute_result"
    }
   ],
   "source": [
    "df[\"cluster_catgeory\"].value_counts()"
   ]
  },
  {
   "cell_type": "code",
   "execution_count": 23,
   "id": "0ddfcdde",
   "metadata": {},
   "outputs": [],
   "source": [
    "cor = df.iloc[::-1].corr() "
   ]
  },
  {
   "cell_type": "code",
   "execution_count": 24,
   "id": "42ff7112",
   "metadata": {},
   "outputs": [
    {
     "data": {
      "image/png": "[encoded data removed]",
      "text/plain": [
       "<Figure size 1500x600 with 2 Axes>"
      ]
     },
     "metadata": {},
     "output_type": "display_data"
    }
   ],
   "source": [
    "plt.figure(figsize=(15,6))\n",
    "sns.heatmap(cor,annot=True,cmap ='coolwarm')\n",
    "plt.show()"
   ]
  },
  {
   "cell_type": "code",
   "execution_count": 25,
   "id": "3a47977b",
   "metadata": {},
   "outputs": [
    {
     "data": {
      "image/png": "[encoded data removed]",
      "text/plain": [
       "<Figure size 1000x600 with 1 Axes>"
      ]
     },
     "metadata": {},
     "output_type": "display_data"
    }
   ],
   "source": [
    "# Count the occurrences of each category\n",
    "category_counts = df['cluster_catgeory'].value_counts()\n",
    "\n",
    "# Create a bar plot\n",
    "plt.figure(figsize=(10, 6))\n",
    "category_counts.plot(kind='bar')\n",
    "plt.title('Count of each category in cluster_category')\n",
    "plt.xlabel('Category')\n",
    "plt.ylabel('Count')\n",
    "plt.show()"
   ]
  },
  {
   "cell_type": "code",
   "execution_count": 26,
   "id": "dacee21a",
   "metadata": {},
   "outputs": [
    {
     "data": {
      "image/png": "[encoded data removed]",
      "text/plain": [
       "<Figure size 1000x600 with 1 Axes>"
      ]
     },
     "metadata": {},
     "output_type": "display_data"
    }
   ],
   "source": [
    "# Count the occurrences of each category\n",
    "category_counts = df['outlet_city'].value_counts()\n",
    "\n",
    "# Create a bar plot\n",
    "plt.figure(figsize=(10, 6))\n",
    "category_counts.plot(kind='bar')\n",
    "plt.title('Count of each category in outlet_city')\n",
    "plt.xlabel('Category')\n",
    "plt.ylabel('Count')\n",
    "plt.show()"
   ]
  },
  {
   "cell_type": "code",
   "execution_count": 27,
   "id": "1e475834",
   "metadata": {},
   "outputs": [
    {
     "data": {
      "image/png": "[encoded data removed]",
      "text/plain": [
       "<Figure size 640x480 with 1 Axes>"
      ]
     },
     "metadata": {},
     "output_type": "display_data"
    },
    {
     "data": {
      "image/png": "[encoded data removed]",
      "text/plain": [
       "<Figure size 640x480 with 1 Axes>"
      ]
     },
     "metadata": {},
     "output_type": "display_data"
    },
    {
     "data": {
      "image/png": "[encoded data removed]",
      "text/plain": [
       "<Figure size 640x480 with 1 Axes>"
      ]
     },
     "metadata": {},
     "output_type": "display_data"
    }
   ],
   "source": [
    "# List of sales columns\n",
    "sales_columns = ['luxury_sales', 'fresh_sales', 'dry_sales']\n",
    "\n",
    "# For each sales column, create a histogram with density curve overlaid\n",
    "for col in sales_columns:\n",
    "    plt.figure()\n",
    "    df[col].hist(density=True, bins=15, alpha=0.6, color='g')\n",
    "    sns.histplot(df[col], kde=True, bins=15, color='r')\n",
    "    plt.title(f'Histogram with Density Curve: {col}')\n",
    "    plt.xlabel('Sales')\n",
    "    plt.ylabel('Frequency')\n",
    "    plt.show()"
   ]
  },
  {
   "cell_type": "code",
   "execution_count": 28,
   "id": "14539745",
   "metadata": {},
   "outputs": [
    {
     "data": {
      "image/png": "[encoded data removed]",
      "text/plain": [
       "<Figure size 640x480 with 1 Axes>"
      ]
     },
     "metadata": {},
     "output_type": "display_data"
    }
   ],
   "source": [
    "# Create the violin plot\n",
    "sns.violinplot(x='cluster_catgeory', y='luxury_sales', data=df)\n",
    "plt.title('Violin Plot of luxury_sales by Cluster')\n",
    "plt.xlabel('Cluster')\n",
    "plt.ylabel('luxury_sales')\n",
    "plt.show()"
   ]
  },
  {
   "cell_type": "code",
   "execution_count": 29,
   "id": "1cde14f4",
   "metadata": {},
   "outputs": [
    {
     "data": {
      "image/png": "[encoded data removed]",
      "text/plain": [
       "<Figure size 640x480 with 1 Axes>"
      ]
     },
     "metadata": {},
     "output_type": "display_data"
    }
   ],
   "source": [
    "# Create the violin plot\n",
    "sns.violinplot(x='cluster_catgeory', y='fresh_sales', data=df)\n",
    "plt.title('Violin Plot of fresh_sales by Cluster')\n",
    "plt.xlabel('Cluster')\n",
    "plt.ylabel('fresh_sale')\n",
    "plt.show()"
   ]
  },
  {
   "cell_type": "code",
   "execution_count": 30,
   "id": "1dd62c65",
   "metadata": {},
   "outputs": [
    {
     "data": {
      "image/png": "[encoded data removed]",
      "text/plain": [
       "<Figure size 640x480 with 1 Axes>"
      ]
     },
     "metadata": {},
     "output_type": "display_data"
    }
   ],
   "source": [
    "# Create the violin plot\n",
    "sns.violinplot(x='cluster_catgeory', y='dry_sales', data=df)\n",
    "plt.title('Violin Plot of Dry Sales by Cluster')\n",
    "plt.xlabel('Cluster')\n",
    "plt.ylabel('dry_sales')\n",
    "plt.show()"
   ]
  },
  {
   "cell_type": "code",
   "execution_count": 31,
   "id": "03514062",
   "metadata": {},
   "outputs": [],
   "source": [
    "from scipy.stats import chi2_contingency"
   ]
  },
  {
   "cell_type": "code",
   "execution_count": 32,
   "id": "b7d50b7f",
   "metadata": {},
   "outputs": [
    {
     "name": "stdout",
     "output_type": "stream",
     "text": [
      "Contingency Table:\n",
      "outlet_city       Batticaloa  Colombo  Dehiwala-Mount Lavinia  Galle  Gampaha  \\\n",
      "cluster_catgeory                                                                \n",
      "1                      18958    19018                       1  19033    18757   \n",
      "2                          2        0                   15647      2        1   \n",
      "3                       4900     4956                       0   4931     4830   \n",
      "4                          0        3                   17282      1        0   \n",
      "5                          2        2                    3900      2        1   \n",
      "6                      17147    17044                       3  17036    16653   \n",
      "\n",
      "outlet_city       Homagama  Jaffna  Kaduwela  Kalmunai  Kandy  Katunayake  \\\n",
      "cluster_catgeory                                                            \n",
      "1                        2   18821         1     18852  18895       19078   \n",
      "2                    15463       2     15477         3      0           2   \n",
      "3                        0    4905         1      4829   4843        4815   \n",
      "4                    17220       3     17358         1      2           0   \n",
      "5                     3949       2      3851         1      0           2   \n",
      "6                        1   16939         2     17022  16790       16745   \n",
      "\n",
      "outlet_city       Kelaniya  Kotte  Moratuwa  Negombo  Nuwara Eliya  Panadura  \\\n",
      "cluster_catgeory                                                               \n",
      "1                        1      2         2    18847             1         1   \n",
      "2                    15362  15499     15387        2         15439     15590   \n",
      "3                        0      1         0     4963             2         1   \n",
      "4                    16802  17250     17102        0         17574     17271   \n",
      "5                     3799   4028      3920        2          4082      3858   \n",
      "6                        3      4         1    16882             1         3   \n",
      "\n",
      "outlet_city       Peliyagoda  Trincomalee  Wattala  \n",
      "cluster_catgeory                                    \n",
      "1                          0        18686        3  \n",
      "2                      15726            0    15445  \n",
      "3                          2         4907        3  \n",
      "4                      17292            2    17264  \n",
      "5                       4122            3     3999  \n",
      "6                          1        16927        1  \n",
      "\n",
      "Chi-Square Statistic: 773781.5038208403\n",
      "P-Value: 0.0\n",
      "Degrees of Freedom: 95\n",
      "\n",
      "Expected Frequencies:\n",
      "Reject the null hypothesis: There is a significant association between the categories.\n"
     ]
    }
   ],
   "source": [
    "# contingency table\n",
    "contingency_table = pd.crosstab(df['cluster_catgeory'], df['outlet_city'])\n",
    "print(\"Contingency Table:\")\n",
    "print(contingency_table)\n",
    "\n",
    "# chi-square test\n",
    "chi2, p, dof, expected = chi2_contingency(contingency_table)\n",
    "\n",
    "print(f\"\\nChi-Square Statistic: {chi2}\")\n",
    "print(f\"P-Value: {p}\")\n",
    "print(f\"Degrees of Freedom: {dof}\")\n",
    "print(\"\\nExpected Frequencies:\")\n",
    "\n",
    "alpha = 0.05\n",
    "if p < alpha:\n",
    "    print(\"Reject the null hypothesis: There is a significant association between the categories.\")\n",
    "else:\n",
    "    print(\"Fail to reject the null hypothesis: There is no significant association between the categories.\")"
   ]
  },
  {
   "cell_type": "code",
   "execution_count": 33,
   "id": "959522f7",
   "metadata": {},
   "outputs": [],
   "source": [
    "from scipy.stats import pointbiserialr"
   ]
  },
  {
   "cell_type": "code",
   "execution_count": 34,
   "id": "f6354dc6",
   "metadata": {},
   "outputs": [
    {
     "data": {
      "text/plain": [
       "Customer_ID          0\n",
       "outlet_city          0\n",
       "luxury_sales        10\n",
       "fresh_sales          9\n",
       "dry_sales            8\n",
       "cluster_catgeory     0\n",
       "dtype: int64"
      ]
     },
     "execution_count": 34,
     "metadata": {},
     "output_type": "execute_result"
    }
   ],
   "source": [
    "df.isnull().sum()"
   ]
  },
  {
   "cell_type": "code",
   "execution_count": 35,
   "id": "6d142147",
   "metadata": {},
   "outputs": [],
   "source": [
    "df.dropna(inplace=True)"
   ]
  },
  {
   "cell_type": "markdown",
   "id": "860254dd",
   "metadata": {},
   "source": [
    "## Feature engineering "
   ]
  },
  {
   "cell_type": "code",
   "execution_count": 36,
   "id": "ed4d0eae",
   "metadata": {},
   "outputs": [
    {
     "data": {
      "text/plain": [
       "1    188956\n",
       "4    172424\n",
       "6    169203\n",
       "2    155037\n",
       "3     48887\n",
       "5     39525\n",
       "Name: cluster_catgeory, dtype: int64"
      ]
     },
     "execution_count": 36,
     "metadata": {},
     "output_type": "execute_result"
    }
   ],
   "source": [
    "df[\"cluster_catgeory\"].value_counts()"
   ]
  },
  {
   "cell_type": "code",
   "execution_count": 37,
   "id": "61b33c0a",
   "metadata": {},
   "outputs": [
    {
     "name": "stdout",
     "output_type": "stream",
     "text": [
      "<class 'pandas.core.frame.DataFrame'>\n",
      "Int64Index: 774032 entries, 0 to 774154\n",
      "Data columns (total 6 columns):\n",
      " #   Column            Non-Null Count   Dtype   \n",
      "---  ------            --------------   -----   \n",
      " 0   Customer_ID       774032 non-null  category\n",
      " 1   outlet_city       774032 non-null  object  \n",
      " 2   luxury_sales      774032 non-null  float64 \n",
      " 3   fresh_sales       774032 non-null  float64 \n",
      " 4   dry_sales         774032 non-null  float64 \n",
      " 5   cluster_catgeory  774032 non-null  category\n",
      "dtypes: category(2), float64(3), object(1)\n",
      "memory usage: 55.2+ MB\n"
     ]
    }
   ],
   "source": [
    "df.info()"
   ]
  },
  {
   "cell_type": "code",
   "execution_count": 38,
   "id": "7f80eb0e",
   "metadata": {},
   "outputs": [],
   "source": [
    "#total sales column\n",
    "df['total_sales'] = df['luxury_sales'] + df['fresh_sales'] + df['dry_sales']"
   ]
  },
  {
   "cell_type": "code",
   "execution_count": 39,
   "id": "76c2c679",
   "metadata": {},
   "outputs": [
    {
     "data": {
      "text/html": [
       "<div>\n",
       "<style scoped>\n",
       "    .dataframe tbody tr th:only-of-type {\n",
       "        vertical-align: middle;\n",
       "    }\n",
       "\n",
       "    .dataframe tbody tr th {\n",
       "        vertical-align: top;\n",
       "    }\n",
       "\n",
       "    .dataframe thead th {\n",
       "        text-align: right;\n",
       "    }\n",
       "</style>\n",
       "<table border=\"1\" class=\"dataframe\">\n",
       "  <thead>\n",
       "    <tr style=\"text-align: right;\">\n",
       "      <th></th>\n",
       "      <th>Customer_ID</th>\n",
       "      <th>outlet_city</th>\n",
       "      <th>luxury_sales</th>\n",
       "      <th>fresh_sales</th>\n",
       "      <th>dry_sales</th>\n",
       "      <th>cluster_catgeory</th>\n",
       "      <th>total_sales</th>\n",
       "    </tr>\n",
       "  </thead>\n",
       "  <tbody>\n",
       "    <tr>\n",
       "      <th>0</th>\n",
       "      <td>10493832.0</td>\n",
       "      <td>Kelaniya</td>\n",
       "      <td>1209.60</td>\n",
       "      <td>756.00</td>\n",
       "      <td>5292.00</td>\n",
       "      <td>4</td>\n",
       "      <td>7257.60</td>\n",
       "    </tr>\n",
       "    <tr>\n",
       "      <th>1</th>\n",
       "      <td>10178643.0</td>\n",
       "      <td>Moratuwa</td>\n",
       "      <td>1590.12</td>\n",
       "      <td>1060.08</td>\n",
       "      <td>6007.12</td>\n",
       "      <td>1</td>\n",
       "      <td>8657.32</td>\n",
       "    </tr>\n",
       "    <tr>\n",
       "      <th>2</th>\n",
       "      <td>10513916.0</td>\n",
       "      <td>Wattala</td>\n",
       "      <td>2288.88</td>\n",
       "      <td>1481.04</td>\n",
       "      <td>9155.52</td>\n",
       "      <td>4</td>\n",
       "      <td>12925.44</td>\n",
       "    </tr>\n",
       "    <tr>\n",
       "      <th>3</th>\n",
       "      <td>10334589.0</td>\n",
       "      <td>Wattala</td>\n",
       "      <td>2274.94</td>\n",
       "      <td>1739.66</td>\n",
       "      <td>9099.76</td>\n",
       "      <td>4</td>\n",
       "      <td>13114.36</td>\n",
       "    </tr>\n",
       "    <tr>\n",
       "      <th>4</th>\n",
       "      <td>10458365.0</td>\n",
       "      <td>Kelaniya</td>\n",
       "      <td>2345.49</td>\n",
       "      <td>2069.55</td>\n",
       "      <td>9243.99</td>\n",
       "      <td>4</td>\n",
       "      <td>13659.03</td>\n",
       "    </tr>\n",
       "  </tbody>\n",
       "</table>\n",
       "</div>"
      ],
      "text/plain": [
       "  Customer_ID outlet_city  luxury_sales  fresh_sales  dry_sales  \\\n",
       "0  10493832.0    Kelaniya       1209.60       756.00    5292.00   \n",
       "1  10178643.0    Moratuwa       1590.12      1060.08    6007.12   \n",
       "2  10513916.0     Wattala       2288.88      1481.04    9155.52   \n",
       "3  10334589.0     Wattala       2274.94      1739.66    9099.76   \n",
       "4  10458365.0    Kelaniya       2345.49      2069.55    9243.99   \n",
       "\n",
       "  cluster_catgeory  total_sales  \n",
       "0                4      7257.60  \n",
       "1                1      8657.32  \n",
       "2                4     12925.44  \n",
       "3                4     13114.36  \n",
       "4                4     13659.03  "
      ]
     },
     "execution_count": 39,
     "metadata": {},
     "output_type": "execute_result"
    }
   ],
   "source": [
    "df.head()"
   ]
  },
  {
   "cell_type": "code",
   "execution_count": 40,
   "id": "55cb8513",
   "metadata": {},
   "outputs": [],
   "source": [
    "# Create a mapping from city to province\n",
    "#common_groups = {'Urban': ['Colombo', 'Batticaloa', 'Galle', 'Negombo', 'Jaffna', 'Katunayake', 'Kandy', 'Trincomalee', 'Gampaha', 'Peliyagoda', 'Nuwara Eliya', 'Panadura', 'Wattala',  'Kalmunai'], \n",
    "                 #'Suburban': ['Dehiwala-Mount Lavinia', 'Kotte', 'Kaduwela', 'Homagama', 'Moratuwa', 'Kelaniya', 'Anuradhapura', 'Madawachchiya']}\n",
    "\n",
    "#city_to_province = {city: province for province, cities in common_groups.items() for city in cities}\n",
    "\n",
    "# Replace the 'outlet_city' values with the corresponding province names\n",
    "#df['Council'] = df['outlet_city'].map(city_to_province)"
   ]
  },
  {
   "cell_type": "code",
   "execution_count": 41,
   "id": "79c60063",
   "metadata": {},
   "outputs": [
    {
     "data": {
      "text/html": [
       "<div>\n",
       "<style scoped>\n",
       "    .dataframe tbody tr th:only-of-type {\n",
       "        vertical-align: middle;\n",
       "    }\n",
       "\n",
       "    .dataframe tbody tr th {\n",
       "        vertical-align: top;\n",
       "    }\n",
       "\n",
       "    .dataframe thead th {\n",
       "        text-align: right;\n",
       "    }\n",
       "</style>\n",
       "<table border=\"1\" class=\"dataframe\">\n",
       "  <thead>\n",
       "    <tr style=\"text-align: right;\">\n",
       "      <th></th>\n",
       "      <th>Customer_ID</th>\n",
       "      <th>outlet_city</th>\n",
       "      <th>luxury_sales</th>\n",
       "      <th>fresh_sales</th>\n",
       "      <th>dry_sales</th>\n",
       "      <th>cluster_catgeory</th>\n",
       "      <th>total_sales</th>\n",
       "    </tr>\n",
       "  </thead>\n",
       "  <tbody>\n",
       "    <tr>\n",
       "      <th>0</th>\n",
       "      <td>10493832.0</td>\n",
       "      <td>Kelaniya</td>\n",
       "      <td>1209.60</td>\n",
       "      <td>756.00</td>\n",
       "      <td>5292.00</td>\n",
       "      <td>4</td>\n",
       "      <td>7257.60</td>\n",
       "    </tr>\n",
       "    <tr>\n",
       "      <th>1</th>\n",
       "      <td>10178643.0</td>\n",
       "      <td>Moratuwa</td>\n",
       "      <td>1590.12</td>\n",
       "      <td>1060.08</td>\n",
       "      <td>6007.12</td>\n",
       "      <td>1</td>\n",
       "      <td>8657.32</td>\n",
       "    </tr>\n",
       "    <tr>\n",
       "      <th>2</th>\n",
       "      <td>10513916.0</td>\n",
       "      <td>Wattala</td>\n",
       "      <td>2288.88</td>\n",
       "      <td>1481.04</td>\n",
       "      <td>9155.52</td>\n",
       "      <td>4</td>\n",
       "      <td>12925.44</td>\n",
       "    </tr>\n",
       "    <tr>\n",
       "      <th>3</th>\n",
       "      <td>10334589.0</td>\n",
       "      <td>Wattala</td>\n",
       "      <td>2274.94</td>\n",
       "      <td>1739.66</td>\n",
       "      <td>9099.76</td>\n",
       "      <td>4</td>\n",
       "      <td>13114.36</td>\n",
       "    </tr>\n",
       "    <tr>\n",
       "      <th>4</th>\n",
       "      <td>10458365.0</td>\n",
       "      <td>Kelaniya</td>\n",
       "      <td>2345.49</td>\n",
       "      <td>2069.55</td>\n",
       "      <td>9243.99</td>\n",
       "      <td>4</td>\n",
       "      <td>13659.03</td>\n",
       "    </tr>\n",
       "  </tbody>\n",
       "</table>\n",
       "</div>"
      ],
      "text/plain": [
       "  Customer_ID outlet_city  luxury_sales  fresh_sales  dry_sales  \\\n",
       "0  10493832.0    Kelaniya       1209.60       756.00    5292.00   \n",
       "1  10178643.0    Moratuwa       1590.12      1060.08    6007.12   \n",
       "2  10513916.0     Wattala       2288.88      1481.04    9155.52   \n",
       "3  10334589.0     Wattala       2274.94      1739.66    9099.76   \n",
       "4  10458365.0    Kelaniya       2345.49      2069.55    9243.99   \n",
       "\n",
       "  cluster_catgeory  total_sales  \n",
       "0                4      7257.60  \n",
       "1                1      8657.32  \n",
       "2                4     12925.44  \n",
       "3                4     13114.36  \n",
       "4                4     13659.03  "
      ]
     },
     "execution_count": 41,
     "metadata": {},
     "output_type": "execute_result"
    }
   ],
   "source": [
    "df.head()"
   ]
  },
  {
   "cell_type": "code",
   "execution_count": 42,
   "id": "f7736376",
   "metadata": {},
   "outputs": [],
   "source": [
    "# Convert values in the \"outlet_city\" column to lowercase\n",
    "df[\"outlet_city\"] = df[\"outlet_city\"].str.lower()"
   ]
  },
  {
   "cell_type": "code",
   "execution_count": 43,
   "id": "ca92b40e",
   "metadata": {},
   "outputs": [],
   "source": [
    "#df[\"Council\"].value_counts()"
   ]
  },
  {
   "cell_type": "code",
   "execution_count": 44,
   "id": "c1fe0a1b",
   "metadata": {},
   "outputs": [
    {
     "data": {
      "text/plain": [
       "colombo                   41022\n",
       "batticaloa                41007\n",
       "galle                     41004\n",
       "kalmunai                  40708\n",
       "negombo                   40696\n",
       "jaffna                    40672\n",
       "katunayake                40642\n",
       "kandy                     40528\n",
       "trincomalee               40523\n",
       "gampaha                   40242\n",
       "peliyagoda                37142\n",
       "nuwara eliya              37097\n",
       "dehiwala-mount lavinia    36832\n",
       "kotte                     36784\n",
       "panadura                  36721\n",
       "wattala                   36714\n",
       "kaduwela                  36687\n",
       "homagama                  36634\n",
       "moratuwa                  36412\n",
       "kelaniya                  35965\n",
       "Name: outlet_city, dtype: int64"
      ]
     },
     "execution_count": 44,
     "metadata": {},
     "output_type": "execute_result"
    }
   ],
   "source": [
    "df[\"outlet_city\"].value_counts()"
   ]
  },
  {
   "cell_type": "code",
   "execution_count": 45,
   "id": "bd2a9516",
   "metadata": {},
   "outputs": [
    {
     "name": "stdout",
     "output_type": "stream",
     "text": [
      "<class 'pandas.core.frame.DataFrame'>\n",
      "Int64Index: 774032 entries, 0 to 774154\n",
      "Data columns (total 7 columns):\n",
      " #   Column            Non-Null Count   Dtype   \n",
      "---  ------            --------------   -----   \n",
      " 0   Customer_ID       774032 non-null  category\n",
      " 1   outlet_city       774032 non-null  object  \n",
      " 2   luxury_sales      774032 non-null  float64 \n",
      " 3   fresh_sales       774032 non-null  float64 \n",
      " 4   dry_sales         774032 non-null  float64 \n",
      " 5   cluster_catgeory  774032 non-null  category\n",
      " 6   total_sales       774032 non-null  float64 \n",
      "dtypes: category(2), float64(4), object(1)\n",
      "memory usage: 61.2+ MB\n"
     ]
    }
   ],
   "source": [
    "df.info()"
   ]
  },
  {
   "cell_type": "code",
   "execution_count": 46,
   "id": "38a5d04c",
   "metadata": {},
   "outputs": [
    {
     "data": {
      "text/plain": [
       "6"
      ]
     },
     "execution_count": 46,
     "metadata": {},
     "output_type": "execute_result"
    }
   ],
   "source": [
    "df[\"cluster_catgeory\"].nunique()"
   ]
  },
  {
   "cell_type": "code",
   "execution_count": 47,
   "id": "3e15a655",
   "metadata": {},
   "outputs": [
    {
     "data": {
      "text/plain": [
       "1    188956\n",
       "4    172424\n",
       "6    169203\n",
       "2    155037\n",
       "3     48887\n",
       "5     39525\n",
       "Name: cluster_catgeory, dtype: int64"
      ]
     },
     "execution_count": 47,
     "metadata": {},
     "output_type": "execute_result"
    }
   ],
   "source": [
    "df[\"cluster_catgeory\"].value_counts()"
   ]
  },
  {
   "cell_type": "code",
   "execution_count": 48,
   "id": "11ac69dc",
   "metadata": {},
   "outputs": [
    {
     "data": {
      "text/plain": [
       "(774032, 7)"
      ]
     },
     "execution_count": 48,
     "metadata": {},
     "output_type": "execute_result"
    }
   ],
   "source": [
    "df.shape"
   ]
  },
  {
   "cell_type": "code",
   "execution_count": 49,
   "id": "2975e968",
   "metadata": {},
   "outputs": [
    {
     "data": {
      "text/plain": [
       "1    188956\n",
       "4    172424\n",
       "6    169203\n",
       "2    155037\n",
       "3     48887\n",
       "5     39525\n",
       "Name: cluster_catgeory, dtype: int64"
      ]
     },
     "execution_count": 49,
     "metadata": {},
     "output_type": "execute_result"
    }
   ],
   "source": [
    "df[\"cluster_catgeory\"].value_counts()"
   ]
  },
  {
   "cell_type": "code",
   "execution_count": 50,
   "id": "78e2d5ba",
   "metadata": {},
   "outputs": [],
   "source": [
    "df['cluster_catgeory'] = df['cluster_catgeory'].astype('int')"
   ]
  },
  {
   "cell_type": "code",
   "execution_count": 51,
   "id": "e8114706",
   "metadata": {},
   "outputs": [
    {
     "data": {
      "text/plain": [
       "1    188956\n",
       "4    172424\n",
       "6    169203\n",
       "2    155037\n",
       "3     48887\n",
       "5     39525\n",
       "Name: cluster_catgeory, dtype: int64"
      ]
     },
     "execution_count": 51,
     "metadata": {},
     "output_type": "execute_result"
    }
   ],
   "source": [
    "df[\"cluster_catgeory\"].value_counts()"
   ]
  },
  {
   "cell_type": "code",
   "execution_count": 52,
   "id": "2f57ff56",
   "metadata": {},
   "outputs": [
    {
     "data": {
      "text/plain": [
       "6"
      ]
     },
     "execution_count": 52,
     "metadata": {},
     "output_type": "execute_result"
    }
   ],
   "source": [
    "df[\"cluster_catgeory\"].nunique()"
   ]
  },
  {
   "cell_type": "code",
   "execution_count": 53,
   "id": "0453c088",
   "metadata": {},
   "outputs": [
    {
     "name": "stdout",
     "output_type": "stream",
     "text": [
      "<class 'pandas.core.frame.DataFrame'>\n",
      "Int64Index: 774032 entries, 0 to 774154\n",
      "Data columns (total 7 columns):\n",
      " #   Column            Non-Null Count   Dtype   \n",
      "---  ------            --------------   -----   \n",
      " 0   Customer_ID       774032 non-null  category\n",
      " 1   outlet_city       774032 non-null  object  \n",
      " 2   luxury_sales      774032 non-null  float64 \n",
      " 3   fresh_sales       774032 non-null  float64 \n",
      " 4   dry_sales         774032 non-null  float64 \n",
      " 5   cluster_catgeory  774032 non-null  int32   \n",
      " 6   total_sales       774032 non-null  float64 \n",
      "dtypes: category(1), float64(4), int32(1), object(1)\n",
      "memory usage: 63.4+ MB\n"
     ]
    }
   ],
   "source": [
    "df.info()"
   ]
  },
  {
   "cell_type": "code",
   "execution_count": 54,
   "id": "d0f2d9da",
   "metadata": {},
   "outputs": [
    {
     "data": {
      "text/plain": [
       "(774032, 7)"
      ]
     },
     "execution_count": 54,
     "metadata": {},
     "output_type": "execute_result"
    }
   ],
   "source": [
    "df.shape"
   ]
  },
  {
   "cell_type": "code",
   "execution_count": 55,
   "id": "0c1b65bf",
   "metadata": {},
   "outputs": [
    {
     "data": {
      "text/plain": [
       "Customer_ID         0\n",
       "outlet_city         0\n",
       "luxury_sales        0\n",
       "fresh_sales         0\n",
       "dry_sales           0\n",
       "cluster_catgeory    0\n",
       "total_sales         0\n",
       "dtype: int64"
      ]
     },
     "execution_count": 55,
     "metadata": {},
     "output_type": "execute_result"
    }
   ],
   "source": [
    "df.isnull().sum()"
   ]
  },
  {
   "cell_type": "code",
   "execution_count": 56,
   "id": "a0c8b6ba",
   "metadata": {},
   "outputs": [],
   "source": [
    "df.dropna(inplace=True)"
   ]
  },
  {
   "cell_type": "code",
   "execution_count": 57,
   "id": "e9d4a6c9",
   "metadata": {},
   "outputs": [
    {
     "data": {
      "text/plain": [
       "Customer_ID         0\n",
       "outlet_city         0\n",
       "luxury_sales        0\n",
       "fresh_sales         0\n",
       "dry_sales           0\n",
       "cluster_catgeory    0\n",
       "total_sales         0\n",
       "dtype: int64"
      ]
     },
     "execution_count": 57,
     "metadata": {},
     "output_type": "execute_result"
    }
   ],
   "source": [
    "df.isnull().sum()"
   ]
  },
  {
   "cell_type": "code",
   "execution_count": 58,
   "id": "d28ae7c3",
   "metadata": {},
   "outputs": [
    {
     "data": {
      "text/html": [
       "<div>\n",
       "<style scoped>\n",
       "    .dataframe tbody tr th:only-of-type {\n",
       "        vertical-align: middle;\n",
       "    }\n",
       "\n",
       "    .dataframe tbody tr th {\n",
       "        vertical-align: top;\n",
       "    }\n",
       "\n",
       "    .dataframe thead th {\n",
       "        text-align: right;\n",
       "    }\n",
       "</style>\n",
       "<table border=\"1\" class=\"dataframe\">\n",
       "  <thead>\n",
       "    <tr style=\"text-align: right;\">\n",
       "      <th></th>\n",
       "      <th>luxury_sales</th>\n",
       "      <th>fresh_sales</th>\n",
       "      <th>dry_sales</th>\n",
       "      <th>cluster_catgeory</th>\n",
       "      <th>total_sales</th>\n",
       "    </tr>\n",
       "  </thead>\n",
       "  <tbody>\n",
       "    <tr>\n",
       "      <th>count</th>\n",
       "      <td>774032.000000</td>\n",
       "      <td>774032.000000</td>\n",
       "      <td>774032.000000</td>\n",
       "      <td>774032.000000</td>\n",
       "      <td>774032.000000</td>\n",
       "    </tr>\n",
       "    <tr>\n",
       "      <th>mean</th>\n",
       "      <td>1921.947639</td>\n",
       "      <td>4428.734816</td>\n",
       "      <td>4676.299817</td>\n",
       "      <td>3.292151</td>\n",
       "      <td>11026.982272</td>\n",
       "    </tr>\n",
       "    <tr>\n",
       "      <th>std</th>\n",
       "      <td>1004.033608</td>\n",
       "      <td>3334.735492</td>\n",
       "      <td>3409.426628</td>\n",
       "      <td>1.867040</td>\n",
       "      <td>3836.937367</td>\n",
       "    </tr>\n",
       "    <tr>\n",
       "      <th>min</th>\n",
       "      <td>500.000000</td>\n",
       "      <td>500.000000</td>\n",
       "      <td>500.000000</td>\n",
       "      <td>1.000000</td>\n",
       "      <td>4509.900000</td>\n",
       "    </tr>\n",
       "    <tr>\n",
       "      <th>25%</th>\n",
       "      <td>1213.530000</td>\n",
       "      <td>1620.157500</td>\n",
       "      <td>1787.930000</td>\n",
       "      <td>2.000000</td>\n",
       "      <td>7817.980000</td>\n",
       "    </tr>\n",
       "    <tr>\n",
       "      <th>50%</th>\n",
       "      <td>1715.280000</td>\n",
       "      <td>3356.480000</td>\n",
       "      <td>3727.760000</td>\n",
       "      <td>3.000000</td>\n",
       "      <td>10769.220000</td>\n",
       "    </tr>\n",
       "    <tr>\n",
       "      <th>75%</th>\n",
       "      <td>2338.690000</td>\n",
       "      <td>6671.820000</td>\n",
       "      <td>7162.300000</td>\n",
       "      <td>5.000000</td>\n",
       "      <td>13733.730000</td>\n",
       "    </tr>\n",
       "    <tr>\n",
       "      <th>max</th>\n",
       "      <td>6999.650000</td>\n",
       "      <td>13997.900000</td>\n",
       "      <td>13999.300000</td>\n",
       "      <td>6.000000</td>\n",
       "      <td>20989.500000</td>\n",
       "    </tr>\n",
       "  </tbody>\n",
       "</table>\n",
       "</div>"
      ],
      "text/plain": [
       "        luxury_sales    fresh_sales      dry_sales  cluster_catgeory  \\\n",
       "count  774032.000000  774032.000000  774032.000000     774032.000000   \n",
       "mean     1921.947639    4428.734816    4676.299817          3.292151   \n",
       "std      1004.033608    3334.735492    3409.426628          1.867040   \n",
       "min       500.000000     500.000000     500.000000          1.000000   \n",
       "25%      1213.530000    1620.157500    1787.930000          2.000000   \n",
       "50%      1715.280000    3356.480000    3727.760000          3.000000   \n",
       "75%      2338.690000    6671.820000    7162.300000          5.000000   \n",
       "max      6999.650000   13997.900000   13999.300000          6.000000   \n",
       "\n",
       "         total_sales  \n",
       "count  774032.000000  \n",
       "mean    11026.982272  \n",
       "std      3836.937367  \n",
       "min      4509.900000  \n",
       "25%      7817.980000  \n",
       "50%     10769.220000  \n",
       "75%     13733.730000  \n",
       "max     20989.500000  "
      ]
     },
     "execution_count": 58,
     "metadata": {},
     "output_type": "execute_result"
    }
   ],
   "source": [
    "df.describe()"
   ]
  },
  {
   "cell_type": "code",
   "execution_count": 59,
   "id": "3b5cf1df",
   "metadata": {},
   "outputs": [
    {
     "data": {
      "text/html": [
       "<div>\n",
       "<style scoped>\n",
       "    .dataframe tbody tr th:only-of-type {\n",
       "        vertical-align: middle;\n",
       "    }\n",
       "\n",
       "    .dataframe tbody tr th {\n",
       "        vertical-align: top;\n",
       "    }\n",
       "\n",
       "    .dataframe thead th {\n",
       "        text-align: right;\n",
       "    }\n",
       "</style>\n",
       "<table border=\"1\" class=\"dataframe\">\n",
       "  <thead>\n",
       "    <tr style=\"text-align: right;\">\n",
       "      <th></th>\n",
       "      <th>Customer_ID</th>\n",
       "      <th>outlet_city</th>\n",
       "      <th>luxury_sales</th>\n",
       "      <th>fresh_sales</th>\n",
       "      <th>dry_sales</th>\n",
       "      <th>cluster_catgeory</th>\n",
       "      <th>total_sales</th>\n",
       "    </tr>\n",
       "  </thead>\n",
       "  <tbody>\n",
       "    <tr>\n",
       "      <th>0</th>\n",
       "      <td>10493832.0</td>\n",
       "      <td>kelaniya</td>\n",
       "      <td>1209.60</td>\n",
       "      <td>756.00</td>\n",
       "      <td>5292.00</td>\n",
       "      <td>4</td>\n",
       "      <td>7257.60</td>\n",
       "    </tr>\n",
       "    <tr>\n",
       "      <th>1</th>\n",
       "      <td>10178643.0</td>\n",
       "      <td>moratuwa</td>\n",
       "      <td>1590.12</td>\n",
       "      <td>1060.08</td>\n",
       "      <td>6007.12</td>\n",
       "      <td>1</td>\n",
       "      <td>8657.32</td>\n",
       "    </tr>\n",
       "    <tr>\n",
       "      <th>2</th>\n",
       "      <td>10513916.0</td>\n",
       "      <td>wattala</td>\n",
       "      <td>2288.88</td>\n",
       "      <td>1481.04</td>\n",
       "      <td>9155.52</td>\n",
       "      <td>4</td>\n",
       "      <td>12925.44</td>\n",
       "    </tr>\n",
       "    <tr>\n",
       "      <th>3</th>\n",
       "      <td>10334589.0</td>\n",
       "      <td>wattala</td>\n",
       "      <td>2274.94</td>\n",
       "      <td>1739.66</td>\n",
       "      <td>9099.76</td>\n",
       "      <td>4</td>\n",
       "      <td>13114.36</td>\n",
       "    </tr>\n",
       "    <tr>\n",
       "      <th>4</th>\n",
       "      <td>10458365.0</td>\n",
       "      <td>kelaniya</td>\n",
       "      <td>2345.49</td>\n",
       "      <td>2069.55</td>\n",
       "      <td>9243.99</td>\n",
       "      <td>4</td>\n",
       "      <td>13659.03</td>\n",
       "    </tr>\n",
       "  </tbody>\n",
       "</table>\n",
       "</div>"
      ],
      "text/plain": [
       "  Customer_ID outlet_city  luxury_sales  fresh_sales  dry_sales  \\\n",
       "0  10493832.0    kelaniya       1209.60       756.00    5292.00   \n",
       "1  10178643.0    moratuwa       1590.12      1060.08    6007.12   \n",
       "2  10513916.0     wattala       2288.88      1481.04    9155.52   \n",
       "3  10334589.0     wattala       2274.94      1739.66    9099.76   \n",
       "4  10458365.0    kelaniya       2345.49      2069.55    9243.99   \n",
       "\n",
       "   cluster_catgeory  total_sales  \n",
       "0                 4      7257.60  \n",
       "1                 1      8657.32  \n",
       "2                 4     12925.44  \n",
       "3                 4     13114.36  \n",
       "4                 4     13659.03  "
      ]
     },
     "execution_count": 59,
     "metadata": {},
     "output_type": "execute_result"
    }
   ],
   "source": [
    "df.head()"
   ]
  },
  {
   "cell_type": "code",
   "execution_count": 60,
   "id": "67bb6441",
   "metadata": {},
   "outputs": [
    {
     "data": {
      "text/plain": [
       "(774032, 7)"
      ]
     },
     "execution_count": 60,
     "metadata": {},
     "output_type": "execute_result"
    }
   ],
   "source": [
    "df.shape"
   ]
  },
  {
   "cell_type": "code",
   "execution_count": 61,
   "id": "e6b3245f",
   "metadata": {},
   "outputs": [
    {
     "name": "stdout",
     "output_type": "stream",
     "text": [
      "<class 'pandas.core.frame.DataFrame'>\n",
      "Int64Index: 774032 entries, 0 to 774154\n",
      "Data columns (total 7 columns):\n",
      " #   Column            Non-Null Count   Dtype   \n",
      "---  ------            --------------   -----   \n",
      " 0   Customer_ID       774032 non-null  category\n",
      " 1   outlet_city       774032 non-null  object  \n",
      " 2   luxury_sales      774032 non-null  float64 \n",
      " 3   fresh_sales       774032 non-null  float64 \n",
      " 4   dry_sales         774032 non-null  float64 \n",
      " 5   cluster_catgeory  774032 non-null  int32   \n",
      " 6   total_sales       774032 non-null  float64 \n",
      "dtypes: category(1), float64(4), int32(1), object(1)\n",
      "memory usage: 63.4+ MB\n"
     ]
    }
   ],
   "source": [
    "df.info()"
   ]
  },
  {
   "cell_type": "markdown",
   "id": "8e1dfd0a-d5cf-4c17-badb-3e2084bc0798",
   "metadata": {},
   "source": [
    "## Standardizing"
   ]
  },
  {
   "cell_type": "code",
   "execution_count": 62,
   "id": "a3735e6e",
   "metadata": {},
   "outputs": [],
   "source": [
    "from sklearn.preprocessing import StandardScaler\n",
    "\n",
    "# Define the columns you want to scale\n",
    "columns_to_scale = ['luxury_sales', 'fresh_sales', 'dry_sales','total_sales']\n",
    "\n",
    "# Initialize the StandardScaler\n",
    "scaler = StandardScaler()\n",
    "\n",
    "# Fit and transform the scaler on the selected columns\n",
    "df[columns_to_scale] = scaler.fit_transform(df[columns_to_scale])"
   ]
  },
  {
   "cell_type": "code",
   "execution_count": 63,
   "id": "5ad52341",
   "metadata": {},
   "outputs": [
    {
     "name": "stdout",
     "output_type": "stream",
     "text": [
      "<class 'pandas.core.frame.DataFrame'>\n",
      "Int64Index: 774032 entries, 0 to 774154\n",
      "Data columns (total 7 columns):\n",
      " #   Column            Non-Null Count   Dtype   \n",
      "---  ------            --------------   -----   \n",
      " 0   Customer_ID       774032 non-null  category\n",
      " 1   outlet_city       774032 non-null  object  \n",
      " 2   luxury_sales      774032 non-null  float64 \n",
      " 3   fresh_sales       774032 non-null  float64 \n",
      " 4   dry_sales         774032 non-null  float64 \n",
      " 5   cluster_catgeory  774032 non-null  int32   \n",
      " 6   total_sales       774032 non-null  float64 \n",
      "dtypes: category(1), float64(4), int32(1), object(1)\n",
      "memory usage: 63.4+ MB\n"
     ]
    }
   ],
   "source": [
    "df.info()"
   ]
  },
  {
   "cell_type": "code",
   "execution_count": 64,
   "id": "7eb46dcc",
   "metadata": {},
   "outputs": [
    {
     "data": {
      "text/html": [
       "<div>\n",
       "<style scoped>\n",
       "    .dataframe tbody tr th:only-of-type {\n",
       "        vertical-align: middle;\n",
       "    }\n",
       "\n",
       "    .dataframe tbody tr th {\n",
       "        vertical-align: top;\n",
       "    }\n",
       "\n",
       "    .dataframe thead th {\n",
       "        text-align: right;\n",
       "    }\n",
       "</style>\n",
       "<table border=\"1\" class=\"dataframe\">\n",
       "  <thead>\n",
       "    <tr style=\"text-align: right;\">\n",
       "      <th></th>\n",
       "      <th>luxury_sales</th>\n",
       "      <th>fresh_sales</th>\n",
       "      <th>dry_sales</th>\n",
       "      <th>cluster_catgeory</th>\n",
       "      <th>total_sales</th>\n",
       "    </tr>\n",
       "  </thead>\n",
       "  <tbody>\n",
       "    <tr>\n",
       "      <th>count</th>\n",
       "      <td>7.740320e+05</td>\n",
       "      <td>7.740320e+05</td>\n",
       "      <td>7.740320e+05</td>\n",
       "      <td>774032.000000</td>\n",
       "      <td>7.740320e+05</td>\n",
       "    </tr>\n",
       "    <tr>\n",
       "      <th>mean</th>\n",
       "      <td>5.052539e-16</td>\n",
       "      <td>8.019438e-17</td>\n",
       "      <td>5.083383e-16</td>\n",
       "      <td>3.292151</td>\n",
       "      <td>-3.096149e-16</td>\n",
       "    </tr>\n",
       "    <tr>\n",
       "      <th>std</th>\n",
       "      <td>1.000001e+00</td>\n",
       "      <td>1.000001e+00</td>\n",
       "      <td>1.000001e+00</td>\n",
       "      <td>1.867040</td>\n",
       "      <td>1.000001e+00</td>\n",
       "    </tr>\n",
       "    <tr>\n",
       "      <th>min</th>\n",
       "      <td>-1.416236e+00</td>\n",
       "      <td>-1.178126e+00</td>\n",
       "      <td>-1.224928e+00</td>\n",
       "      <td>1.000000</td>\n",
       "      <td>-1.698513e+00</td>\n",
       "    </tr>\n",
       "    <tr>\n",
       "      <th>25%</th>\n",
       "      <td>-7.055721e-01</td>\n",
       "      <td>-8.422195e-01</td>\n",
       "      <td>-8.471723e-01</td>\n",
       "      <td>2.000000</td>\n",
       "      <td>-8.363453e-01</td>\n",
       "    </tr>\n",
       "    <tr>\n",
       "      <th>50%</th>\n",
       "      <td>-2.058375e-01</td>\n",
       "      <td>-3.215414e-01</td>\n",
       "      <td>-2.782111e-01</td>\n",
       "      <td>3.000000</td>\n",
       "      <td>-6.717921e-02</td>\n",
       "    </tr>\n",
       "    <tr>\n",
       "      <th>75%</th>\n",
       "      <td>4.150684e-01</td>\n",
       "      <td>6.726430e-01</td>\n",
       "      <td>7.291554e-01</td>\n",
       "      <td>5.000000</td>\n",
       "      <td>7.054453e-01</td>\n",
       "    </tr>\n",
       "    <tr>\n",
       "      <th>max</th>\n",
       "      <td>5.057306e+00</td>\n",
       "      <td>2.869544e+00</td>\n",
       "      <td>2.734479e+00</td>\n",
       "      <td>6.000000</td>\n",
       "      <td>2.596478e+00</td>\n",
       "    </tr>\n",
       "  </tbody>\n",
       "</table>\n",
       "</div>"
      ],
      "text/plain": [
       "       luxury_sales   fresh_sales     dry_sales  cluster_catgeory  \\\n",
       "count  7.740320e+05  7.740320e+05  7.740320e+05     774032.000000   \n",
       "mean   5.052539e-16  8.019438e-17  5.083383e-16          3.292151   \n",
       "std    1.000001e+00  1.000001e+00  1.000001e+00          1.867040   \n",
       "min   -1.416236e+00 -1.178126e+00 -1.224928e+00          1.000000   \n",
       "25%   -7.055721e-01 -8.422195e-01 -8.471723e-01          2.000000   \n",
       "50%   -2.058375e-01 -3.215414e-01 -2.782111e-01          3.000000   \n",
       "75%    4.150684e-01  6.726430e-01  7.291554e-01          5.000000   \n",
       "max    5.057306e+00  2.869544e+00  2.734479e+00          6.000000   \n",
       "\n",
       "        total_sales  \n",
       "count  7.740320e+05  \n",
       "mean  -3.096149e-16  \n",
       "std    1.000001e+00  \n",
       "min   -1.698513e+00  \n",
       "25%   -8.363453e-01  \n",
       "50%   -6.717921e-02  \n",
       "75%    7.054453e-01  \n",
       "max    2.596478e+00  "
      ]
     },
     "execution_count": 64,
     "metadata": {},
     "output_type": "execute_result"
    }
   ],
   "source": [
    "df.describe()"
   ]
  },
  {
   "cell_type": "code",
   "execution_count": 65,
   "id": "8f01f1fb",
   "metadata": {},
   "outputs": [],
   "source": [
    "# Define the mapping dictionary\n",
    "#mapping = {'Urban': 0, 'Suburban': 1}\n",
    "\n",
    "# Encode the 'Season' column\n",
    "#df['Council'] = df['Council'].map(mapping)"
   ]
  },
  {
   "cell_type": "code",
   "execution_count": 66,
   "id": "a96b2112",
   "metadata": {},
   "outputs": [],
   "source": [
    "df = pd.get_dummies(df, columns=['outlet_city'])"
   ]
  },
  {
   "cell_type": "code",
   "execution_count": 67,
   "id": "d0d68a09",
   "metadata": {},
   "outputs": [
    {
     "data": {
      "text/html": [
       "<div>\n",
       "<style scoped>\n",
       "    .dataframe tbody tr th:only-of-type {\n",
       "        vertical-align: middle;\n",
       "    }\n",
       "\n",
       "    .dataframe tbody tr th {\n",
       "        vertical-align: top;\n",
       "    }\n",
       "\n",
       "    .dataframe thead th {\n",
       "        text-align: right;\n",
       "    }\n",
       "</style>\n",
       "<table border=\"1\" class=\"dataframe\">\n",
       "  <thead>\n",
       "    <tr style=\"text-align: right;\">\n",
       "      <th></th>\n",
       "      <th>Customer_ID</th>\n",
       "      <th>luxury_sales</th>\n",
       "      <th>fresh_sales</th>\n",
       "      <th>dry_sales</th>\n",
       "      <th>cluster_catgeory</th>\n",
       "      <th>total_sales</th>\n",
       "      <th>outlet_city_batticaloa</th>\n",
       "      <th>outlet_city_colombo</th>\n",
       "      <th>outlet_city_dehiwala-mount lavinia</th>\n",
       "      <th>outlet_city_galle</th>\n",
       "      <th>...</th>\n",
       "      <th>outlet_city_katunayake</th>\n",
       "      <th>outlet_city_kelaniya</th>\n",
       "      <th>outlet_city_kotte</th>\n",
       "      <th>outlet_city_moratuwa</th>\n",
       "      <th>outlet_city_negombo</th>\n",
       "      <th>outlet_city_nuwara eliya</th>\n",
       "      <th>outlet_city_panadura</th>\n",
       "      <th>outlet_city_peliyagoda</th>\n",
       "      <th>outlet_city_trincomalee</th>\n",
       "      <th>outlet_city_wattala</th>\n",
       "    </tr>\n",
       "  </thead>\n",
       "  <tbody>\n",
       "    <tr>\n",
       "      <th>0</th>\n",
       "      <td>10493832.0</td>\n",
       "      <td>-0.709486</td>\n",
       "      <td>-1.101358</td>\n",
       "      <td>0.180588</td>\n",
       "      <td>4</td>\n",
       "      <td>-0.982394</td>\n",
       "      <td>0</td>\n",
       "      <td>0</td>\n",
       "      <td>0</td>\n",
       "      <td>0</td>\n",
       "      <td>...</td>\n",
       "      <td>0</td>\n",
       "      <td>1</td>\n",
       "      <td>0</td>\n",
       "      <td>0</td>\n",
       "      <td>0</td>\n",
       "      <td>0</td>\n",
       "      <td>0</td>\n",
       "      <td>0</td>\n",
       "      <td>0</td>\n",
       "      <td>0</td>\n",
       "    </tr>\n",
       "    <tr>\n",
       "      <th>1</th>\n",
       "      <td>10178643.0</td>\n",
       "      <td>-0.330495</td>\n",
       "      <td>-1.010172</td>\n",
       "      <td>0.390336</td>\n",
       "      <td>1</td>\n",
       "      <td>-0.617593</td>\n",
       "      <td>0</td>\n",
       "      <td>0</td>\n",
       "      <td>0</td>\n",
       "      <td>0</td>\n",
       "      <td>...</td>\n",
       "      <td>0</td>\n",
       "      <td>0</td>\n",
       "      <td>0</td>\n",
       "      <td>1</td>\n",
       "      <td>0</td>\n",
       "      <td>0</td>\n",
       "      <td>0</td>\n",
       "      <td>0</td>\n",
       "      <td>0</td>\n",
       "      <td>0</td>\n",
       "    </tr>\n",
       "    <tr>\n",
       "      <th>2</th>\n",
       "      <td>10513916.0</td>\n",
       "      <td>0.365458</td>\n",
       "      <td>-0.883937</td>\n",
       "      <td>1.313776</td>\n",
       "      <td>4</td>\n",
       "      <td>0.494785</td>\n",
       "      <td>0</td>\n",
       "      <td>0</td>\n",
       "      <td>0</td>\n",
       "      <td>0</td>\n",
       "      <td>...</td>\n",
       "      <td>0</td>\n",
       "      <td>0</td>\n",
       "      <td>0</td>\n",
       "      <td>0</td>\n",
       "      <td>0</td>\n",
       "      <td>0</td>\n",
       "      <td>0</td>\n",
       "      <td>0</td>\n",
       "      <td>0</td>\n",
       "      <td>1</td>\n",
       "    </tr>\n",
       "    <tr>\n",
       "      <th>3</th>\n",
       "      <td>10334589.0</td>\n",
       "      <td>0.351574</td>\n",
       "      <td>-0.806384</td>\n",
       "      <td>1.297421</td>\n",
       "      <td>4</td>\n",
       "      <td>0.544022</td>\n",
       "      <td>0</td>\n",
       "      <td>0</td>\n",
       "      <td>0</td>\n",
       "      <td>0</td>\n",
       "      <td>...</td>\n",
       "      <td>0</td>\n",
       "      <td>0</td>\n",
       "      <td>0</td>\n",
       "      <td>0</td>\n",
       "      <td>0</td>\n",
       "      <td>0</td>\n",
       "      <td>0</td>\n",
       "      <td>0</td>\n",
       "      <td>0</td>\n",
       "      <td>1</td>\n",
       "    </tr>\n",
       "    <tr>\n",
       "      <th>4</th>\n",
       "      <td>10458365.0</td>\n",
       "      <td>0.421841</td>\n",
       "      <td>-0.707458</td>\n",
       "      <td>1.339725</td>\n",
       "      <td>4</td>\n",
       "      <td>0.685977</td>\n",
       "      <td>0</td>\n",
       "      <td>0</td>\n",
       "      <td>0</td>\n",
       "      <td>0</td>\n",
       "      <td>...</td>\n",
       "      <td>0</td>\n",
       "      <td>1</td>\n",
       "      <td>0</td>\n",
       "      <td>0</td>\n",
       "      <td>0</td>\n",
       "      <td>0</td>\n",
       "      <td>0</td>\n",
       "      <td>0</td>\n",
       "      <td>0</td>\n",
       "      <td>0</td>\n",
       "    </tr>\n",
       "  </tbody>\n",
       "</table>\n",
       "<p>5 rows × 26 columns</p>\n",
       "</div>"
      ],
      "text/plain": [
       "  Customer_ID  luxury_sales  fresh_sales  dry_sales  cluster_catgeory  \\\n",
       "0  10493832.0     -0.709486    -1.101358   0.180588                 4   \n",
       "1  10178643.0     -0.330495    -1.010172   0.390336                 1   \n",
       "2  10513916.0      0.365458    -0.883937   1.313776                 4   \n",
       "3  10334589.0      0.351574    -0.806384   1.297421                 4   \n",
       "4  10458365.0      0.421841    -0.707458   1.339725                 4   \n",
       "\n",
       "   total_sales  outlet_city_batticaloa  outlet_city_colombo  \\\n",
       "0    -0.982394                       0                    0   \n",
       "1    -0.617593                       0                    0   \n",
       "2     0.494785                       0                    0   \n",
       "3     0.544022                       0                    0   \n",
       "4     0.685977                       0                    0   \n",
       "\n",
       "   outlet_city_dehiwala-mount lavinia  outlet_city_galle  ...  \\\n",
       "0                                   0                  0  ...   \n",
       "1                                   0                  0  ...   \n",
       "2                                   0                  0  ...   \n",
       "3                                   0                  0  ...   \n",
       "4                                   0                  0  ...   \n",
       "\n",
       "   outlet_city_katunayake  outlet_city_kelaniya  outlet_city_kotte  \\\n",
       "0                       0                     1                  0   \n",
       "1                       0                     0                  0   \n",
       "2                       0                     0                  0   \n",
       "3                       0                     0                  0   \n",
       "4                       0                     1                  0   \n",
       "\n",
       "   outlet_city_moratuwa  outlet_city_negombo  outlet_city_nuwara eliya  \\\n",
       "0                     0                    0                         0   \n",
       "1                     1                    0                         0   \n",
       "2                     0                    0                         0   \n",
       "3                     0                    0                         0   \n",
       "4                     0                    0                         0   \n",
       "\n",
       "   outlet_city_panadura  outlet_city_peliyagoda  outlet_city_trincomalee  \\\n",
       "0                     0                       0                        0   \n",
       "1                     0                       0                        0   \n",
       "2                     0                       0                        0   \n",
       "3                     0                       0                        0   \n",
       "4                     0                       0                        0   \n",
       "\n",
       "   outlet_city_wattala  \n",
       "0                    0  \n",
       "1                    0  \n",
       "2                    1  \n",
       "3                    1  \n",
       "4                    0  \n",
       "\n",
       "[5 rows x 26 columns]"
      ]
     },
     "execution_count": 67,
     "metadata": {},
     "output_type": "execute_result"
    }
   ],
   "source": [
    "df.head()"
   ]
  },
  {
   "cell_type": "code",
   "execution_count": 68,
   "id": "f67da3e1",
   "metadata": {},
   "outputs": [
    {
     "data": {
      "text/plain": [
       "(774032, 26)"
      ]
     },
     "execution_count": 68,
     "metadata": {},
     "output_type": "execute_result"
    }
   ],
   "source": [
    "df.shape"
   ]
  },
  {
   "cell_type": "code",
   "execution_count": 69,
   "id": "3bc7b431",
   "metadata": {},
   "outputs": [],
   "source": [
    "def category_onehot_multcols(multcolumns):\n",
    "    df_final=final_df\n",
    "    i=0\n",
    "    for fields in multcolumns:\n",
    "        \n",
    "        print(fields)\n",
    "        df1=pd.get_dummies(final_df[fields],drop_first=True)\n",
    "        \n",
    "        final_df.drop([fields],axis=1,inplace=True)\n",
    "        if i==0:\n",
    "            df_final=df1.copy()\n",
    "        else:\n",
    "            \n",
    "            df_final=pd.concat([df_final,df1],axis=1)\n",
    "        i=i+1\n",
    "       \n",
    "        \n",
    "    df_final=pd.concat([final_df,df_final],axis=1)\n",
    "        \n",
    "    return df_final"
   ]
  },
  {
   "cell_type": "code",
   "execution_count": 70,
   "id": "38ce2f1a",
   "metadata": {},
   "outputs": [],
   "source": [
    "main_df=df.copy()"
   ]
  },
  {
   "cell_type": "code",
   "execution_count": 71,
   "id": "aabfe1c8",
   "metadata": {},
   "outputs": [],
   "source": [
    "test_df=pd.read_csv(r'C:\\Users\\aabidh musthaq\\Desktop\\MAchine lea projects\\Competition\\Data Strom\\test5.csv')"
   ]
  },
  {
   "cell_type": "code",
   "execution_count": 72,
   "id": "a59a1dd5",
   "metadata": {},
   "outputs": [
    {
     "data": {
      "text/plain": [
       "(40749, 27)"
      ]
     },
     "execution_count": 72,
     "metadata": {},
     "output_type": "execute_result"
    }
   ],
   "source": [
    "test_df.shape"
   ]
  },
  {
   "cell_type": "code",
   "execution_count": 73,
   "id": "19980b36",
   "metadata": {},
   "outputs": [],
   "source": [
    "final_df=pd.concat([df,test_df],axis=0)"
   ]
  },
  {
   "cell_type": "code",
   "execution_count": 74,
   "id": "5dd1c8b2",
   "metadata": {},
   "outputs": [
    {
     "data": {
      "text/plain": [
       "0        4.0\n",
       "1        1.0\n",
       "2        4.0\n",
       "3        4.0\n",
       "4        4.0\n",
       "        ... \n",
       "40744    NaN\n",
       "40745    NaN\n",
       "40746    NaN\n",
       "40747    NaN\n",
       "40748    NaN\n",
       "Name: cluster_catgeory, Length: 814781, dtype: float64"
      ]
     },
     "execution_count": 74,
     "metadata": {},
     "output_type": "execute_result"
    }
   ],
   "source": [
    "final_df['cluster_catgeory']"
   ]
  },
  {
   "cell_type": "code",
   "execution_count": 75,
   "id": "0e5dd154",
   "metadata": {},
   "outputs": [],
   "source": [
    "final_df =final_df.loc[:,~final_df.columns.duplicated()]"
   ]
  },
  {
   "cell_type": "code",
   "execution_count": 76,
   "id": "a7e6f959",
   "metadata": {},
   "outputs": [
    {
     "data": {
      "text/plain": [
       "(814781, 28)"
      ]
     },
     "execution_count": 76,
     "metadata": {},
     "output_type": "execute_result"
    }
   ],
   "source": [
    "final_df.shape"
   ]
  },
  {
   "cell_type": "code",
   "execution_count": 77,
   "id": "2749153a",
   "metadata": {},
   "outputs": [
    {
     "data": {
      "text/html": [
       "<div>\n",
       "<style scoped>\n",
       "    .dataframe tbody tr th:only-of-type {\n",
       "        vertical-align: middle;\n",
       "    }\n",
       "\n",
       "    .dataframe tbody tr th {\n",
       "        vertical-align: top;\n",
       "    }\n",
       "\n",
       "    .dataframe thead th {\n",
       "        text-align: right;\n",
       "    }\n",
       "</style>\n",
       "<table border=\"1\" class=\"dataframe\">\n",
       "  <thead>\n",
       "    <tr style=\"text-align: right;\">\n",
       "      <th></th>\n",
       "      <th>Customer_ID</th>\n",
       "      <th>luxury_sales</th>\n",
       "      <th>fresh_sales</th>\n",
       "      <th>dry_sales</th>\n",
       "      <th>cluster_catgeory</th>\n",
       "      <th>total_sales</th>\n",
       "      <th>outlet_city_batticaloa</th>\n",
       "      <th>outlet_city_colombo</th>\n",
       "      <th>outlet_city_dehiwala-mount lavinia</th>\n",
       "      <th>outlet_city_galle</th>\n",
       "      <th>...</th>\n",
       "      <th>outlet_city_kotte</th>\n",
       "      <th>outlet_city_moratuwa</th>\n",
       "      <th>outlet_city_negombo</th>\n",
       "      <th>outlet_city_nuwara eliya</th>\n",
       "      <th>outlet_city_panadura</th>\n",
       "      <th>outlet_city_peliyagoda</th>\n",
       "      <th>outlet_city_trincomalee</th>\n",
       "      <th>outlet_city_wattala</th>\n",
       "      <th>outlet_city_anuradhapura</th>\n",
       "      <th>outlet_city_madawachiya</th>\n",
       "    </tr>\n",
       "  </thead>\n",
       "  <tbody>\n",
       "    <tr>\n",
       "      <th>0</th>\n",
       "      <td>10493832.0</td>\n",
       "      <td>-0.709486</td>\n",
       "      <td>-1.101358</td>\n",
       "      <td>0.180588</td>\n",
       "      <td>4.0</td>\n",
       "      <td>-0.982394</td>\n",
       "      <td>0</td>\n",
       "      <td>0</td>\n",
       "      <td>0</td>\n",
       "      <td>0</td>\n",
       "      <td>...</td>\n",
       "      <td>0</td>\n",
       "      <td>0</td>\n",
       "      <td>0</td>\n",
       "      <td>0</td>\n",
       "      <td>0</td>\n",
       "      <td>0</td>\n",
       "      <td>0</td>\n",
       "      <td>0</td>\n",
       "      <td>NaN</td>\n",
       "      <td>NaN</td>\n",
       "    </tr>\n",
       "    <tr>\n",
       "      <th>1</th>\n",
       "      <td>10178643.0</td>\n",
       "      <td>-0.330495</td>\n",
       "      <td>-1.010172</td>\n",
       "      <td>0.390336</td>\n",
       "      <td>1.0</td>\n",
       "      <td>-0.617593</td>\n",
       "      <td>0</td>\n",
       "      <td>0</td>\n",
       "      <td>0</td>\n",
       "      <td>0</td>\n",
       "      <td>...</td>\n",
       "      <td>0</td>\n",
       "      <td>1</td>\n",
       "      <td>0</td>\n",
       "      <td>0</td>\n",
       "      <td>0</td>\n",
       "      <td>0</td>\n",
       "      <td>0</td>\n",
       "      <td>0</td>\n",
       "      <td>NaN</td>\n",
       "      <td>NaN</td>\n",
       "    </tr>\n",
       "    <tr>\n",
       "      <th>2</th>\n",
       "      <td>10513916.0</td>\n",
       "      <td>0.365458</td>\n",
       "      <td>-0.883937</td>\n",
       "      <td>1.313776</td>\n",
       "      <td>4.0</td>\n",
       "      <td>0.494785</td>\n",
       "      <td>0</td>\n",
       "      <td>0</td>\n",
       "      <td>0</td>\n",
       "      <td>0</td>\n",
       "      <td>...</td>\n",
       "      <td>0</td>\n",
       "      <td>0</td>\n",
       "      <td>0</td>\n",
       "      <td>0</td>\n",
       "      <td>0</td>\n",
       "      <td>0</td>\n",
       "      <td>0</td>\n",
       "      <td>1</td>\n",
       "      <td>NaN</td>\n",
       "      <td>NaN</td>\n",
       "    </tr>\n",
       "    <tr>\n",
       "      <th>3</th>\n",
       "      <td>10334589.0</td>\n",
       "      <td>0.351574</td>\n",
       "      <td>-0.806384</td>\n",
       "      <td>1.297421</td>\n",
       "      <td>4.0</td>\n",
       "      <td>0.544022</td>\n",
       "      <td>0</td>\n",
       "      <td>0</td>\n",
       "      <td>0</td>\n",
       "      <td>0</td>\n",
       "      <td>...</td>\n",
       "      <td>0</td>\n",
       "      <td>0</td>\n",
       "      <td>0</td>\n",
       "      <td>0</td>\n",
       "      <td>0</td>\n",
       "      <td>0</td>\n",
       "      <td>0</td>\n",
       "      <td>1</td>\n",
       "      <td>NaN</td>\n",
       "      <td>NaN</td>\n",
       "    </tr>\n",
       "    <tr>\n",
       "      <th>4</th>\n",
       "      <td>10458365.0</td>\n",
       "      <td>0.421841</td>\n",
       "      <td>-0.707458</td>\n",
       "      <td>1.339725</td>\n",
       "      <td>4.0</td>\n",
       "      <td>0.685977</td>\n",
       "      <td>0</td>\n",
       "      <td>0</td>\n",
       "      <td>0</td>\n",
       "      <td>0</td>\n",
       "      <td>...</td>\n",
       "      <td>0</td>\n",
       "      <td>0</td>\n",
       "      <td>0</td>\n",
       "      <td>0</td>\n",
       "      <td>0</td>\n",
       "      <td>0</td>\n",
       "      <td>0</td>\n",
       "      <td>0</td>\n",
       "      <td>NaN</td>\n",
       "      <td>NaN</td>\n",
       "    </tr>\n",
       "    <tr>\n",
       "      <th>...</th>\n",
       "      <td>...</td>\n",
       "      <td>...</td>\n",
       "      <td>...</td>\n",
       "      <td>...</td>\n",
       "      <td>...</td>\n",
       "      <td>...</td>\n",
       "      <td>...</td>\n",
       "      <td>...</td>\n",
       "      <td>...</td>\n",
       "      <td>...</td>\n",
       "      <td>...</td>\n",
       "      <td>...</td>\n",
       "      <td>...</td>\n",
       "      <td>...</td>\n",
       "      <td>...</td>\n",
       "      <td>...</td>\n",
       "      <td>...</td>\n",
       "      <td>...</td>\n",
       "      <td>...</td>\n",
       "      <td>...</td>\n",
       "      <td>...</td>\n",
       "    </tr>\n",
       "    <tr>\n",
       "      <th>40744</th>\n",
       "      <td>33698.0</td>\n",
       "      <td>1.981911</td>\n",
       "      <td>-0.084108</td>\n",
       "      <td>-0.227219</td>\n",
       "      <td>NaN</td>\n",
       "      <td>0.243373</td>\n",
       "      <td>0</td>\n",
       "      <td>0</td>\n",
       "      <td>0</td>\n",
       "      <td>0</td>\n",
       "      <td>...</td>\n",
       "      <td>0</td>\n",
       "      <td>0</td>\n",
       "      <td>0</td>\n",
       "      <td>0</td>\n",
       "      <td>0</td>\n",
       "      <td>0</td>\n",
       "      <td>0</td>\n",
       "      <td>1</td>\n",
       "      <td>0.0</td>\n",
       "      <td>0.0</td>\n",
       "    </tr>\n",
       "    <tr>\n",
       "      <th>40745</th>\n",
       "      <td>4185.0</td>\n",
       "      <td>1.260083</td>\n",
       "      <td>-0.429573</td>\n",
       "      <td>-0.467164</td>\n",
       "      <td>NaN</td>\n",
       "      <td>-0.461195</td>\n",
       "      <td>0</td>\n",
       "      <td>0</td>\n",
       "      <td>0</td>\n",
       "      <td>0</td>\n",
       "      <td>...</td>\n",
       "      <td>0</td>\n",
       "      <td>0</td>\n",
       "      <td>0</td>\n",
       "      <td>0</td>\n",
       "      <td>0</td>\n",
       "      <td>0</td>\n",
       "      <td>0</td>\n",
       "      <td>1</td>\n",
       "      <td>0.0</td>\n",
       "      <td>0.0</td>\n",
       "    </tr>\n",
       "    <tr>\n",
       "      <th>40746</th>\n",
       "      <td>28664.0</td>\n",
       "      <td>1.904325</td>\n",
       "      <td>-0.146734</td>\n",
       "      <td>-0.290685</td>\n",
       "      <td>NaN</td>\n",
       "      <td>0.111827</td>\n",
       "      <td>0</td>\n",
       "      <td>0</td>\n",
       "      <td>0</td>\n",
       "      <td>0</td>\n",
       "      <td>...</td>\n",
       "      <td>0</td>\n",
       "      <td>0</td>\n",
       "      <td>0</td>\n",
       "      <td>0</td>\n",
       "      <td>0</td>\n",
       "      <td>0</td>\n",
       "      <td>0</td>\n",
       "      <td>1</td>\n",
       "      <td>0.0</td>\n",
       "      <td>0.0</td>\n",
       "    </tr>\n",
       "    <tr>\n",
       "      <th>40747</th>\n",
       "      <td>11874.0</td>\n",
       "      <td>2.377693</td>\n",
       "      <td>-0.077605</td>\n",
       "      <td>-0.110746</td>\n",
       "      <td>NaN</td>\n",
       "      <td>0.456390</td>\n",
       "      <td>0</td>\n",
       "      <td>0</td>\n",
       "      <td>0</td>\n",
       "      <td>0</td>\n",
       "      <td>...</td>\n",
       "      <td>0</td>\n",
       "      <td>0</td>\n",
       "      <td>0</td>\n",
       "      <td>0</td>\n",
       "      <td>0</td>\n",
       "      <td>0</td>\n",
       "      <td>0</td>\n",
       "      <td>1</td>\n",
       "      <td>0.0</td>\n",
       "      <td>0.0</td>\n",
       "    </tr>\n",
       "    <tr>\n",
       "      <th>40748</th>\n",
       "      <td>11431.0</td>\n",
       "      <td>2.276476</td>\n",
       "      <td>-0.068911</td>\n",
       "      <td>-0.140533</td>\n",
       "      <td>NaN</td>\n",
       "      <td>0.410966</td>\n",
       "      <td>0</td>\n",
       "      <td>0</td>\n",
       "      <td>0</td>\n",
       "      <td>0</td>\n",
       "      <td>...</td>\n",
       "      <td>0</td>\n",
       "      <td>0</td>\n",
       "      <td>0</td>\n",
       "      <td>0</td>\n",
       "      <td>0</td>\n",
       "      <td>0</td>\n",
       "      <td>0</td>\n",
       "      <td>1</td>\n",
       "      <td>0.0</td>\n",
       "      <td>0.0</td>\n",
       "    </tr>\n",
       "  </tbody>\n",
       "</table>\n",
       "<p>814781 rows × 28 columns</p>\n",
       "</div>"
      ],
      "text/plain": [
       "       Customer_ID  luxury_sales  fresh_sales  dry_sales  cluster_catgeory  \\\n",
       "0       10493832.0     -0.709486    -1.101358   0.180588               4.0   \n",
       "1       10178643.0     -0.330495    -1.010172   0.390336               1.0   \n",
       "2       10513916.0      0.365458    -0.883937   1.313776               4.0   \n",
       "3       10334589.0      0.351574    -0.806384   1.297421               4.0   \n",
       "4       10458365.0      0.421841    -0.707458   1.339725               4.0   \n",
       "...            ...           ...          ...        ...               ...   \n",
       "40744      33698.0      1.981911    -0.084108  -0.227219               NaN   \n",
       "40745       4185.0      1.260083    -0.429573  -0.467164               NaN   \n",
       "40746      28664.0      1.904325    -0.146734  -0.290685               NaN   \n",
       "40747      11874.0      2.377693    -0.077605  -0.110746               NaN   \n",
       "40748      11431.0      2.276476    -0.068911  -0.140533               NaN   \n",
       "\n",
       "       total_sales  outlet_city_batticaloa  outlet_city_colombo  \\\n",
       "0        -0.982394                       0                    0   \n",
       "1        -0.617593                       0                    0   \n",
       "2         0.494785                       0                    0   \n",
       "3         0.544022                       0                    0   \n",
       "4         0.685977                       0                    0   \n",
       "...            ...                     ...                  ...   \n",
       "40744     0.243373                       0                    0   \n",
       "40745    -0.461195                       0                    0   \n",
       "40746     0.111827                       0                    0   \n",
       "40747     0.456390                       0                    0   \n",
       "40748     0.410966                       0                    0   \n",
       "\n",
       "       outlet_city_dehiwala-mount lavinia  outlet_city_galle  ...  \\\n",
       "0                                       0                  0  ...   \n",
       "1                                       0                  0  ...   \n",
       "2                                       0                  0  ...   \n",
       "3                                       0                  0  ...   \n",
       "4                                       0                  0  ...   \n",
       "...                                   ...                ...  ...   \n",
       "40744                                   0                  0  ...   \n",
       "40745                                   0                  0  ...   \n",
       "40746                                   0                  0  ...   \n",
       "40747                                   0                  0  ...   \n",
       "40748                                   0                  0  ...   \n",
       "\n",
       "       outlet_city_kotte  outlet_city_moratuwa  outlet_city_negombo  \\\n",
       "0                      0                     0                    0   \n",
       "1                      0                     1                    0   \n",
       "2                      0                     0                    0   \n",
       "3                      0                     0                    0   \n",
       "4                      0                     0                    0   \n",
       "...                  ...                   ...                  ...   \n",
       "40744                  0                     0                    0   \n",
       "40745                  0                     0                    0   \n",
       "40746                  0                     0                    0   \n",
       "40747                  0                     0                    0   \n",
       "40748                  0                     0                    0   \n",
       "\n",
       "       outlet_city_nuwara eliya  outlet_city_panadura  outlet_city_peliyagoda  \\\n",
       "0                             0                     0                       0   \n",
       "1                             0                     0                       0   \n",
       "2                             0                     0                       0   \n",
       "3                             0                     0                       0   \n",
       "4                             0                     0                       0   \n",
       "...                         ...                   ...                     ...   \n",
       "40744                         0                     0                       0   \n",
       "40745                         0                     0                       0   \n",
       "40746                         0                     0                       0   \n",
       "40747                         0                     0                       0   \n",
       "40748                         0                     0                       0   \n",
       "\n",
       "       outlet_city_trincomalee  outlet_city_wattala  outlet_city_anuradhapura  \\\n",
       "0                            0                    0                       NaN   \n",
       "1                            0                    0                       NaN   \n",
       "2                            0                    1                       NaN   \n",
       "3                            0                    1                       NaN   \n",
       "4                            0                    0                       NaN   \n",
       "...                        ...                  ...                       ...   \n",
       "40744                        0                    1                       0.0   \n",
       "40745                        0                    1                       0.0   \n",
       "40746                        0                    1                       0.0   \n",
       "40747                        0                    1                       0.0   \n",
       "40748                        0                    1                       0.0   \n",
       "\n",
       "       outlet_city_madawachiya  \n",
       "0                          NaN  \n",
       "1                          NaN  \n",
       "2                          NaN  \n",
       "3                          NaN  \n",
       "4                          NaN  \n",
       "...                        ...  \n",
       "40744                      0.0  \n",
       "40745                      0.0  \n",
       "40746                      0.0  \n",
       "40747                      0.0  \n",
       "40748                      0.0  \n",
       "\n",
       "[814781 rows x 28 columns]"
      ]
     },
     "execution_count": 77,
     "metadata": {},
     "output_type": "execute_result"
    }
   ],
   "source": [
    "final_df"
   ]
  },
  {
   "cell_type": "code",
   "execution_count": 78,
   "id": "3b9b7b6e",
   "metadata": {},
   "outputs": [],
   "source": [
    "df_Train=final_df.iloc[:774032,:]\n",
    "df_Test=final_df.iloc[774032:,:]"
   ]
  },
  {
   "cell_type": "code",
   "execution_count": 79,
   "id": "cacf58c0",
   "metadata": {},
   "outputs": [
    {
     "data": {
      "text/html": [
       "<div>\n",
       "<style scoped>\n",
       "    .dataframe tbody tr th:only-of-type {\n",
       "        vertical-align: middle;\n",
       "    }\n",
       "\n",
       "    .dataframe tbody tr th {\n",
       "        vertical-align: top;\n",
       "    }\n",
       "\n",
       "    .dataframe thead th {\n",
       "        text-align: right;\n",
       "    }\n",
       "</style>\n",
       "<table border=\"1\" class=\"dataframe\">\n",
       "  <thead>\n",
       "    <tr style=\"text-align: right;\">\n",
       "      <th></th>\n",
       "      <th>Customer_ID</th>\n",
       "      <th>luxury_sales</th>\n",
       "      <th>fresh_sales</th>\n",
       "      <th>dry_sales</th>\n",
       "      <th>cluster_catgeory</th>\n",
       "      <th>total_sales</th>\n",
       "      <th>outlet_city_batticaloa</th>\n",
       "      <th>outlet_city_colombo</th>\n",
       "      <th>outlet_city_dehiwala-mount lavinia</th>\n",
       "      <th>outlet_city_galle</th>\n",
       "      <th>...</th>\n",
       "      <th>outlet_city_kotte</th>\n",
       "      <th>outlet_city_moratuwa</th>\n",
       "      <th>outlet_city_negombo</th>\n",
       "      <th>outlet_city_nuwara eliya</th>\n",
       "      <th>outlet_city_panadura</th>\n",
       "      <th>outlet_city_peliyagoda</th>\n",
       "      <th>outlet_city_trincomalee</th>\n",
       "      <th>outlet_city_wattala</th>\n",
       "      <th>outlet_city_anuradhapura</th>\n",
       "      <th>outlet_city_madawachiya</th>\n",
       "    </tr>\n",
       "  </thead>\n",
       "  <tbody>\n",
       "    <tr>\n",
       "      <th>0</th>\n",
       "      <td>10493832.0</td>\n",
       "      <td>-0.709486</td>\n",
       "      <td>-1.101358</td>\n",
       "      <td>0.180588</td>\n",
       "      <td>4.0</td>\n",
       "      <td>-0.982394</td>\n",
       "      <td>0</td>\n",
       "      <td>0</td>\n",
       "      <td>0</td>\n",
       "      <td>0</td>\n",
       "      <td>...</td>\n",
       "      <td>0</td>\n",
       "      <td>0</td>\n",
       "      <td>0</td>\n",
       "      <td>0</td>\n",
       "      <td>0</td>\n",
       "      <td>0</td>\n",
       "      <td>0</td>\n",
       "      <td>0</td>\n",
       "      <td>NaN</td>\n",
       "      <td>NaN</td>\n",
       "    </tr>\n",
       "    <tr>\n",
       "      <th>1</th>\n",
       "      <td>10178643.0</td>\n",
       "      <td>-0.330495</td>\n",
       "      <td>-1.010172</td>\n",
       "      <td>0.390336</td>\n",
       "      <td>1.0</td>\n",
       "      <td>-0.617593</td>\n",
       "      <td>0</td>\n",
       "      <td>0</td>\n",
       "      <td>0</td>\n",
       "      <td>0</td>\n",
       "      <td>...</td>\n",
       "      <td>0</td>\n",
       "      <td>1</td>\n",
       "      <td>0</td>\n",
       "      <td>0</td>\n",
       "      <td>0</td>\n",
       "      <td>0</td>\n",
       "      <td>0</td>\n",
       "      <td>0</td>\n",
       "      <td>NaN</td>\n",
       "      <td>NaN</td>\n",
       "    </tr>\n",
       "    <tr>\n",
       "      <th>2</th>\n",
       "      <td>10513916.0</td>\n",
       "      <td>0.365458</td>\n",
       "      <td>-0.883937</td>\n",
       "      <td>1.313776</td>\n",
       "      <td>4.0</td>\n",
       "      <td>0.494785</td>\n",
       "      <td>0</td>\n",
       "      <td>0</td>\n",
       "      <td>0</td>\n",
       "      <td>0</td>\n",
       "      <td>...</td>\n",
       "      <td>0</td>\n",
       "      <td>0</td>\n",
       "      <td>0</td>\n",
       "      <td>0</td>\n",
       "      <td>0</td>\n",
       "      <td>0</td>\n",
       "      <td>0</td>\n",
       "      <td>1</td>\n",
       "      <td>NaN</td>\n",
       "      <td>NaN</td>\n",
       "    </tr>\n",
       "    <tr>\n",
       "      <th>3</th>\n",
       "      <td>10334589.0</td>\n",
       "      <td>0.351574</td>\n",
       "      <td>-0.806384</td>\n",
       "      <td>1.297421</td>\n",
       "      <td>4.0</td>\n",
       "      <td>0.544022</td>\n",
       "      <td>0</td>\n",
       "      <td>0</td>\n",
       "      <td>0</td>\n",
       "      <td>0</td>\n",
       "      <td>...</td>\n",
       "      <td>0</td>\n",
       "      <td>0</td>\n",
       "      <td>0</td>\n",
       "      <td>0</td>\n",
       "      <td>0</td>\n",
       "      <td>0</td>\n",
       "      <td>0</td>\n",
       "      <td>1</td>\n",
       "      <td>NaN</td>\n",
       "      <td>NaN</td>\n",
       "    </tr>\n",
       "    <tr>\n",
       "      <th>4</th>\n",
       "      <td>10458365.0</td>\n",
       "      <td>0.421841</td>\n",
       "      <td>-0.707458</td>\n",
       "      <td>1.339725</td>\n",
       "      <td>4.0</td>\n",
       "      <td>0.685977</td>\n",
       "      <td>0</td>\n",
       "      <td>0</td>\n",
       "      <td>0</td>\n",
       "      <td>0</td>\n",
       "      <td>...</td>\n",
       "      <td>0</td>\n",
       "      <td>0</td>\n",
       "      <td>0</td>\n",
       "      <td>0</td>\n",
       "      <td>0</td>\n",
       "      <td>0</td>\n",
       "      <td>0</td>\n",
       "      <td>0</td>\n",
       "      <td>NaN</td>\n",
       "      <td>NaN</td>\n",
       "    </tr>\n",
       "  </tbody>\n",
       "</table>\n",
       "<p>5 rows × 28 columns</p>\n",
       "</div>"
      ],
      "text/plain": [
       "   Customer_ID  luxury_sales  fresh_sales  dry_sales  cluster_catgeory  \\\n",
       "0   10493832.0     -0.709486    -1.101358   0.180588               4.0   \n",
       "1   10178643.0     -0.330495    -1.010172   0.390336               1.0   \n",
       "2   10513916.0      0.365458    -0.883937   1.313776               4.0   \n",
       "3   10334589.0      0.351574    -0.806384   1.297421               4.0   \n",
       "4   10458365.0      0.421841    -0.707458   1.339725               4.0   \n",
       "\n",
       "   total_sales  outlet_city_batticaloa  outlet_city_colombo  \\\n",
       "0    -0.982394                       0                    0   \n",
       "1    -0.617593                       0                    0   \n",
       "2     0.494785                       0                    0   \n",
       "3     0.544022                       0                    0   \n",
       "4     0.685977                       0                    0   \n",
       "\n",
       "   outlet_city_dehiwala-mount lavinia  outlet_city_galle  ...  \\\n",
       "0                                   0                  0  ...   \n",
       "1                                   0                  0  ...   \n",
       "2                                   0                  0  ...   \n",
       "3                                   0                  0  ...   \n",
       "4                                   0                  0  ...   \n",
       "\n",
       "   outlet_city_kotte  outlet_city_moratuwa  outlet_city_negombo  \\\n",
       "0                  0                     0                    0   \n",
       "1                  0                     1                    0   \n",
       "2                  0                     0                    0   \n",
       "3                  0                     0                    0   \n",
       "4                  0                     0                    0   \n",
       "\n",
       "   outlet_city_nuwara eliya  outlet_city_panadura  outlet_city_peliyagoda  \\\n",
       "0                         0                     0                       0   \n",
       "1                         0                     0                       0   \n",
       "2                         0                     0                       0   \n",
       "3                         0                     0                       0   \n",
       "4                         0                     0                       0   \n",
       "\n",
       "   outlet_city_trincomalee  outlet_city_wattala  outlet_city_anuradhapura  \\\n",
       "0                        0                    0                       NaN   \n",
       "1                        0                    0                       NaN   \n",
       "2                        0                    1                       NaN   \n",
       "3                        0                    1                       NaN   \n",
       "4                        0                    0                       NaN   \n",
       "\n",
       "   outlet_city_madawachiya  \n",
       "0                      NaN  \n",
       "1                      NaN  \n",
       "2                      NaN  \n",
       "3                      NaN  \n",
       "4                      NaN  \n",
       "\n",
       "[5 rows x 28 columns]"
      ]
     },
     "execution_count": 79,
     "metadata": {},
     "output_type": "execute_result"
    }
   ],
   "source": [
    "df_Train.head()"
   ]
  },
  {
   "cell_type": "code",
   "execution_count": 80,
   "id": "1af3025d",
   "metadata": {},
   "outputs": [
    {
     "name": "stderr",
     "output_type": "stream",
     "text": [
      "c:\\Program Files\\Python37\\lib\\site-packages\\pandas\\core\\frame.py:5182: SettingWithCopyWarning: \n",
      "A value is trying to be set on a copy of a slice from a DataFrame\n",
      "\n",
      "See the caveats in the documentation: https://pandas.pydata.org/pandas-docs/stable/user_guide/indexing.html#returning-a-view-versus-a-copy\n",
      "  downcast=downcast,\n"
     ]
    }
   ],
   "source": [
    "df_Train.fillna(0, inplace=True)"
   ]
  },
  {
   "cell_type": "code",
   "execution_count": 81,
   "id": "6f913f29",
   "metadata": {},
   "outputs": [
    {
     "data": {
      "text/html": [
       "<div>\n",
       "<style scoped>\n",
       "    .dataframe tbody tr th:only-of-type {\n",
       "        vertical-align: middle;\n",
       "    }\n",
       "\n",
       "    .dataframe tbody tr th {\n",
       "        vertical-align: top;\n",
       "    }\n",
       "\n",
       "    .dataframe thead th {\n",
       "        text-align: right;\n",
       "    }\n",
       "</style>\n",
       "<table border=\"1\" class=\"dataframe\">\n",
       "  <thead>\n",
       "    <tr style=\"text-align: right;\">\n",
       "      <th></th>\n",
       "      <th>Customer_ID</th>\n",
       "      <th>luxury_sales</th>\n",
       "      <th>fresh_sales</th>\n",
       "      <th>dry_sales</th>\n",
       "      <th>cluster_catgeory</th>\n",
       "      <th>total_sales</th>\n",
       "      <th>outlet_city_batticaloa</th>\n",
       "      <th>outlet_city_colombo</th>\n",
       "      <th>outlet_city_dehiwala-mount lavinia</th>\n",
       "      <th>outlet_city_galle</th>\n",
       "      <th>...</th>\n",
       "      <th>outlet_city_kotte</th>\n",
       "      <th>outlet_city_moratuwa</th>\n",
       "      <th>outlet_city_negombo</th>\n",
       "      <th>outlet_city_nuwara eliya</th>\n",
       "      <th>outlet_city_panadura</th>\n",
       "      <th>outlet_city_peliyagoda</th>\n",
       "      <th>outlet_city_trincomalee</th>\n",
       "      <th>outlet_city_wattala</th>\n",
       "      <th>outlet_city_anuradhapura</th>\n",
       "      <th>outlet_city_madawachiya</th>\n",
       "    </tr>\n",
       "  </thead>\n",
       "  <tbody>\n",
       "    <tr>\n",
       "      <th>0</th>\n",
       "      <td>10493832.0</td>\n",
       "      <td>-0.709486</td>\n",
       "      <td>-1.101358</td>\n",
       "      <td>0.180588</td>\n",
       "      <td>4.0</td>\n",
       "      <td>-0.982394</td>\n",
       "      <td>0</td>\n",
       "      <td>0</td>\n",
       "      <td>0</td>\n",
       "      <td>0</td>\n",
       "      <td>...</td>\n",
       "      <td>0</td>\n",
       "      <td>0</td>\n",
       "      <td>0</td>\n",
       "      <td>0</td>\n",
       "      <td>0</td>\n",
       "      <td>0</td>\n",
       "      <td>0</td>\n",
       "      <td>0</td>\n",
       "      <td>0.0</td>\n",
       "      <td>0.0</td>\n",
       "    </tr>\n",
       "    <tr>\n",
       "      <th>1</th>\n",
       "      <td>10178643.0</td>\n",
       "      <td>-0.330495</td>\n",
       "      <td>-1.010172</td>\n",
       "      <td>0.390336</td>\n",
       "      <td>1.0</td>\n",
       "      <td>-0.617593</td>\n",
       "      <td>0</td>\n",
       "      <td>0</td>\n",
       "      <td>0</td>\n",
       "      <td>0</td>\n",
       "      <td>...</td>\n",
       "      <td>0</td>\n",
       "      <td>1</td>\n",
       "      <td>0</td>\n",
       "      <td>0</td>\n",
       "      <td>0</td>\n",
       "      <td>0</td>\n",
       "      <td>0</td>\n",
       "      <td>0</td>\n",
       "      <td>0.0</td>\n",
       "      <td>0.0</td>\n",
       "    </tr>\n",
       "    <tr>\n",
       "      <th>2</th>\n",
       "      <td>10513916.0</td>\n",
       "      <td>0.365458</td>\n",
       "      <td>-0.883937</td>\n",
       "      <td>1.313776</td>\n",
       "      <td>4.0</td>\n",
       "      <td>0.494785</td>\n",
       "      <td>0</td>\n",
       "      <td>0</td>\n",
       "      <td>0</td>\n",
       "      <td>0</td>\n",
       "      <td>...</td>\n",
       "      <td>0</td>\n",
       "      <td>0</td>\n",
       "      <td>0</td>\n",
       "      <td>0</td>\n",
       "      <td>0</td>\n",
       "      <td>0</td>\n",
       "      <td>0</td>\n",
       "      <td>1</td>\n",
       "      <td>0.0</td>\n",
       "      <td>0.0</td>\n",
       "    </tr>\n",
       "    <tr>\n",
       "      <th>3</th>\n",
       "      <td>10334589.0</td>\n",
       "      <td>0.351574</td>\n",
       "      <td>-0.806384</td>\n",
       "      <td>1.297421</td>\n",
       "      <td>4.0</td>\n",
       "      <td>0.544022</td>\n",
       "      <td>0</td>\n",
       "      <td>0</td>\n",
       "      <td>0</td>\n",
       "      <td>0</td>\n",
       "      <td>...</td>\n",
       "      <td>0</td>\n",
       "      <td>0</td>\n",
       "      <td>0</td>\n",
       "      <td>0</td>\n",
       "      <td>0</td>\n",
       "      <td>0</td>\n",
       "      <td>0</td>\n",
       "      <td>1</td>\n",
       "      <td>0.0</td>\n",
       "      <td>0.0</td>\n",
       "    </tr>\n",
       "    <tr>\n",
       "      <th>4</th>\n",
       "      <td>10458365.0</td>\n",
       "      <td>0.421841</td>\n",
       "      <td>-0.707458</td>\n",
       "      <td>1.339725</td>\n",
       "      <td>4.0</td>\n",
       "      <td>0.685977</td>\n",
       "      <td>0</td>\n",
       "      <td>0</td>\n",
       "      <td>0</td>\n",
       "      <td>0</td>\n",
       "      <td>...</td>\n",
       "      <td>0</td>\n",
       "      <td>0</td>\n",
       "      <td>0</td>\n",
       "      <td>0</td>\n",
       "      <td>0</td>\n",
       "      <td>0</td>\n",
       "      <td>0</td>\n",
       "      <td>0</td>\n",
       "      <td>0.0</td>\n",
       "      <td>0.0</td>\n",
       "    </tr>\n",
       "  </tbody>\n",
       "</table>\n",
       "<p>5 rows × 28 columns</p>\n",
       "</div>"
      ],
      "text/plain": [
       "   Customer_ID  luxury_sales  fresh_sales  dry_sales  cluster_catgeory  \\\n",
       "0   10493832.0     -0.709486    -1.101358   0.180588               4.0   \n",
       "1   10178643.0     -0.330495    -1.010172   0.390336               1.0   \n",
       "2   10513916.0      0.365458    -0.883937   1.313776               4.0   \n",
       "3   10334589.0      0.351574    -0.806384   1.297421               4.0   \n",
       "4   10458365.0      0.421841    -0.707458   1.339725               4.0   \n",
       "\n",
       "   total_sales  outlet_city_batticaloa  outlet_city_colombo  \\\n",
       "0    -0.982394                       0                    0   \n",
       "1    -0.617593                       0                    0   \n",
       "2     0.494785                       0                    0   \n",
       "3     0.544022                       0                    0   \n",
       "4     0.685977                       0                    0   \n",
       "\n",
       "   outlet_city_dehiwala-mount lavinia  outlet_city_galle  ...  \\\n",
       "0                                   0                  0  ...   \n",
       "1                                   0                  0  ...   \n",
       "2                                   0                  0  ...   \n",
       "3                                   0                  0  ...   \n",
       "4                                   0                  0  ...   \n",
       "\n",
       "   outlet_city_kotte  outlet_city_moratuwa  outlet_city_negombo  \\\n",
       "0                  0                     0                    0   \n",
       "1                  0                     1                    0   \n",
       "2                  0                     0                    0   \n",
       "3                  0                     0                    0   \n",
       "4                  0                     0                    0   \n",
       "\n",
       "   outlet_city_nuwara eliya  outlet_city_panadura  outlet_city_peliyagoda  \\\n",
       "0                         0                     0                       0   \n",
       "1                         0                     0                       0   \n",
       "2                         0                     0                       0   \n",
       "3                         0                     0                       0   \n",
       "4                         0                     0                       0   \n",
       "\n",
       "   outlet_city_trincomalee  outlet_city_wattala  outlet_city_anuradhapura  \\\n",
       "0                        0                    0                       0.0   \n",
       "1                        0                    0                       0.0   \n",
       "2                        0                    1                       0.0   \n",
       "3                        0                    1                       0.0   \n",
       "4                        0                    0                       0.0   \n",
       "\n",
       "   outlet_city_madawachiya  \n",
       "0                      0.0  \n",
       "1                      0.0  \n",
       "2                      0.0  \n",
       "3                      0.0  \n",
       "4                      0.0  \n",
       "\n",
       "[5 rows x 28 columns]"
      ]
     },
     "execution_count": 81,
     "metadata": {},
     "output_type": "execute_result"
    }
   ],
   "source": [
    "df_Train.head()"
   ]
  },
  {
   "cell_type": "code",
   "execution_count": 82,
   "id": "2c29a182",
   "metadata": {},
   "outputs": [
    {
     "data": {
      "text/plain": [
       "(774032, 28)"
      ]
     },
     "execution_count": 82,
     "metadata": {},
     "output_type": "execute_result"
    }
   ],
   "source": [
    "df_Train.shape"
   ]
  },
  {
   "cell_type": "code",
   "execution_count": 83,
   "id": "cae1a0e5",
   "metadata": {},
   "outputs": [
    {
     "data": {
      "text/plain": [
       "(40749, 28)"
      ]
     },
     "execution_count": 83,
     "metadata": {},
     "output_type": "execute_result"
    }
   ],
   "source": [
    "df_Test.shape"
   ]
  },
  {
   "cell_type": "code",
   "execution_count": 84,
   "id": "b0fe4836",
   "metadata": {},
   "outputs": [
    {
     "name": "stderr",
     "output_type": "stream",
     "text": [
      "c:\\Program Files\\Python37\\lib\\site-packages\\pandas\\core\\frame.py:4913: SettingWithCopyWarning: \n",
      "A value is trying to be set on a copy of a slice from a DataFrame\n",
      "\n",
      "See the caveats in the documentation: https://pandas.pydata.org/pandas-docs/stable/user_guide/indexing.html#returning-a-view-versus-a-copy\n",
      "  errors=errors,\n"
     ]
    }
   ],
   "source": [
    "df_Test.drop(['cluster_catgeory'],axis=1,inplace=True)"
   ]
  },
  {
   "cell_type": "code",
   "execution_count": 85,
   "id": "fc48fa31",
   "metadata": {},
   "outputs": [],
   "source": [
    "X_train=df_Train.drop(['Customer_ID',  'cluster_catgeory'],axis=1)\n",
    "y_train=df_Train['cluster_catgeory']"
   ]
  },
  {
   "cell_type": "markdown",
   "id": "dec2e844-f80d-4e04-969b-89102f523ef1",
   "metadata": {},
   "source": [
    "## Fitting Model"
   ]
  },
  {
   "cell_type": "code",
   "execution_count": 86,
   "id": "c4d59e65",
   "metadata": {},
   "outputs": [],
   "source": [
    "# Import libraries for model testing\n",
    "from sklearn.model_selection import train_test_split\n",
    "from sklearn.metrics import confusion_matrix\n",
    "from sklearn.metrics import accuracy_score\n",
    "from sklearn.metrics import accuracy_score, precision_score, recall_score, f1_score"
   ]
  },
  {
   "cell_type": "code",
   "execution_count": 87,
   "id": "97fa016b",
   "metadata": {},
   "outputs": [],
   "source": [
    "from sklearn.svm import SVC\n",
    "from sklearn.neighbors import KNeighborsClassifier\n",
    "from sklearn.ensemble import RandomForestClassifier, GradientBoostingClassifier\n",
    "from sklearn.naive_bayes import GaussianNB  # Import Gaussian Naive Bayes classifier\n",
    "\n",
    "# Import CatBoost, LightGBM, and XGBoost classifiers\n",
    "#from lightgbm import LGBMClassifier\n",
    "#from xgboost import XGBClassifier\n",
    "# Define the dictionary of classifiers\n",
    "#models = {\n",
    "    #SVC(kernel='linear', random_state=0): 'Support Vector Classifier',\n",
    "    #KNeighborsClassifier(n_neighbors=5, weights='distance', algorithm='auto', leaf_size=30, p=2, metric='minkowski'): 'K Nearest Neighbors Classifier',\n",
    "    #RandomForestClassifier(n_estimators=200, max_depth=10, min_samples_split=10, min_samples_leaf=5, max_features='sqrt'): 'Random Forest Classifier',\n",
    "    #GradientBoostingClassifier(n_estimators=100, random_state=0): 'Gradient Boosting Classifier',\n",
    "#}"
   ]
  },
  {
   "cell_type": "code",
   "execution_count": 88,
   "id": "58fedb05",
   "metadata": {},
   "outputs": [],
   "source": [
    "#from sklearn.metrics import accuracy_score, precision_score, recall_score, f1_score\n",
    "\n",
    "#def compare_models_train():\n",
    "    #for model in models:  # Iterate over each model in the models dictionary\n",
    "        #model.fit(x_train, y_train)  # Train the model\n",
    "        #train_data_prediction = model.predict(x_train)  # Predict using the trained model\n",
    "        \n",
    "        # Calculate evaluation metrics\n",
    "        #accuracy = accuracy_score(train_data_prediction, y_train)\n",
    "        #precision = precision_score(train_data_prediction, y_train, average='weighted')\n",
    "        #recall = recall_score(train_data_prediction, y_train, average='weighted')\n",
    "        #f1 = f1_score(train_data_prediction,y_train, average='weighted')\n",
    "        \n",
    "        # Print evaluation metrics\n",
    "        #print(models[model], 'metrics:')\n",
    "        #print('Accuracy:', accuracy)\n",
    "        #print('Precision:', precision)\n",
    "        #print('Recall:', recall)\n",
    "        #print('F1 Score:', f1)"
   ]
  },
  {
   "cell_type": "code",
   "execution_count": 89,
   "id": "664cf222",
   "metadata": {},
   "outputs": [],
   "source": [
    "#compare_models_train()"
   ]
  },
  {
   "cell_type": "code",
   "execution_count": 90,
   "id": "3cfc5a94",
   "metadata": {},
   "outputs": [],
   "source": [
    "#def compare_models_train_test():\n",
    "    #for model in models:  # Iterate over each model in the models dictionary\n",
    "        #model.fit(x_train, y_train)  # Train the model\n",
    "        #test_data_prediction = model.predict(x_test)  # Predict using the trained model\n",
    "        \n",
    "        # Calculate evaluation metrics\n",
    "        #accuracy = accuracy_score(test_data_prediction, y_test)\n",
    "        #precision = precision_score(test_data_prediction, y_test, average='weighted')\n",
    "        #recall = recall_score(test_data_prediction, y_test, average='weighted')\n",
    "        #f1 = f1_score(test_data_prediction, y_test, average='weighted')\n",
    "        \n",
    "        # Print evaluation metrics\n",
    "        #print(models[model], 'metrics:')\n",
    "        #print('Accuracy:', accuracy)\n",
    "        #print('Precision:', precision)\n",
    "        #print('Recall:', recall)\n",
    "        #print('F1 Score:', f1)"
   ]
  },
  {
   "cell_type": "code",
   "execution_count": 91,
   "id": "9b7feddb",
   "metadata": {},
   "outputs": [],
   "source": [
    "#compare_models_train_test() "
   ]
  },
  {
   "cell_type": "code",
   "execution_count": 92,
   "id": "712ce212",
   "metadata": {},
   "outputs": [
    {
     "data": {
      "text/plain": [
       "KNeighborsClassifier(weights='distance')"
      ]
     },
     "execution_count": 92,
     "metadata": {},
     "output_type": "execute_result"
    }
   ],
   "source": [
    "from sklearn.neighbors import KNeighborsClassifier\n",
    "rf_model = KNeighborsClassifier(n_neighbors=5, weights='distance', algorithm='auto', leaf_size=30, p=2, metric='minkowski')\n",
    "# Train the model\n",
    "rf_model.fit(X_train, y_train)"
   ]
  },
  {
   "cell_type": "code",
   "execution_count": 93,
   "id": "56065b95",
   "metadata": {},
   "outputs": [],
   "source": [
    "#from sklearn.ensemble import RandomForestClassifier\n",
    "# Initialize the Random Forest model\n",
    "#rf_model = RandomForestClassifier(n_estimators=200, max_depth=10, min_samples_split=10, min_samples_leaf=5, max_features='sqrt')\n",
    "\n",
    "# Train the model\n",
    "#rf_model.fit(X_train, y_train)"
   ]
  },
  {
   "cell_type": "markdown",
   "id": "574517ef-60b2-471b-994e-2de1a601c886",
   "metadata": {},
   "source": [
    "## Testing Model"
   ]
  },
  {
   "cell_type": "code",
   "execution_count": 94,
   "id": "16e95831",
   "metadata": {},
   "outputs": [
    {
     "name": "stderr",
     "output_type": "stream",
     "text": [
      "c:\\Program Files\\Python37\\lib\\site-packages\\pandas\\core\\frame.py:5182: SettingWithCopyWarning: \n",
      "A value is trying to be set on a copy of a slice from a DataFrame\n",
      "\n",
      "See the caveats in the documentation: https://pandas.pydata.org/pandas-docs/stable/user_guide/indexing.html#returning-a-view-versus-a-copy\n",
      "  downcast=downcast,\n"
     ]
    }
   ],
   "source": [
    "df_Test.fillna(0, inplace=True)"
   ]
  },
  {
   "cell_type": "code",
   "execution_count": 95,
   "id": "2fa09277",
   "metadata": {},
   "outputs": [],
   "source": [
    "X_test = df_Test.drop(['Customer_ID'], axis=1)"
   ]
  },
  {
   "cell_type": "code",
   "execution_count": 96,
   "id": "26a4e3e1",
   "metadata": {},
   "outputs": [
    {
     "data": {
      "text/html": [
       "<div>\n",
       "<style scoped>\n",
       "    .dataframe tbody tr th:only-of-type {\n",
       "        vertical-align: middle;\n",
       "    }\n",
       "\n",
       "    .dataframe tbody tr th {\n",
       "        vertical-align: top;\n",
       "    }\n",
       "\n",
       "    .dataframe thead th {\n",
       "        text-align: right;\n",
       "    }\n",
       "</style>\n",
       "<table border=\"1\" class=\"dataframe\">\n",
       "  <thead>\n",
       "    <tr style=\"text-align: right;\">\n",
       "      <th></th>\n",
       "      <th>luxury_sales</th>\n",
       "      <th>fresh_sales</th>\n",
       "      <th>dry_sales</th>\n",
       "      <th>total_sales</th>\n",
       "      <th>outlet_city_batticaloa</th>\n",
       "      <th>outlet_city_colombo</th>\n",
       "      <th>outlet_city_dehiwala-mount lavinia</th>\n",
       "      <th>outlet_city_galle</th>\n",
       "      <th>outlet_city_gampaha</th>\n",
       "      <th>outlet_city_homagama</th>\n",
       "      <th>...</th>\n",
       "      <th>outlet_city_kotte</th>\n",
       "      <th>outlet_city_moratuwa</th>\n",
       "      <th>outlet_city_negombo</th>\n",
       "      <th>outlet_city_nuwara eliya</th>\n",
       "      <th>outlet_city_panadura</th>\n",
       "      <th>outlet_city_peliyagoda</th>\n",
       "      <th>outlet_city_trincomalee</th>\n",
       "      <th>outlet_city_wattala</th>\n",
       "      <th>outlet_city_anuradhapura</th>\n",
       "      <th>outlet_city_madawachiya</th>\n",
       "    </tr>\n",
       "  </thead>\n",
       "  <tbody>\n",
       "    <tr>\n",
       "      <th>0</th>\n",
       "      <td>0.756569</td>\n",
       "      <td>-0.257052</td>\n",
       "      <td>2.300097</td>\n",
       "      <td>2.020720</td>\n",
       "      <td>1</td>\n",
       "      <td>0</td>\n",
       "      <td>0</td>\n",
       "      <td>0</td>\n",
       "      <td>0</td>\n",
       "      <td>0</td>\n",
       "      <td>...</td>\n",
       "      <td>0</td>\n",
       "      <td>0</td>\n",
       "      <td>0</td>\n",
       "      <td>0</td>\n",
       "      <td>0</td>\n",
       "      <td>0</td>\n",
       "      <td>0</td>\n",
       "      <td>0</td>\n",
       "      <td>0.0</td>\n",
       "      <td>0.0</td>\n",
       "    </tr>\n",
       "    <tr>\n",
       "      <th>1</th>\n",
       "      <td>-0.208718</td>\n",
       "      <td>-0.557303</td>\n",
       "      <td>1.394065</td>\n",
       "      <td>0.699045</td>\n",
       "      <td>1</td>\n",
       "      <td>0</td>\n",
       "      <td>0</td>\n",
       "      <td>0</td>\n",
       "      <td>0</td>\n",
       "      <td>0</td>\n",
       "      <td>...</td>\n",
       "      <td>0</td>\n",
       "      <td>0</td>\n",
       "      <td>0</td>\n",
       "      <td>0</td>\n",
       "      <td>0</td>\n",
       "      <td>0</td>\n",
       "      <td>0</td>\n",
       "      <td>0</td>\n",
       "      <td>0.0</td>\n",
       "      <td>0.0</td>\n",
       "    </tr>\n",
       "    <tr>\n",
       "      <th>2</th>\n",
       "      <td>-1.068982</td>\n",
       "      <td>-0.955614</td>\n",
       "      <td>0.149628</td>\n",
       "      <td>-0.982024</td>\n",
       "      <td>1</td>\n",
       "      <td>0</td>\n",
       "      <td>0</td>\n",
       "      <td>0</td>\n",
       "      <td>0</td>\n",
       "      <td>0</td>\n",
       "      <td>...</td>\n",
       "      <td>0</td>\n",
       "      <td>0</td>\n",
       "      <td>0</td>\n",
       "      <td>0</td>\n",
       "      <td>0</td>\n",
       "      <td>0</td>\n",
       "      <td>0</td>\n",
       "      <td>0</td>\n",
       "      <td>0.0</td>\n",
       "      <td>0.0</td>\n",
       "    </tr>\n",
       "    <tr>\n",
       "      <th>3</th>\n",
       "      <td>-0.287859</td>\n",
       "      <td>-0.633636</td>\n",
       "      <td>1.346014</td>\n",
       "      <td>0.568833</td>\n",
       "      <td>1</td>\n",
       "      <td>0</td>\n",
       "      <td>0</td>\n",
       "      <td>0</td>\n",
       "      <td>0</td>\n",
       "      <td>0</td>\n",
       "      <td>...</td>\n",
       "      <td>0</td>\n",
       "      <td>0</td>\n",
       "      <td>0</td>\n",
       "      <td>0</td>\n",
       "      <td>0</td>\n",
       "      <td>0</td>\n",
       "      <td>0</td>\n",
       "      <td>0</td>\n",
       "      <td>0.0</td>\n",
       "      <td>0.0</td>\n",
       "    </tr>\n",
       "    <tr>\n",
       "      <th>4</th>\n",
       "      <td>-0.884630</td>\n",
       "      <td>-0.873082</td>\n",
       "      <td>0.218043</td>\n",
       "      <td>-0.800712</td>\n",
       "      <td>1</td>\n",
       "      <td>0</td>\n",
       "      <td>0</td>\n",
       "      <td>0</td>\n",
       "      <td>0</td>\n",
       "      <td>0</td>\n",
       "      <td>...</td>\n",
       "      <td>0</td>\n",
       "      <td>0</td>\n",
       "      <td>0</td>\n",
       "      <td>0</td>\n",
       "      <td>0</td>\n",
       "      <td>0</td>\n",
       "      <td>0</td>\n",
       "      <td>0</td>\n",
       "      <td>0.0</td>\n",
       "      <td>0.0</td>\n",
       "    </tr>\n",
       "  </tbody>\n",
       "</table>\n",
       "<p>5 rows × 26 columns</p>\n",
       "</div>"
      ],
      "text/plain": [
       "   luxury_sales  fresh_sales  dry_sales  total_sales  outlet_city_batticaloa  \\\n",
       "0      0.756569    -0.257052   2.300097     2.020720                       1   \n",
       "1     -0.208718    -0.557303   1.394065     0.699045                       1   \n",
       "2     -1.068982    -0.955614   0.149628    -0.982024                       1   \n",
       "3     -0.287859    -0.633636   1.346014     0.568833                       1   \n",
       "4     -0.884630    -0.873082   0.218043    -0.800712                       1   \n",
       "\n",
       "   outlet_city_colombo  outlet_city_dehiwala-mount lavinia  outlet_city_galle  \\\n",
       "0                    0                                   0                  0   \n",
       "1                    0                                   0                  0   \n",
       "2                    0                                   0                  0   \n",
       "3                    0                                   0                  0   \n",
       "4                    0                                   0                  0   \n",
       "\n",
       "   outlet_city_gampaha  outlet_city_homagama  ...  outlet_city_kotte  \\\n",
       "0                    0                     0  ...                  0   \n",
       "1                    0                     0  ...                  0   \n",
       "2                    0                     0  ...                  0   \n",
       "3                    0                     0  ...                  0   \n",
       "4                    0                     0  ...                  0   \n",
       "\n",
       "   outlet_city_moratuwa  outlet_city_negombo  outlet_city_nuwara eliya  \\\n",
       "0                     0                    0                         0   \n",
       "1                     0                    0                         0   \n",
       "2                     0                    0                         0   \n",
       "3                     0                    0                         0   \n",
       "4                     0                    0                         0   \n",
       "\n",
       "   outlet_city_panadura  outlet_city_peliyagoda  outlet_city_trincomalee  \\\n",
       "0                     0                       0                        0   \n",
       "1                     0                       0                        0   \n",
       "2                     0                       0                        0   \n",
       "3                     0                       0                        0   \n",
       "4                     0                       0                        0   \n",
       "\n",
       "   outlet_city_wattala  outlet_city_anuradhapura  outlet_city_madawachiya  \n",
       "0                    0                       0.0                      0.0  \n",
       "1                    0                       0.0                      0.0  \n",
       "2                    0                       0.0                      0.0  \n",
       "3                    0                       0.0                      0.0  \n",
       "4                    0                       0.0                      0.0  \n",
       "\n",
       "[5 rows x 26 columns]"
      ]
     },
     "execution_count": 96,
     "metadata": {},
     "output_type": "execute_result"
    }
   ],
   "source": [
    "X_test.head()"
   ]
  },
  {
   "cell_type": "code",
   "execution_count": 97,
   "id": "7aa9826d",
   "metadata": {},
   "outputs": [],
   "source": [
    "y_pred = rf_model.predict(X_test)"
   ]
  },
  {
   "cell_type": "code",
   "execution_count": 98,
   "id": "5af4f317",
   "metadata": {},
   "outputs": [
    {
     "data": {
      "text/plain": [
       "array([1., 1., 1., ..., 5., 5., 5.])"
      ]
     },
     "execution_count": 98,
     "metadata": {},
     "output_type": "execute_result"
    }
   ],
   "source": [
    "y_pred"
   ]
  },
  {
   "cell_type": "markdown",
   "id": "93122fe9-400e-4f25-8ea3-aad0b28f24e8",
   "metadata": {},
   "source": [
    "## Prediction Results"
   ]
  },
  {
   "cell_type": "code",
   "execution_count": 100,
   "id": "bbb67701",
   "metadata": {},
   "outputs": [],
   "source": [
    "# Create a DataFrame for the submission\n",
    "submission = pd.DataFrame({\n",
    "    'Customer_ID': df_Test['Customer_ID'],\n",
    "    'cluster_catgeory': y_pred\n",
    "})\n",
    "\n",
    "# Save the submission to an Excel file\n",
    "submission.to_csv('preds.csv', index=False)"
   ]
  },
  {
   "cell_type": "markdown",
   "id": "74aadc14-ab0e-4f2b-a65d-56ac678955a8",
   "metadata": {},
   "source": [
    "## Model Output"
   ]
  },
  {
   "cell_type": "code",
   "execution_count": 101,
   "id": "3b452639",
   "metadata": {},
   "outputs": [],
   "source": [
    "import pickle"
   ]
  },
  {
   "cell_type": "code",
   "execution_count": 102,
   "id": "28c287e5",
   "metadata": {},
   "outputs": [],
   "source": [
    "# Save the model to a file using pickle\n",
    "with open('knn_model.pkl', 'wb') as file:\n",
    "    pickle.dump(rf_model, file)"
   ]
  }
 ],
 "metadata": {
  "kernelspec": {
   "display_name": "Python 3 (ipykernel)",
   "language": "python",
   "name": "python3"
  },
  "language_info": {
   "codemirror_mode": {
    "name": "ipython",
    "version": 3
   },
   "file_extension": ".py",
   "mimetype": "text/x-python",
   "name": "python",
   "nbconvert_exporter": "python",
   "pygments_lexer": "ipython3",
   "version": "3.11.5"
  }
 },
 "nbformat": 4,
 "nbformat_minor": 5
}
