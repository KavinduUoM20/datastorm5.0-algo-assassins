{
 "cells": [
  {
   "cell_type": "markdown",
   "id": "f2986fae-e4d7-43c7-ae58-8136df39f292",
   "metadata": {},
   "source": [
    "# Notebook 2 - Pre-Processing Testing Set"
   ]
  },
  {
   "cell_type": "markdown",
   "id": "16228d13-521d-4a22-bcfa-565f6499d0a2",
   "metadata": {},
   "source": [
    "In the Notebook-1, we selected KNC Algorithm for building the model. In this Notebook-2, we have pre-processed the testing dataset to help future work."
   ]
  },
  {
   "cell_type": "markdown",
   "id": "ff9a77e8-3a43-49dd-9874-c4b683893228",
   "metadata": {},
   "source": [
    "## Import Dependancies"
   ]
  },
  {
   "cell_type": "code",
   "execution_count": 3,
   "id": "4cdacbdd",
   "metadata": {},
   "outputs": [],
   "source": [
    "import pandas as pd\n",
    "import numpy as np\n",
    "import seaborn as sns\n",
    "import matplotlib.pyplot as plt"
   ]
  },
  {
   "cell_type": "code",
   "execution_count": 4,
   "id": "2b925a1a",
   "metadata": {},
   "outputs": [],
   "source": [
    "df = pd.read_csv('./data/test_kaggle.csv')"
   ]
  },
  {
   "cell_type": "code",
   "execution_count": 5,
   "id": "23699888",
   "metadata": {},
   "outputs": [
    {
     "data": {
      "text/html": [
       "<div>\n",
       "<style scoped>\n",
       "    .dataframe tbody tr th:only-of-type {\n",
       "        vertical-align: middle;\n",
       "    }\n",
       "\n",
       "    .dataframe tbody tr th {\n",
       "        vertical-align: top;\n",
       "    }\n",
       "\n",
       "    .dataframe thead th {\n",
       "        text-align: right;\n",
       "    }\n",
       "</style>\n",
       "<table border=\"1\" class=\"dataframe\">\n",
       "  <thead>\n",
       "    <tr style=\"text-align: right;\">\n",
       "      <th></th>\n",
       "      <th>Customer_ID</th>\n",
       "      <th>outlet_city</th>\n",
       "      <th>luxury_sales</th>\n",
       "      <th>fresh_sales</th>\n",
       "      <th>dry_sales</th>\n",
       "    </tr>\n",
       "  </thead>\n",
       "  <tbody>\n",
       "    <tr>\n",
       "      <th>0</th>\n",
       "      <td>33574</td>\n",
       "      <td>batticaloa</td>\n",
       "      <td>2686.5</td>\n",
       "      <td>3582</td>\n",
       "      <td>12537</td>\n",
       "    </tr>\n",
       "    <tr>\n",
       "      <th>1</th>\n",
       "      <td>10089</td>\n",
       "      <td>batticaloa</td>\n",
       "      <td>1717.56</td>\n",
       "      <td>2576.34</td>\n",
       "      <td>9446.58</td>\n",
       "    </tr>\n",
       "    <tr>\n",
       "      <th>2</th>\n",
       "      <td>38329</td>\n",
       "      <td>batticaloa</td>\n",
       "      <td>854.04</td>\n",
       "      <td>1242.24</td>\n",
       "      <td>5201.88</td>\n",
       "    </tr>\n",
       "    <tr>\n",
       "      <th>3</th>\n",
       "      <td>11376</td>\n",
       "      <td>batticaloa</td>\n",
       "      <td>1638.12</td>\n",
       "      <td>2320.67</td>\n",
       "      <td>9282.68</td>\n",
       "    </tr>\n",
       "    <tr>\n",
       "      <th>4</th>\n",
       "      <td>12410</td>\n",
       "      <td>batticaloa</td>\n",
       "      <td>1039.09</td>\n",
       "      <td>1518.67</td>\n",
       "      <td>5435.24</td>\n",
       "    </tr>\n",
       "  </tbody>\n",
       "</table>\n",
       "</div>"
      ],
      "text/plain": [
       "   Customer_ID outlet_city luxury_sales fresh_sales dry_sales\n",
       "0        33574  batticaloa       2686.5        3582     12537\n",
       "1        10089  batticaloa      1717.56     2576.34   9446.58\n",
       "2        38329  batticaloa       854.04     1242.24   5201.88\n",
       "3        11376  batticaloa      1638.12     2320.67   9282.68\n",
       "4        12410  batticaloa      1039.09     1518.67   5435.24"
      ]
     },
     "execution_count": 5,
     "metadata": {},
     "output_type": "execute_result"
    }
   ],
   "source": [
    "df.head()"
   ]
  },
  {
   "cell_type": "markdown",
   "id": "20fffdeb-538c-4387-81e7-ba81cec6e692",
   "metadata": {},
   "source": [
    "## Data Pre-processing"
   ]
  },
  {
   "cell_type": "code",
   "execution_count": 6,
   "id": "e4dec5ee",
   "metadata": {},
   "outputs": [
    {
     "name": "stdout",
     "output_type": "stream",
     "text": [
      "Cell at row 6, column 'luxury_sales' contains words: 'Seven Hundread and sixty Ruppees'\n",
      "Cell at row 6299, column 'luxury_sales' contains words: 'Eight Hundread and fifteen ruppes'\n",
      "Cell at row 13949, column 'fresh_sales' contains words: 'Nine thousand ruppess'\n",
      "Cell at row 40746, column 'dry_sales' contains words: 'Three Thousand seven hundread ruppees'\n",
      "\n",
      "After transformation:\n",
      "        Customer_ID   outlet_city luxury_sales fresh_sales dry_sales\n",
      "6            10364    batticaloa          760       914.4    3352.8\n",
      "6299          4059  Anuradhapura          815     1548.69    5705.7\n",
      "13949        28662        Jaffna      2195.84        9000   1509.64\n",
      "40746        28664       Wattala       3838.6      3951.5      3700\n"
     ]
    }
   ],
   "source": [
    "from spellchecker import SpellChecker\n",
    "\n",
    "# Initialize the spell checker\n",
    "spell = SpellChecker()\n",
    "\n",
    "import re\n",
    "from word2number import w2n\n",
    "\n",
    "# Function to check if a value contains words\n",
    "def contains_words(s):\n",
    "    if isinstance(s, str):\n",
    "        return bool(re.search('[a-zA-Z]', s))\n",
    "    return False\n",
    "\n",
    "# Find all cells with words and print their locations\n",
    "for col in ['luxury_sales','fresh_sales','dry_sales']:\n",
    "    for idx, value in df[col].items():\n",
    "        if contains_words(value):\n",
    "            print(f\"Cell at row {idx}, column '{col}' contains words: '{value}'\")\n",
    "\n",
    "# Function to correct spelling errors\n",
    "def correct_spelling(text):\n",
    "    corrected_words = [spell.correction(word) for word in text.split()]\n",
    "    return ' '.join(corrected_words)\n",
    "\n",
    "# Function to convert worded numbers to numerical values\n",
    "def convert_words_to_numbers(s):\n",
    "    try:\n",
    "        return w2n.word_to_num(s)\n",
    "    except ValueError:\n",
    "        return s\n",
    "        \n",
    "# Columns to be checked and converted\n",
    "columns_to_convert = ['luxury_sales', 'fresh_sales', 'dry_sales']\n",
    "\n",
    "# Apply the correction and conversion function to the specified columns\n",
    "for col in columns_to_convert:\n",
    "    df[col] = df[col].apply(lambda x: convert_words_to_numbers(correct_spelling(x)) if isinstance(x, str) else x)\n",
    "\n",
    "# Print specific rows after transformation\n",
    "specific_rows_after = df.loc[[6, 6299, 13949, 40746]]\n",
    "print(\"\\nAfter transformation:\\n\", specific_rows_after)"
   ]
  },
  {
   "cell_type": "code",
   "execution_count": 7,
   "id": "d3bc32e5",
   "metadata": {},
   "outputs": [],
   "source": [
    "df['luxury_sales'] = df['luxury_sales'].replace('Thousand tow hundread ', 1200)"
   ]
  },
  {
   "cell_type": "code",
   "execution_count": 8,
   "id": "18b71505",
   "metadata": {},
   "outputs": [
    {
     "data": {
      "text/plain": [
       "outlet_city\n",
       "Jaffna                    2226\n",
       "Gampaha                   2198\n",
       "Katunayake                2157\n",
       "Negombo                   2129\n",
       "Kandy                     2101\n",
       "Colombo                   2092\n",
       "Dehiwala-Mount Lavinia    1981\n",
       "Nuwara Eliya              1963\n",
       "Kaduwela                  1943\n",
       "Wattala                   1938\n",
       "Kelaniya                  1934\n",
       "Homagama                  1930\n",
       "Peliyagoda                1839\n",
       "Trincomale                1814\n",
       "Panadura                  1810\n",
       "Batticaloa                1671\n",
       "Anuradhapura              1645\n",
       "Kalmunai                  1634\n",
       "Moratuwa                  1563\n",
       "Madawachiya               1499\n",
       "kalmunai                   599\n",
       "Galle                      456\n",
       "batticaloa                 448\n",
       "Kotte                      379\n",
       "MoraTuwa                   340\n",
       "Trincomalee                258\n",
       "PeliyagodA                 202\n",
       "Name: count, dtype: int64"
      ]
     },
     "execution_count": 8,
     "metadata": {},
     "output_type": "execute_result"
    }
   ],
   "source": [
    "df[\"outlet_city\"].value_counts()"
   ]
  },
  {
   "cell_type": "code",
   "execution_count": 9,
   "id": "c37cd031",
   "metadata": {},
   "outputs": [
    {
     "data": {
      "text/plain": [
       "27"
      ]
     },
     "execution_count": 9,
     "metadata": {},
     "output_type": "execute_result"
    }
   ],
   "source": [
    "df[\"outlet_city\"].nunique()"
   ]
  },
  {
   "cell_type": "code",
   "execution_count": 10,
   "id": "805a5a72",
   "metadata": {},
   "outputs": [],
   "source": [
    "# Convert values in the \"outlet_city\" column to lowercase\n",
    "df[\"outlet_city\"] = df[\"outlet_city\"].str.lower()"
   ]
  },
  {
   "cell_type": "code",
   "execution_count": 11,
   "id": "ba0b3bb1",
   "metadata": {},
   "outputs": [
    {
     "data": {
      "text/plain": [
       "23"
      ]
     },
     "execution_count": 11,
     "metadata": {},
     "output_type": "execute_result"
    }
   ],
   "source": [
    "df[\"outlet_city\"].nunique()"
   ]
  },
  {
   "cell_type": "code",
   "execution_count": 12,
   "id": "3a2ebbc5",
   "metadata": {},
   "outputs": [],
   "source": [
    "df['outlet_city'] = df['outlet_city'].replace('trincomale', 'trincomalee')"
   ]
  },
  {
   "cell_type": "code",
   "execution_count": 13,
   "id": "b6ca3b9b",
   "metadata": {},
   "outputs": [
    {
     "data": {
      "text/plain": [
       "22"
      ]
     },
     "execution_count": 13,
     "metadata": {},
     "output_type": "execute_result"
    }
   ],
   "source": [
    "df[\"outlet_city\"].nunique()"
   ]
  },
  {
   "cell_type": "code",
   "execution_count": 14,
   "id": "9d738aa9",
   "metadata": {},
   "outputs": [
    {
     "data": {
      "text/plain": [
       "outlet_city\n",
       "kalmunai                  2233\n",
       "jaffna                    2226\n",
       "gampaha                   2198\n",
       "katunayake                2157\n",
       "negombo                   2129\n",
       "batticaloa                2119\n",
       "kandy                     2101\n",
       "colombo                   2092\n",
       "trincomalee               2072\n",
       "peliyagoda                2041\n",
       "dehiwala-mount lavinia    1981\n",
       "nuwara eliya              1963\n",
       "kaduwela                  1943\n",
       "wattala                   1938\n",
       "kelaniya                  1934\n",
       "homagama                  1930\n",
       "moratuwa                  1903\n",
       "panadura                  1810\n",
       "anuradhapura              1645\n",
       "madawachiya               1499\n",
       "galle                      456\n",
       "kotte                      379\n",
       "Name: count, dtype: int64"
      ]
     },
     "execution_count": 14,
     "metadata": {},
     "output_type": "execute_result"
    }
   ],
   "source": [
    "df[\"outlet_city\"].value_counts()"
   ]
  },
  {
   "cell_type": "code",
   "execution_count": 15,
   "id": "c5326c6a",
   "metadata": {},
   "outputs": [
    {
     "name": "stdout",
     "output_type": "stream",
     "text": [
      "<class 'pandas.core.frame.DataFrame'>\n",
      "RangeIndex: 40749 entries, 0 to 40748\n",
      "Data columns (total 5 columns):\n",
      " #   Column        Non-Null Count  Dtype \n",
      "---  ------        --------------  ----- \n",
      " 0   Customer_ID   40749 non-null  int64 \n",
      " 1   outlet_city   40749 non-null  object\n",
      " 2   luxury_sales  40749 non-null  object\n",
      " 3   fresh_sales   40749 non-null  object\n",
      " 4   dry_sales     40749 non-null  object\n",
      "dtypes: int64(1), object(4)\n",
      "memory usage: 1.6+ MB\n"
     ]
    }
   ],
   "source": [
    "df.info()"
   ]
  },
  {
   "cell_type": "code",
   "execution_count": 16,
   "id": "fcf44676",
   "metadata": {},
   "outputs": [],
   "source": [
    "df['luxury_sales'] = df['luxury_sales'].astype(float)\n",
    "df['fresh_sales'] = df['fresh_sales'].astype(float)\n",
    "df['dry_sales'] = df['dry_sales'].astype(float)"
   ]
  },
  {
   "cell_type": "code",
   "execution_count": 17,
   "id": "32d8af36",
   "metadata": {},
   "outputs": [
    {
     "name": "stdout",
     "output_type": "stream",
     "text": [
      "<class 'pandas.core.frame.DataFrame'>\n",
      "RangeIndex: 40749 entries, 0 to 40748\n",
      "Data columns (total 5 columns):\n",
      " #   Column        Non-Null Count  Dtype  \n",
      "---  ------        --------------  -----  \n",
      " 0   Customer_ID   40749 non-null  int64  \n",
      " 1   outlet_city   40749 non-null  object \n",
      " 2   luxury_sales  40749 non-null  float64\n",
      " 3   fresh_sales   40749 non-null  float64\n",
      " 4   dry_sales     40749 non-null  float64\n",
      "dtypes: float64(3), int64(1), object(1)\n",
      "memory usage: 1.6+ MB\n"
     ]
    }
   ],
   "source": [
    "df.info()"
   ]
  },
  {
   "cell_type": "code",
   "execution_count": 18,
   "id": "7bca4190",
   "metadata": {},
   "outputs": [],
   "source": [
    "# Add a total sales column\n",
    "df['total_sales'] = df['luxury_sales'] + df['fresh_sales'] + df['dry_sales']"
   ]
  },
  {
   "cell_type": "code",
   "execution_count": 19,
   "id": "d8c71ba5",
   "metadata": {},
   "outputs": [
    {
     "data": {
      "text/html": [
       "<div>\n",
       "<style scoped>\n",
       "    .dataframe tbody tr th:only-of-type {\n",
       "        vertical-align: middle;\n",
       "    }\n",
       "\n",
       "    .dataframe tbody tr th {\n",
       "        vertical-align: top;\n",
       "    }\n",
       "\n",
       "    .dataframe thead th {\n",
       "        text-align: right;\n",
       "    }\n",
       "</style>\n",
       "<table border=\"1\" class=\"dataframe\">\n",
       "  <thead>\n",
       "    <tr style=\"text-align: right;\">\n",
       "      <th></th>\n",
       "      <th>Customer_ID</th>\n",
       "      <th>outlet_city</th>\n",
       "      <th>luxury_sales</th>\n",
       "      <th>fresh_sales</th>\n",
       "      <th>dry_sales</th>\n",
       "      <th>total_sales</th>\n",
       "    </tr>\n",
       "  </thead>\n",
       "  <tbody>\n",
       "    <tr>\n",
       "      <th>0</th>\n",
       "      <td>33574</td>\n",
       "      <td>batticaloa</td>\n",
       "      <td>2686.50</td>\n",
       "      <td>3582.00</td>\n",
       "      <td>12537.00</td>\n",
       "      <td>18805.50</td>\n",
       "    </tr>\n",
       "    <tr>\n",
       "      <th>1</th>\n",
       "      <td>10089</td>\n",
       "      <td>batticaloa</td>\n",
       "      <td>1717.56</td>\n",
       "      <td>2576.34</td>\n",
       "      <td>9446.58</td>\n",
       "      <td>13740.48</td>\n",
       "    </tr>\n",
       "    <tr>\n",
       "      <th>2</th>\n",
       "      <td>38329</td>\n",
       "      <td>batticaloa</td>\n",
       "      <td>854.04</td>\n",
       "      <td>1242.24</td>\n",
       "      <td>5201.88</td>\n",
       "      <td>7298.16</td>\n",
       "    </tr>\n",
       "    <tr>\n",
       "      <th>3</th>\n",
       "      <td>11376</td>\n",
       "      <td>batticaloa</td>\n",
       "      <td>1638.12</td>\n",
       "      <td>2320.67</td>\n",
       "      <td>9282.68</td>\n",
       "      <td>13241.47</td>\n",
       "    </tr>\n",
       "    <tr>\n",
       "      <th>4</th>\n",
       "      <td>12410</td>\n",
       "      <td>batticaloa</td>\n",
       "      <td>1039.09</td>\n",
       "      <td>1518.67</td>\n",
       "      <td>5435.24</td>\n",
       "      <td>7993.00</td>\n",
       "    </tr>\n",
       "  </tbody>\n",
       "</table>\n",
       "</div>"
      ],
      "text/plain": [
       "   Customer_ID outlet_city  luxury_sales  fresh_sales  dry_sales  total_sales\n",
       "0        33574  batticaloa       2686.50      3582.00   12537.00     18805.50\n",
       "1        10089  batticaloa       1717.56      2576.34    9446.58     13740.48\n",
       "2        38329  batticaloa        854.04      1242.24    5201.88      7298.16\n",
       "3        11376  batticaloa       1638.12      2320.67    9282.68     13241.47\n",
       "4        12410  batticaloa       1039.09      1518.67    5435.24      7993.00"
      ]
     },
     "execution_count": 19,
     "metadata": {},
     "output_type": "execute_result"
    }
   ],
   "source": [
    "df.head()"
   ]
  },
  {
   "cell_type": "code",
   "execution_count": 20,
   "id": "7193eefc",
   "metadata": {},
   "outputs": [
    {
     "data": {
      "text/plain": [
       "outlet_city\n",
       "kalmunai                  2233\n",
       "jaffna                    2226\n",
       "gampaha                   2198\n",
       "katunayake                2157\n",
       "negombo                   2129\n",
       "batticaloa                2119\n",
       "kandy                     2101\n",
       "colombo                   2092\n",
       "trincomalee               2072\n",
       "peliyagoda                2041\n",
       "dehiwala-mount lavinia    1981\n",
       "nuwara eliya              1963\n",
       "kaduwela                  1943\n",
       "wattala                   1938\n",
       "kelaniya                  1934\n",
       "homagama                  1930\n",
       "moratuwa                  1903\n",
       "panadura                  1810\n",
       "anuradhapura              1645\n",
       "madawachiya               1499\n",
       "galle                      456\n",
       "kotte                      379\n",
       "Name: count, dtype: int64"
      ]
     },
     "execution_count": 20,
     "metadata": {},
     "output_type": "execute_result"
    }
   ],
   "source": [
    "df[\"outlet_city\"].value_counts()"
   ]
  },
  {
   "cell_type": "code",
   "execution_count": 21,
   "id": "86d93769",
   "metadata": {},
   "outputs": [],
   "source": [
    "# Create a mapping from city to province\n",
    "#common_groups = {'Urban': ['colombo', 'batticaloa', 'galle', 'negombo', 'jaffna', 'katunayake', 'kandy', 'trincomalee', 'gampaha', 'peliyagoda', 'nuwara eliya', 'panadura', 'wattala',  'kalmunai'], \n",
    "                 #'Suburban': ['dehiwala-mount lavinia', 'kotte', 'kaduwela', 'homagama', 'moratuwa', 'kelaniya', 'anuradhapura', 'madawachiya']}\n",
    "\n",
    "#city_to_province = {city: province for province, cities in common_groups.items() for city in cities}\n",
    "\n",
    "# Replace the 'outlet_city' values with the corresponding province names\n",
    "#df['Council'] = df['outlet_city'].map(city_to_province)"
   ]
  },
  {
   "cell_type": "code",
   "execution_count": 22,
   "id": "a2aa525c",
   "metadata": {},
   "outputs": [],
   "source": [
    "#df[\"Council\"].value_counts()"
   ]
  },
  {
   "cell_type": "code",
   "execution_count": 23,
   "id": "bbc08ea2",
   "metadata": {},
   "outputs": [
    {
     "data": {
      "text/html": [
       "<div>\n",
       "<style scoped>\n",
       "    .dataframe tbody tr th:only-of-type {\n",
       "        vertical-align: middle;\n",
       "    }\n",
       "\n",
       "    .dataframe tbody tr th {\n",
       "        vertical-align: top;\n",
       "    }\n",
       "\n",
       "    .dataframe thead th {\n",
       "        text-align: right;\n",
       "    }\n",
       "</style>\n",
       "<table border=\"1\" class=\"dataframe\">\n",
       "  <thead>\n",
       "    <tr style=\"text-align: right;\">\n",
       "      <th></th>\n",
       "      <th>Customer_ID</th>\n",
       "      <th>outlet_city</th>\n",
       "      <th>luxury_sales</th>\n",
       "      <th>fresh_sales</th>\n",
       "      <th>dry_sales</th>\n",
       "      <th>total_sales</th>\n",
       "    </tr>\n",
       "  </thead>\n",
       "  <tbody>\n",
       "    <tr>\n",
       "      <th>0</th>\n",
       "      <td>33574</td>\n",
       "      <td>batticaloa</td>\n",
       "      <td>2686.50</td>\n",
       "      <td>3582.00</td>\n",
       "      <td>12537.00</td>\n",
       "      <td>18805.50</td>\n",
       "    </tr>\n",
       "    <tr>\n",
       "      <th>1</th>\n",
       "      <td>10089</td>\n",
       "      <td>batticaloa</td>\n",
       "      <td>1717.56</td>\n",
       "      <td>2576.34</td>\n",
       "      <td>9446.58</td>\n",
       "      <td>13740.48</td>\n",
       "    </tr>\n",
       "    <tr>\n",
       "      <th>2</th>\n",
       "      <td>38329</td>\n",
       "      <td>batticaloa</td>\n",
       "      <td>854.04</td>\n",
       "      <td>1242.24</td>\n",
       "      <td>5201.88</td>\n",
       "      <td>7298.16</td>\n",
       "    </tr>\n",
       "    <tr>\n",
       "      <th>3</th>\n",
       "      <td>11376</td>\n",
       "      <td>batticaloa</td>\n",
       "      <td>1638.12</td>\n",
       "      <td>2320.67</td>\n",
       "      <td>9282.68</td>\n",
       "      <td>13241.47</td>\n",
       "    </tr>\n",
       "    <tr>\n",
       "      <th>4</th>\n",
       "      <td>12410</td>\n",
       "      <td>batticaloa</td>\n",
       "      <td>1039.09</td>\n",
       "      <td>1518.67</td>\n",
       "      <td>5435.24</td>\n",
       "      <td>7993.00</td>\n",
       "    </tr>\n",
       "  </tbody>\n",
       "</table>\n",
       "</div>"
      ],
      "text/plain": [
       "   Customer_ID outlet_city  luxury_sales  fresh_sales  dry_sales  total_sales\n",
       "0        33574  batticaloa       2686.50      3582.00   12537.00     18805.50\n",
       "1        10089  batticaloa       1717.56      2576.34    9446.58     13740.48\n",
       "2        38329  batticaloa        854.04      1242.24    5201.88      7298.16\n",
       "3        11376  batticaloa       1638.12      2320.67    9282.68     13241.47\n",
       "4        12410  batticaloa       1039.09      1518.67    5435.24      7993.00"
      ]
     },
     "execution_count": 23,
     "metadata": {},
     "output_type": "execute_result"
    }
   ],
   "source": [
    "df.head()"
   ]
  },
  {
   "cell_type": "code",
   "execution_count": 24,
   "id": "04778b6b",
   "metadata": {},
   "outputs": [
    {
     "data": {
      "text/plain": [
       "Customer_ID     0.0\n",
       "outlet_city     0.0\n",
       "luxury_sales    0.0\n",
       "fresh_sales     0.0\n",
       "dry_sales       0.0\n",
       "total_sales     0.0\n",
       "dtype: float64"
      ]
     },
     "execution_count": 24,
     "metadata": {},
     "output_type": "execute_result"
    }
   ],
   "source": [
    "round((df.isnull().sum()/df.shape[0])*100,2) #checking null value %"
   ]
  },
  {
   "cell_type": "code",
   "execution_count": 25,
   "id": "e117215d",
   "metadata": {},
   "outputs": [],
   "source": [
    "#df[\"Council\"].nunique()"
   ]
  },
  {
   "cell_type": "code",
   "execution_count": 26,
   "id": "e3def0f1",
   "metadata": {},
   "outputs": [
    {
     "data": {
      "text/plain": [
       "0"
      ]
     },
     "execution_count": 26,
     "metadata": {},
     "output_type": "execute_result"
    }
   ],
   "source": [
    "df.duplicated().sum()"
   ]
  },
  {
   "cell_type": "code",
   "execution_count": 27,
   "id": "7ee104db",
   "metadata": {},
   "outputs": [
    {
     "name": "stdout",
     "output_type": "stream",
     "text": [
      "<class 'pandas.core.frame.DataFrame'>\n",
      "RangeIndex: 40749 entries, 0 to 40748\n",
      "Data columns (total 6 columns):\n",
      " #   Column        Non-Null Count  Dtype  \n",
      "---  ------        --------------  -----  \n",
      " 0   Customer_ID   40749 non-null  int64  \n",
      " 1   outlet_city   40749 non-null  object \n",
      " 2   luxury_sales  40749 non-null  float64\n",
      " 3   fresh_sales   40749 non-null  float64\n",
      " 4   dry_sales     40749 non-null  float64\n",
      " 5   total_sales   40749 non-null  float64\n",
      "dtypes: float64(4), int64(1), object(1)\n",
      "memory usage: 1.9+ MB\n"
     ]
    }
   ],
   "source": [
    "df.info()"
   ]
  },
  {
   "cell_type": "code",
   "execution_count": 28,
   "id": "cfc7e901",
   "metadata": {},
   "outputs": [
    {
     "data": {
      "text/html": [
       "<div>\n",
       "<style scoped>\n",
       "    .dataframe tbody tr th:only-of-type {\n",
       "        vertical-align: middle;\n",
       "    }\n",
       "\n",
       "    .dataframe tbody tr th {\n",
       "        vertical-align: top;\n",
       "    }\n",
       "\n",
       "    .dataframe thead th {\n",
       "        text-align: right;\n",
       "    }\n",
       "</style>\n",
       "<table border=\"1\" class=\"dataframe\">\n",
       "  <thead>\n",
       "    <tr style=\"text-align: right;\">\n",
       "      <th></th>\n",
       "      <th>Customer_ID</th>\n",
       "      <th>outlet_city</th>\n",
       "      <th>luxury_sales</th>\n",
       "      <th>fresh_sales</th>\n",
       "      <th>dry_sales</th>\n",
       "      <th>total_sales</th>\n",
       "    </tr>\n",
       "  </thead>\n",
       "  <tbody>\n",
       "    <tr>\n",
       "      <th>0</th>\n",
       "      <td>33574</td>\n",
       "      <td>batticaloa</td>\n",
       "      <td>2686.50</td>\n",
       "      <td>3582.00</td>\n",
       "      <td>12537.00</td>\n",
       "      <td>18805.50</td>\n",
       "    </tr>\n",
       "    <tr>\n",
       "      <th>1</th>\n",
       "      <td>10089</td>\n",
       "      <td>batticaloa</td>\n",
       "      <td>1717.56</td>\n",
       "      <td>2576.34</td>\n",
       "      <td>9446.58</td>\n",
       "      <td>13740.48</td>\n",
       "    </tr>\n",
       "    <tr>\n",
       "      <th>2</th>\n",
       "      <td>38329</td>\n",
       "      <td>batticaloa</td>\n",
       "      <td>854.04</td>\n",
       "      <td>1242.24</td>\n",
       "      <td>5201.88</td>\n",
       "      <td>7298.16</td>\n",
       "    </tr>\n",
       "    <tr>\n",
       "      <th>3</th>\n",
       "      <td>11376</td>\n",
       "      <td>batticaloa</td>\n",
       "      <td>1638.12</td>\n",
       "      <td>2320.67</td>\n",
       "      <td>9282.68</td>\n",
       "      <td>13241.47</td>\n",
       "    </tr>\n",
       "    <tr>\n",
       "      <th>4</th>\n",
       "      <td>12410</td>\n",
       "      <td>batticaloa</td>\n",
       "      <td>1039.09</td>\n",
       "      <td>1518.67</td>\n",
       "      <td>5435.24</td>\n",
       "      <td>7993.00</td>\n",
       "    </tr>\n",
       "  </tbody>\n",
       "</table>\n",
       "</div>"
      ],
      "text/plain": [
       "   Customer_ID outlet_city  luxury_sales  fresh_sales  dry_sales  total_sales\n",
       "0        33574  batticaloa       2686.50      3582.00   12537.00     18805.50\n",
       "1        10089  batticaloa       1717.56      2576.34    9446.58     13740.48\n",
       "2        38329  batticaloa        854.04      1242.24    5201.88      7298.16\n",
       "3        11376  batticaloa       1638.12      2320.67    9282.68     13241.47\n",
       "4        12410  batticaloa       1039.09      1518.67    5435.24      7993.00"
      ]
     },
     "execution_count": 28,
     "metadata": {},
     "output_type": "execute_result"
    }
   ],
   "source": [
    "df.head()"
   ]
  },
  {
   "cell_type": "code",
   "execution_count": 29,
   "id": "9c65ae59",
   "metadata": {},
   "outputs": [],
   "source": [
    "from sklearn.preprocessing import StandardScaler\n",
    "\n",
    "# Define the columns you want to scale\n",
    "columns_to_scale = ['luxury_sales', 'fresh_sales', 'dry_sales','total_sales']\n",
    "\n",
    "# Initialize the StandardScaler\n",
    "scaler = StandardScaler()\n",
    "\n",
    "# Fit and transform the scaler on the selected columns\n",
    "df[columns_to_scale] = scaler.fit_transform(df[columns_to_scale])"
   ]
  },
  {
   "cell_type": "code",
   "execution_count": 30,
   "id": "b2b3a681",
   "metadata": {},
   "outputs": [
    {
     "data": {
      "text/html": [
       "<div>\n",
       "<style scoped>\n",
       "    .dataframe tbody tr th:only-of-type {\n",
       "        vertical-align: middle;\n",
       "    }\n",
       "\n",
       "    .dataframe tbody tr th {\n",
       "        vertical-align: top;\n",
       "    }\n",
       "\n",
       "    .dataframe thead th {\n",
       "        text-align: right;\n",
       "    }\n",
       "</style>\n",
       "<table border=\"1\" class=\"dataframe\">\n",
       "  <thead>\n",
       "    <tr style=\"text-align: right;\">\n",
       "      <th></th>\n",
       "      <th>Customer_ID</th>\n",
       "      <th>outlet_city</th>\n",
       "      <th>luxury_sales</th>\n",
       "      <th>fresh_sales</th>\n",
       "      <th>dry_sales</th>\n",
       "      <th>total_sales</th>\n",
       "    </tr>\n",
       "  </thead>\n",
       "  <tbody>\n",
       "    <tr>\n",
       "      <th>0</th>\n",
       "      <td>33574</td>\n",
       "      <td>batticaloa</td>\n",
       "      <td>0.756569</td>\n",
       "      <td>-0.257052</td>\n",
       "      <td>2.300097</td>\n",
       "      <td>2.020720</td>\n",
       "    </tr>\n",
       "    <tr>\n",
       "      <th>1</th>\n",
       "      <td>10089</td>\n",
       "      <td>batticaloa</td>\n",
       "      <td>-0.208718</td>\n",
       "      <td>-0.557303</td>\n",
       "      <td>1.394065</td>\n",
       "      <td>0.699045</td>\n",
       "    </tr>\n",
       "    <tr>\n",
       "      <th>2</th>\n",
       "      <td>38329</td>\n",
       "      <td>batticaloa</td>\n",
       "      <td>-1.068982</td>\n",
       "      <td>-0.955614</td>\n",
       "      <td>0.149628</td>\n",
       "      <td>-0.982024</td>\n",
       "    </tr>\n",
       "    <tr>\n",
       "      <th>3</th>\n",
       "      <td>11376</td>\n",
       "      <td>batticaloa</td>\n",
       "      <td>-0.287859</td>\n",
       "      <td>-0.633636</td>\n",
       "      <td>1.346014</td>\n",
       "      <td>0.568833</td>\n",
       "    </tr>\n",
       "    <tr>\n",
       "      <th>4</th>\n",
       "      <td>12410</td>\n",
       "      <td>batticaloa</td>\n",
       "      <td>-0.884630</td>\n",
       "      <td>-0.873082</td>\n",
       "      <td>0.218043</td>\n",
       "      <td>-0.800712</td>\n",
       "    </tr>\n",
       "  </tbody>\n",
       "</table>\n",
       "</div>"
      ],
      "text/plain": [
       "   Customer_ID outlet_city  luxury_sales  fresh_sales  dry_sales  total_sales\n",
       "0        33574  batticaloa      0.756569    -0.257052   2.300097     2.020720\n",
       "1        10089  batticaloa     -0.208718    -0.557303   1.394065     0.699045\n",
       "2        38329  batticaloa     -1.068982    -0.955614   0.149628    -0.982024\n",
       "3        11376  batticaloa     -0.287859    -0.633636   1.346014     0.568833\n",
       "4        12410  batticaloa     -0.884630    -0.873082   0.218043    -0.800712"
      ]
     },
     "execution_count": 30,
     "metadata": {},
     "output_type": "execute_result"
    }
   ],
   "source": [
    "df.head()"
   ]
  },
  {
   "cell_type": "code",
   "execution_count": 31,
   "id": "642eb85c",
   "metadata": {},
   "outputs": [],
   "source": [
    "# Define the mapping dictionary\n",
    "#mapping = {'Urban': 0, 'Suburban': 1}\n",
    "# Encode the 'Season' column\n",
    "#df['Council'] = df['Council'].map(mapping)"
   ]
  },
  {
   "cell_type": "code",
   "execution_count": 32,
   "id": "dbe2d344",
   "metadata": {},
   "outputs": [
    {
     "data": {
      "text/plain": [
       "(40749, 6)"
      ]
     },
     "execution_count": 32,
     "metadata": {},
     "output_type": "execute_result"
    }
   ],
   "source": [
    "df.shape"
   ]
  },
  {
   "cell_type": "code",
   "execution_count": 33,
   "id": "49e65168",
   "metadata": {},
   "outputs": [
    {
     "data": {
      "text/html": [
       "<div>\n",
       "<style scoped>\n",
       "    .dataframe tbody tr th:only-of-type {\n",
       "        vertical-align: middle;\n",
       "    }\n",
       "\n",
       "    .dataframe tbody tr th {\n",
       "        vertical-align: top;\n",
       "    }\n",
       "\n",
       "    .dataframe thead th {\n",
       "        text-align: right;\n",
       "    }\n",
       "</style>\n",
       "<table border=\"1\" class=\"dataframe\">\n",
       "  <thead>\n",
       "    <tr style=\"text-align: right;\">\n",
       "      <th></th>\n",
       "      <th>Customer_ID</th>\n",
       "      <th>outlet_city</th>\n",
       "      <th>luxury_sales</th>\n",
       "      <th>fresh_sales</th>\n",
       "      <th>dry_sales</th>\n",
       "      <th>total_sales</th>\n",
       "    </tr>\n",
       "  </thead>\n",
       "  <tbody>\n",
       "    <tr>\n",
       "      <th>0</th>\n",
       "      <td>33574</td>\n",
       "      <td>batticaloa</td>\n",
       "      <td>0.756569</td>\n",
       "      <td>-0.257052</td>\n",
       "      <td>2.300097</td>\n",
       "      <td>2.020720</td>\n",
       "    </tr>\n",
       "    <tr>\n",
       "      <th>1</th>\n",
       "      <td>10089</td>\n",
       "      <td>batticaloa</td>\n",
       "      <td>-0.208718</td>\n",
       "      <td>-0.557303</td>\n",
       "      <td>1.394065</td>\n",
       "      <td>0.699045</td>\n",
       "    </tr>\n",
       "    <tr>\n",
       "      <th>2</th>\n",
       "      <td>38329</td>\n",
       "      <td>batticaloa</td>\n",
       "      <td>-1.068982</td>\n",
       "      <td>-0.955614</td>\n",
       "      <td>0.149628</td>\n",
       "      <td>-0.982024</td>\n",
       "    </tr>\n",
       "    <tr>\n",
       "      <th>3</th>\n",
       "      <td>11376</td>\n",
       "      <td>batticaloa</td>\n",
       "      <td>-0.287859</td>\n",
       "      <td>-0.633636</td>\n",
       "      <td>1.346014</td>\n",
       "      <td>0.568833</td>\n",
       "    </tr>\n",
       "    <tr>\n",
       "      <th>4</th>\n",
       "      <td>12410</td>\n",
       "      <td>batticaloa</td>\n",
       "      <td>-0.884630</td>\n",
       "      <td>-0.873082</td>\n",
       "      <td>0.218043</td>\n",
       "      <td>-0.800712</td>\n",
       "    </tr>\n",
       "  </tbody>\n",
       "</table>\n",
       "</div>"
      ],
      "text/plain": [
       "   Customer_ID outlet_city  luxury_sales  fresh_sales  dry_sales  total_sales\n",
       "0        33574  batticaloa      0.756569    -0.257052   2.300097     2.020720\n",
       "1        10089  batticaloa     -0.208718    -0.557303   1.394065     0.699045\n",
       "2        38329  batticaloa     -1.068982    -0.955614   0.149628    -0.982024\n",
       "3        11376  batticaloa     -0.287859    -0.633636   1.346014     0.568833\n",
       "4        12410  batticaloa     -0.884630    -0.873082   0.218043    -0.800712"
      ]
     },
     "execution_count": 33,
     "metadata": {},
     "output_type": "execute_result"
    }
   ],
   "source": [
    "df.head()"
   ]
  },
  {
   "cell_type": "code",
   "execution_count": 34,
   "id": "1482e68f",
   "metadata": {},
   "outputs": [],
   "source": [
    "#df.drop(columns=['outlet_city'], inplace=True)"
   ]
  },
  {
   "cell_type": "code",
   "execution_count": 35,
   "id": "f9abecc9",
   "metadata": {},
   "outputs": [
    {
     "data": {
      "text/html": [
       "<div>\n",
       "<style scoped>\n",
       "    .dataframe tbody tr th:only-of-type {\n",
       "        vertical-align: middle;\n",
       "    }\n",
       "\n",
       "    .dataframe tbody tr th {\n",
       "        vertical-align: top;\n",
       "    }\n",
       "\n",
       "    .dataframe thead th {\n",
       "        text-align: right;\n",
       "    }\n",
       "</style>\n",
       "<table border=\"1\" class=\"dataframe\">\n",
       "  <thead>\n",
       "    <tr style=\"text-align: right;\">\n",
       "      <th></th>\n",
       "      <th>Customer_ID</th>\n",
       "      <th>outlet_city</th>\n",
       "      <th>luxury_sales</th>\n",
       "      <th>fresh_sales</th>\n",
       "      <th>dry_sales</th>\n",
       "      <th>total_sales</th>\n",
       "    </tr>\n",
       "  </thead>\n",
       "  <tbody>\n",
       "    <tr>\n",
       "      <th>0</th>\n",
       "      <td>33574</td>\n",
       "      <td>batticaloa</td>\n",
       "      <td>0.756569</td>\n",
       "      <td>-0.257052</td>\n",
       "      <td>2.300097</td>\n",
       "      <td>2.020720</td>\n",
       "    </tr>\n",
       "    <tr>\n",
       "      <th>1</th>\n",
       "      <td>10089</td>\n",
       "      <td>batticaloa</td>\n",
       "      <td>-0.208718</td>\n",
       "      <td>-0.557303</td>\n",
       "      <td>1.394065</td>\n",
       "      <td>0.699045</td>\n",
       "    </tr>\n",
       "    <tr>\n",
       "      <th>2</th>\n",
       "      <td>38329</td>\n",
       "      <td>batticaloa</td>\n",
       "      <td>-1.068982</td>\n",
       "      <td>-0.955614</td>\n",
       "      <td>0.149628</td>\n",
       "      <td>-0.982024</td>\n",
       "    </tr>\n",
       "    <tr>\n",
       "      <th>3</th>\n",
       "      <td>11376</td>\n",
       "      <td>batticaloa</td>\n",
       "      <td>-0.287859</td>\n",
       "      <td>-0.633636</td>\n",
       "      <td>1.346014</td>\n",
       "      <td>0.568833</td>\n",
       "    </tr>\n",
       "    <tr>\n",
       "      <th>4</th>\n",
       "      <td>12410</td>\n",
       "      <td>batticaloa</td>\n",
       "      <td>-0.884630</td>\n",
       "      <td>-0.873082</td>\n",
       "      <td>0.218043</td>\n",
       "      <td>-0.800712</td>\n",
       "    </tr>\n",
       "  </tbody>\n",
       "</table>\n",
       "</div>"
      ],
      "text/plain": [
       "   Customer_ID outlet_city  luxury_sales  fresh_sales  dry_sales  total_sales\n",
       "0        33574  batticaloa      0.756569    -0.257052   2.300097     2.020720\n",
       "1        10089  batticaloa     -0.208718    -0.557303   1.394065     0.699045\n",
       "2        38329  batticaloa     -1.068982    -0.955614   0.149628    -0.982024\n",
       "3        11376  batticaloa     -0.287859    -0.633636   1.346014     0.568833\n",
       "4        12410  batticaloa     -0.884630    -0.873082   0.218043    -0.800712"
      ]
     },
     "execution_count": 35,
     "metadata": {},
     "output_type": "execute_result"
    }
   ],
   "source": [
    "df.head()"
   ]
  },
  {
   "cell_type": "code",
   "execution_count": 36,
   "id": "d25bbdfc",
   "metadata": {},
   "outputs": [],
   "source": [
    "df = pd.get_dummies(df, columns=['outlet_city'])"
   ]
  },
  {
   "cell_type": "code",
   "execution_count": 37,
   "id": "3e6ea1e4",
   "metadata": {},
   "outputs": [
    {
     "data": {
      "text/plain": [
       "(40749, 27)"
      ]
     },
     "execution_count": 37,
     "metadata": {},
     "output_type": "execute_result"
    }
   ],
   "source": [
    "df.shape"
   ]
  },
  {
   "cell_type": "code",
   "execution_count": 38,
   "id": "b5a11662",
   "metadata": {},
   "outputs": [
    {
     "data": {
      "text/html": [
       "<div>\n",
       "<style scoped>\n",
       "    .dataframe tbody tr th:only-of-type {\n",
       "        vertical-align: middle;\n",
       "    }\n",
       "\n",
       "    .dataframe tbody tr th {\n",
       "        vertical-align: top;\n",
       "    }\n",
       "\n",
       "    .dataframe thead th {\n",
       "        text-align: right;\n",
       "    }\n",
       "</style>\n",
       "<table border=\"1\" class=\"dataframe\">\n",
       "  <thead>\n",
       "    <tr style=\"text-align: right;\">\n",
       "      <th></th>\n",
       "      <th>Customer_ID</th>\n",
       "      <th>luxury_sales</th>\n",
       "      <th>fresh_sales</th>\n",
       "      <th>dry_sales</th>\n",
       "      <th>total_sales</th>\n",
       "      <th>outlet_city_anuradhapura</th>\n",
       "      <th>outlet_city_batticaloa</th>\n",
       "      <th>outlet_city_colombo</th>\n",
       "      <th>outlet_city_dehiwala-mount lavinia</th>\n",
       "      <th>outlet_city_galle</th>\n",
       "      <th>...</th>\n",
       "      <th>outlet_city_kelaniya</th>\n",
       "      <th>outlet_city_kotte</th>\n",
       "      <th>outlet_city_madawachiya</th>\n",
       "      <th>outlet_city_moratuwa</th>\n",
       "      <th>outlet_city_negombo</th>\n",
       "      <th>outlet_city_nuwara eliya</th>\n",
       "      <th>outlet_city_panadura</th>\n",
       "      <th>outlet_city_peliyagoda</th>\n",
       "      <th>outlet_city_trincomalee</th>\n",
       "      <th>outlet_city_wattala</th>\n",
       "    </tr>\n",
       "  </thead>\n",
       "  <tbody>\n",
       "    <tr>\n",
       "      <th>0</th>\n",
       "      <td>33574</td>\n",
       "      <td>0.756569</td>\n",
       "      <td>-0.257052</td>\n",
       "      <td>2.300097</td>\n",
       "      <td>2.020720</td>\n",
       "      <td>False</td>\n",
       "      <td>True</td>\n",
       "      <td>False</td>\n",
       "      <td>False</td>\n",
       "      <td>False</td>\n",
       "      <td>...</td>\n",
       "      <td>False</td>\n",
       "      <td>False</td>\n",
       "      <td>False</td>\n",
       "      <td>False</td>\n",
       "      <td>False</td>\n",
       "      <td>False</td>\n",
       "      <td>False</td>\n",
       "      <td>False</td>\n",
       "      <td>False</td>\n",
       "      <td>False</td>\n",
       "    </tr>\n",
       "    <tr>\n",
       "      <th>1</th>\n",
       "      <td>10089</td>\n",
       "      <td>-0.208718</td>\n",
       "      <td>-0.557303</td>\n",
       "      <td>1.394065</td>\n",
       "      <td>0.699045</td>\n",
       "      <td>False</td>\n",
       "      <td>True</td>\n",
       "      <td>False</td>\n",
       "      <td>False</td>\n",
       "      <td>False</td>\n",
       "      <td>...</td>\n",
       "      <td>False</td>\n",
       "      <td>False</td>\n",
       "      <td>False</td>\n",
       "      <td>False</td>\n",
       "      <td>False</td>\n",
       "      <td>False</td>\n",
       "      <td>False</td>\n",
       "      <td>False</td>\n",
       "      <td>False</td>\n",
       "      <td>False</td>\n",
       "    </tr>\n",
       "    <tr>\n",
       "      <th>2</th>\n",
       "      <td>38329</td>\n",
       "      <td>-1.068982</td>\n",
       "      <td>-0.955614</td>\n",
       "      <td>0.149628</td>\n",
       "      <td>-0.982024</td>\n",
       "      <td>False</td>\n",
       "      <td>True</td>\n",
       "      <td>False</td>\n",
       "      <td>False</td>\n",
       "      <td>False</td>\n",
       "      <td>...</td>\n",
       "      <td>False</td>\n",
       "      <td>False</td>\n",
       "      <td>False</td>\n",
       "      <td>False</td>\n",
       "      <td>False</td>\n",
       "      <td>False</td>\n",
       "      <td>False</td>\n",
       "      <td>False</td>\n",
       "      <td>False</td>\n",
       "      <td>False</td>\n",
       "    </tr>\n",
       "    <tr>\n",
       "      <th>3</th>\n",
       "      <td>11376</td>\n",
       "      <td>-0.287859</td>\n",
       "      <td>-0.633636</td>\n",
       "      <td>1.346014</td>\n",
       "      <td>0.568833</td>\n",
       "      <td>False</td>\n",
       "      <td>True</td>\n",
       "      <td>False</td>\n",
       "      <td>False</td>\n",
       "      <td>False</td>\n",
       "      <td>...</td>\n",
       "      <td>False</td>\n",
       "      <td>False</td>\n",
       "      <td>False</td>\n",
       "      <td>False</td>\n",
       "      <td>False</td>\n",
       "      <td>False</td>\n",
       "      <td>False</td>\n",
       "      <td>False</td>\n",
       "      <td>False</td>\n",
       "      <td>False</td>\n",
       "    </tr>\n",
       "    <tr>\n",
       "      <th>4</th>\n",
       "      <td>12410</td>\n",
       "      <td>-0.884630</td>\n",
       "      <td>-0.873082</td>\n",
       "      <td>0.218043</td>\n",
       "      <td>-0.800712</td>\n",
       "      <td>False</td>\n",
       "      <td>True</td>\n",
       "      <td>False</td>\n",
       "      <td>False</td>\n",
       "      <td>False</td>\n",
       "      <td>...</td>\n",
       "      <td>False</td>\n",
       "      <td>False</td>\n",
       "      <td>False</td>\n",
       "      <td>False</td>\n",
       "      <td>False</td>\n",
       "      <td>False</td>\n",
       "      <td>False</td>\n",
       "      <td>False</td>\n",
       "      <td>False</td>\n",
       "      <td>False</td>\n",
       "    </tr>\n",
       "  </tbody>\n",
       "</table>\n",
       "<p>5 rows × 27 columns</p>\n",
       "</div>"
      ],
      "text/plain": [
       "   Customer_ID  luxury_sales  fresh_sales  dry_sales  total_sales  \\\n",
       "0        33574      0.756569    -0.257052   2.300097     2.020720   \n",
       "1        10089     -0.208718    -0.557303   1.394065     0.699045   \n",
       "2        38329     -1.068982    -0.955614   0.149628    -0.982024   \n",
       "3        11376     -0.287859    -0.633636   1.346014     0.568833   \n",
       "4        12410     -0.884630    -0.873082   0.218043    -0.800712   \n",
       "\n",
       "   outlet_city_anuradhapura  outlet_city_batticaloa  outlet_city_colombo  \\\n",
       "0                     False                    True                False   \n",
       "1                     False                    True                False   \n",
       "2                     False                    True                False   \n",
       "3                     False                    True                False   \n",
       "4                     False                    True                False   \n",
       "\n",
       "   outlet_city_dehiwala-mount lavinia  outlet_city_galle  ...  \\\n",
       "0                               False              False  ...   \n",
       "1                               False              False  ...   \n",
       "2                               False              False  ...   \n",
       "3                               False              False  ...   \n",
       "4                               False              False  ...   \n",
       "\n",
       "   outlet_city_kelaniya  outlet_city_kotte  outlet_city_madawachiya  \\\n",
       "0                 False              False                    False   \n",
       "1                 False              False                    False   \n",
       "2                 False              False                    False   \n",
       "3                 False              False                    False   \n",
       "4                 False              False                    False   \n",
       "\n",
       "   outlet_city_moratuwa  outlet_city_negombo  outlet_city_nuwara eliya  \\\n",
       "0                 False                False                     False   \n",
       "1                 False                False                     False   \n",
       "2                 False                False                     False   \n",
       "3                 False                False                     False   \n",
       "4                 False                False                     False   \n",
       "\n",
       "   outlet_city_panadura  outlet_city_peliyagoda  outlet_city_trincomalee  \\\n",
       "0                 False                   False                    False   \n",
       "1                 False                   False                    False   \n",
       "2                 False                   False                    False   \n",
       "3                 False                   False                    False   \n",
       "4                 False                   False                    False   \n",
       "\n",
       "   outlet_city_wattala  \n",
       "0                False  \n",
       "1                False  \n",
       "2                False  \n",
       "3                False  \n",
       "4                False  \n",
       "\n",
       "[5 rows x 27 columns]"
      ]
     },
     "execution_count": 38,
     "metadata": {},
     "output_type": "execute_result"
    }
   ],
   "source": [
    "df.head()"
   ]
  },
  {
   "cell_type": "code",
   "execution_count": 39,
   "id": "aa18c8d4",
   "metadata": {},
   "outputs": [],
   "source": [
    "df.to_csv('./data/test_processed.csv',index=False)"
   ]
  },
  {
   "cell_type": "markdown",
   "id": "f49fe40a-c524-4bf4-8620-8a426849e1be",
   "metadata": {},
   "source": [
    "#### Pre-Processed Testing Dataset is Saved."
   ]
  }
 ],
 "metadata": {
  "kernelspec": {
   "display_name": "Python 3 (ipykernel)",
   "language": "python",
   "name": "python3"
  },
  "language_info": {
   "codemirror_mode": {
    "name": "ipython",
    "version": 3
   },
   "file_extension": ".py",
   "mimetype": "text/x-python",
   "name": "python",
   "nbconvert_exporter": "python",
   "pygments_lexer": "ipython3",
   "version": "3.11.5"
  }
 },
 "nbformat": 4,
 "nbformat_minor": 5
}
